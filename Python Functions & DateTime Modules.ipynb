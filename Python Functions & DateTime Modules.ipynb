{
 "cells": [
  {
   "cell_type": "code",
   "execution_count": null,
   "id": "54c4770d",
   "metadata": {},
   "outputs": [],
   "source": [
    "name1 = input(\"Enter the first name: \").lower().replace(\" \", \"\")\n",
    "name2 = input(\"Enter the second name: \").lower().replace(\" \", \"\")\n",
    "\n",
    "# Combine names\n",
    "combined_name = name1 + name2\n",
    "\n",
    "# Create a set of unique letters that appear only once\n",
    "unique_letters = [letter for letter in combined_name if combined_name.count(letter) == 1]\n",
    "\n",
    "# Count the remaining unique letters\n",
    "count = len(unique_letters)\n",
    "\n",
    "# FLAMES list\n",
    "flames = [\"F\", \"L\", \"A\", \"M\", \"E\", \"S\"]\n",
    "\n",
    "# Determine the relationship using the count\n",
    "index = 0\n",
    "while len(flames) > 1:\n",
    "    index = (index + count - 1) % len(flames)\n",
    "    flames.pop(index)\n",
    "\n",
    "# Output the result\n",
    "relationship = flames[0]\n",
    "\n",
    "result = {\n",
    "    \"F\": \"Friends\",\n",
    "    \"L\": \"Lovers\",\n",
    "    \"A\": \"Affectionate\",\n",
    "    \"M\": \"Marriage\",\n",
    "    \"E\": \"Enemies\",\n",
    "    \"S\": \"Siblings\"\n",
    "}\n",
    "\n",
    "print(\"Relationship:\", result[relationship])"
   ]
  },
  {
   "cell_type": "markdown",
   "id": "47a29f68",
   "metadata": {},
   "source": [
    "### Lambda Function:\n",
    "\n",
    "lambda arguments : expression"
   ]
  },
  {
   "cell_type": "code",
   "execution_count": null,
   "id": "031cae92",
   "metadata": {},
   "outputs": [],
   "source": [
    "add = lambda x, y: x + y\n",
    "print(add(2, 3))"
   ]
  },
  {
   "cell_type": "code",
   "execution_count": null,
   "id": "ae702b0e",
   "metadata": {},
   "outputs": [],
   "source": [
    "my_dict = {'apple': 5, 'banana': 2, 'orange': 7, 'grape': 3}\n",
    "\n",
    "# Sort the dictionary by its values\n",
    "sorted_dict = dict(sorted(my_dict.items(), key=lambda item: item[1], reverse=True))\n",
    "\n",
    "print(sorted_dict)"
   ]
  },
  {
   "cell_type": "code",
   "execution_count": null,
   "id": "2b6ab6dc",
   "metadata": {},
   "outputs": [],
   "source": [
    "Max = lambda a, b : a if(a > b) else b\n",
    "print(Max(1, 2))"
   ]
  },
  {
   "cell_type": "markdown",
   "id": "79290ef1",
   "metadata": {},
   "source": [
    "## Higher Order Functions:-\n",
    "Function if it contains other functions as a parameter or returns a function as an output"
   ]
  },
  {
   "cell_type": "markdown",
   "id": "9303d833",
   "metadata": {},
   "source": [
    "### Map Function:\n",
    "Applies a given function to every item of an iterable (like a list) and returns a map object \n",
    "\n",
    "map(fun, iter)"
   ]
  },
  {
   "cell_type": "code",
   "execution_count": null,
   "id": "ea54bcc5",
   "metadata": {},
   "outputs": [],
   "source": [
    "numbers = [1, 2, 3, 4]\n",
    "squared = map(lambda x: x ** 2, numbers)\n",
    "print(list(squared))"
   ]
  },
  {
   "cell_type": "markdown",
   "id": "db39bb75",
   "metadata": {},
   "source": [
    "### Reduce Function:\n",
    "Applies a function cumulatively to the items of an iterable, from left to right, reducing the iterable to a single value.\n",
    "\n",
    "reduce(func, iterable)"
   ]
  },
  {
   "cell_type": "code",
   "execution_count": null,
   "id": "e748c6ae",
   "metadata": {},
   "outputs": [],
   "source": [
    "from functools import reduce\n",
    "\n",
    "numbers = [1, 2, 3, 4]\n",
    "product = reduce(lambda x, y: x * y, numbers)\n",
    "print(product)"
   ]
  },
  {
   "cell_type": "markdown",
   "id": "57b96265",
   "metadata": {},
   "source": [
    "### Filter Function:\n",
    "Filters the elements of an iterable based on a condition provided by a function. It returns an iterator with elements that satisfy the condition - TRUE.\n",
    "\n",
    "reduce(func, iterable)"
   ]
  },
  {
   "cell_type": "code",
   "execution_count": null,
   "id": "d4f0cd59",
   "metadata": {},
   "outputs": [],
   "source": [
    "numbers = [1, 2, 3, 4, 5, 6]\n",
    "even_numbers = filter(lambda x: x % 2 == 0, numbers)\n",
    "print(list(even_numbers))"
   ]
  },
  {
   "cell_type": "code",
   "execution_count": null,
   "id": "4b284923",
   "metadata": {},
   "outputs": [],
   "source": [
    "#Ques 1\n",
    "\n",
    "f = lambda x: (x, x ** 2)\n",
    "result = f(4)\n",
    "print(result)"
   ]
  },
  {
   "cell_type": "code",
   "execution_count": null,
   "id": "6b6c1301",
   "metadata": {},
   "outputs": [],
   "source": [
    "#Ques 2\n",
    "\n",
    "numbers = [0, 1, 2, 3, 4]\n",
    "result = filter(lambda x: x, numbers)\n",
    "print(list(result))"
   ]
  },
  {
   "cell_type": "code",
   "execution_count": null,
   "id": "9482b166",
   "metadata": {},
   "outputs": [],
   "source": [
    "# Ques 3\n",
    "\n",
    "from functools import reduce\n",
    "\n",
    "numbers = [1, 2, 3, 4]\n",
    "result = reduce(lambda x, y: x + y, filter(lambda x: x % 2 == 0, map(lambda x: x ** 2, numbers)))\n",
    "print(result)"
   ]
  },
  {
   "cell_type": "markdown",
   "id": "810af6a7",
   "metadata": {},
   "source": [
    "# Python Functions:-"
   ]
  },
  {
   "cell_type": "code",
   "execution_count": null,
   "id": "7e1de521",
   "metadata": {},
   "outputs": [],
   "source": [
    "# defining a function\n",
    "def function_name(parameters):\n",
    "    return value\n",
    "\n",
    "# calling a function\n",
    "function_name(arguments)"
   ]
  },
  {
   "cell_type": "code",
   "execution_count": null,
   "id": "c0b55f5a",
   "metadata": {},
   "outputs": [],
   "source": [
    "def greet(name):\n",
    "    return f\"Hello, {name}!\"\n",
    "\n",
    "print(greet(\"Khushi\"))"
   ]
  },
  {
   "cell_type": "markdown",
   "id": "9d5ddced",
   "metadata": {},
   "source": [
    "### Types of functions:"
   ]
  },
  {
   "cell_type": "markdown",
   "id": "693fe2c9",
   "metadata": {},
   "source": [
    "#### 1. Built-in Functions"
   ]
  },
  {
   "cell_type": "code",
   "execution_count": null,
   "id": "b2b6b093",
   "metadata": {},
   "outputs": [],
   "source": [
    "print(len(\"hello\"))"
   ]
  },
  {
   "cell_type": "markdown",
   "id": "c9864b56",
   "metadata": {},
   "source": [
    "#### 2. User-defined Functions"
   ]
  },
  {
   "cell_type": "code",
   "execution_count": null,
   "id": "f7867a65",
   "metadata": {},
   "outputs": [],
   "source": [
    "def add(a, b):\n",
    "    return a + b\n",
    "\n",
    "print(add(5, 3))"
   ]
  },
  {
   "cell_type": "markdown",
   "id": "86761dad",
   "metadata": {},
   "source": [
    "### Arguments and Parameters:"
   ]
  },
  {
   "cell_type": "markdown",
   "id": "9291eebe",
   "metadata": {},
   "source": [
    "#### 1. Positional Arguments\n",
    "Arguments are assigned to parameters based on their position in the function call."
   ]
  },
  {
   "cell_type": "code",
   "execution_count": null,
   "id": "84f3c103",
   "metadata": {},
   "outputs": [],
   "source": [
    "def subtract(a, b):\n",
    "    return a - b\n",
    "\n",
    "print(subtract(10, 5))"
   ]
  },
  {
   "cell_type": "markdown",
   "id": "738cb48f",
   "metadata": {},
   "source": [
    "#### 2. Keyword Arguments\n",
    "Arguments are passed in the form of parameter=value, allowing you to specify arguments out of order."
   ]
  },
  {
   "cell_type": "code",
   "execution_count": null,
   "id": "46e1c2f5",
   "metadata": {},
   "outputs": [],
   "source": [
    "def divide(a, b):\n",
    "    return a / b\n",
    "\n",
    "print(divide(b=4, a=8))"
   ]
  },
  {
   "cell_type": "markdown",
   "id": "9d6f8cff",
   "metadata": {},
   "source": [
    "#### 3. Default Arguments\n",
    "If no argument is passed, the default value is used."
   ]
  },
  {
   "cell_type": "code",
   "execution_count": null,
   "id": "fb633a6c",
   "metadata": {},
   "outputs": [],
   "source": [
    "def power(base, exponent=2):\n",
    "    return base ** exponent\n",
    "\n",
    "print(power(5))\n",
    "print(power(5, 3))"
   ]
  },
  {
   "cell_type": "markdown",
   "id": "85f98e87",
   "metadata": {},
   "source": [
    "#### 4. *args (Non-keyword Arguments)"
   ]
  },
  {
   "cell_type": "code",
   "execution_count": null,
   "id": "7cb0474c",
   "metadata": {},
   "outputs": [],
   "source": [
    "def sum_all(*args):\n",
    "    return sum(args)\n",
    "\n",
    "print(sum_all(1, 2, 3))  #print(sum((1,2,3)))\n",
    "print(sum_all(5, 10)) "
   ]
  },
  {
   "cell_type": "code",
   "execution_count": null,
   "id": "e5c4e75a",
   "metadata": {},
   "outputs": [],
   "source": [
    "def my_function(*kids): #kid = (\"Emil\", \"Tobias\", \"Linus\")\n",
    "    print(\"The youngest child is \" + kids[-1])\n",
    "\n",
    "my_function(\"Emil\", \"Tobias\", \"Linus\")"
   ]
  },
  {
   "cell_type": "markdown",
   "id": "95ad66d4",
   "metadata": {},
   "source": [
    "#### 5. **kwargs (Keyword Arguments)"
   ]
  },
  {
   "cell_type": "code",
   "execution_count": null,
   "id": "4dfbd3b9",
   "metadata": {},
   "outputs": [],
   "source": [
    "def my_function(**kid): #kid = {'fname': 'Tobias', 'lname': 'Refsnes'}\n",
    "    print(\"His last name is \" + kid[\"lname\"])\n",
    "\n",
    "my_function(fname = \"Nick\", lname = \"Jee\") "
   ]
  },
  {
   "cell_type": "markdown",
   "id": "5c11fdbc",
   "metadata": {},
   "source": [
    "### Return Statement\n",
    "Statement used to return a value from a function"
   ]
  },
  {
   "cell_type": "code",
   "execution_count": null,
   "id": "5a30641c",
   "metadata": {},
   "outputs": [],
   "source": [
    "def multiply(a, b):\n",
    "    return a * b\n",
    "\n",
    "result = multiply(5, 3)\n",
    "print(result)"
   ]
  },
  {
   "cell_type": "code",
   "execution_count": null,
   "id": "5b7daf97",
   "metadata": {},
   "outputs": [],
   "source": [
    "def no_return_function():\n",
    "    print(\"This function doesn't return anything.\")\n",
    "\n",
    "result = no_return_function()\n",
    "\n",
    "print(result) #implicitly returns None."
   ]
  },
  {
   "cell_type": "code",
   "execution_count": null,
   "id": "d0e6ca9b",
   "metadata": {
    "scrolled": true
   },
   "outputs": [],
   "source": [
    "def no_return_function():\n",
    "\n",
    "    \n",
    "result = no_return_function()\n",
    "\n",
    "print(result) #implicitly returns None."
   ]
  },
  {
   "cell_type": "markdown",
   "id": "5122067e",
   "metadata": {},
   "source": [
    "### Docstrings:\n",
    "Multi-line comments that describe what a function does"
   ]
  },
  {
   "cell_type": "code",
   "execution_count": null,
   "id": "a82c402f",
   "metadata": {},
   "outputs": [],
   "source": [
    "def greet(name):\n",
    "    \"\"\"\n",
    "    This function greets the person with the provided name.\n",
    "    \"\"\"\n",
    "    return f\"Hello, {name}!\"\n",
    "\n",
    "print(greet(\"Jaan\"))\n",
    "print(greet.__doc__)"
   ]
  },
  {
   "cell_type": "markdown",
   "id": "ab675ff0",
   "metadata": {},
   "source": [
    "### Function Annotation:\n",
    "Provides metadata to function parameters and return values."
   ]
  },
  {
   "cell_type": "code",
   "execution_count": null,
   "id": "25f687c1",
   "metadata": {},
   "outputs": [],
   "source": [
    "def add(x: int, y: int) -> int:\n",
    "    return x + y\n",
    "\n",
    "print(add(8, 4))\n",
    "print(add.__annotations__)"
   ]
  },
  {
   "cell_type": "code",
   "execution_count": null,
   "id": "f81e7d18",
   "metadata": {},
   "outputs": [],
   "source": [
    "def add(x: int, y: int) -> int:\n",
    "    return x + y\n",
    "\n",
    "print(add(8.6, 4))"
   ]
  },
  {
   "cell_type": "markdown",
   "id": "23c04d5a",
   "metadata": {},
   "source": [
    "### Recursive Functions\n",
    "A function that calls itself "
   ]
  },
  {
   "cell_type": "code",
   "execution_count": null,
   "id": "cc433239",
   "metadata": {},
   "outputs": [],
   "source": [
    "def fact(n):\n",
    "    if n == 1:\n",
    "        return 1\n",
    "    return n * fact(n - 1)\n",
    "\n",
    "print(fact(5))"
   ]
  },
  {
   "cell_type": "code",
   "execution_count": null,
   "id": "f99ef13a",
   "metadata": {},
   "outputs": [],
   "source": [
    "def rec(k):\n",
    "    if(k > 0):\n",
    "        result = k + rec(k - 1)\n",
    "        print(result)\n",
    "    else:\n",
    "        result = 0\n",
    "    return result\n",
    "\n",
    "print(\"\\n\\nRecursion Example Results\")\n",
    "rec(4)"
   ]
  },
  {
   "cell_type": "code",
   "execution_count": null,
   "id": "9dbb12e5",
   "metadata": {},
   "outputs": [],
   "source": [
    "# Ques1\n",
    "\n",
    "def append_to_list(value, lst=[]):\n",
    "    lst.append(value)\n",
    "    return lst\n",
    "\n",
    "print(append_to_list(1))\n",
    "print(append_to_list(2))\n",
    "print(append_to_list(3,[767,68]))"
   ]
  },
  {
   "cell_type": "code",
   "execution_count": null,
   "id": "27083869",
   "metadata": {},
   "outputs": [],
   "source": [
    "#ques2\n",
    "\n",
    "def func(a, b=10, *args, **kwargs):\n",
    "    print(a, b, args, kwargs)\n",
    "\n",
    "func(1, 2, 3, 4, x=5, y=6)"
   ]
  },
  {
   "cell_type": "code",
   "execution_count": null,
   "id": "8d4b3375",
   "metadata": {},
   "outputs": [],
   "source": [
    "# Ques3\n",
    "\n",
    "def outer(x):\n",
    "    return lambda y: x + y\n",
    "\n",
    "f = outer(10)\n",
    "print(f(5))"
   ]
  },
  {
   "cell_type": "code",
   "execution_count": null,
   "id": "e9a03496",
   "metadata": {},
   "outputs": [],
   "source": [
    "#Ques4\n",
    "\n",
    "def check_value(val):\n",
    "    if val > 10:\n",
    "        return \"Greater\"\n",
    "    elif val == 10:\n",
    "        return \"Equal\"\n",
    "    print(\"Less\")\n",
    "\n",
    "result = check_value(5)\n",
    "print(result)"
   ]
  },
  {
   "cell_type": "code",
   "execution_count": null,
   "id": "b5a8b570",
   "metadata": {},
   "outputs": [],
   "source": [
    "#Ques5\n",
    "\n",
    "def say_hello():\n",
    "    return \"Hello\"\n",
    "\n",
    "greet = say_hello\n",
    "del say_hello\n",
    "print(greet())\n",
    "print(say_hello())"
   ]
  },
  {
   "cell_type": "code",
   "execution_count": null,
   "id": "25167593",
   "metadata": {},
   "outputs": [],
   "source": [
    "#Ques6\n",
    "\n",
    "def countdown(n):\n",
    "    if n == 0:\n",
    "        print(\"Blastoff!\")\n",
    "    else:\n",
    "        print(n)\n",
    "        countdown(n - 1)\n",
    "        print(n)\n",
    "\n",
    "countdown(3)"
   ]
  },
  {
   "cell_type": "code",
   "execution_count": null,
   "id": "644e9ce2",
   "metadata": {},
   "outputs": [],
   "source": [
    "#Ques7\n",
    "\n",
    "def add_item(item, my_list=[]):\n",
    "    my_list.append(item)\n",
    "    return my_list\n",
    "\n",
    "list1 = add_item(1)\n",
    "print(list1)\n",
    "list2 = add_item(2, [])\n",
    "print(list2)\n",
    "list3 = add_item(3)\n",
    "print(list3)\n",
    "list4 = add_item(4, [])\n",
    "print(list4)"
   ]
  },
  {
   "cell_type": "code",
   "execution_count": null,
   "id": "42422f40",
   "metadata": {},
   "outputs": [],
   "source": [
    "#Ques8\n",
    "\n",
    "def outer_function():\n",
    "    x = 10\n",
    "    def inner_function():\n",
    "        x = 20\n",
    "    inner_function()\n",
    "    print(x)\n",
    "\n",
    "outer_function()"
   ]
  },
  {
   "cell_type": "markdown",
   "id": "c51f3cb1",
   "metadata": {},
   "source": [
    "# Date and Time Modules:"
   ]
  },
  {
   "cell_type": "markdown",
   "id": "5f772d6a",
   "metadata": {},
   "source": [
    "## 1. datetime Module:\n",
    "Supplies classes for manipulating dates and times"
   ]
  },
  {
   "cell_type": "code",
   "execution_count": null,
   "id": "62143129",
   "metadata": {},
   "outputs": [],
   "source": [
    "import datetime"
   ]
  },
  {
   "cell_type": "markdown",
   "id": "e318deed",
   "metadata": {},
   "source": [
    "#### 1.1. date class:\n",
    "represents a date (year, month, day)."
   ]
  },
  {
   "cell_type": "code",
   "execution_count": null,
   "id": "21b1441e",
   "metadata": {},
   "outputs": [],
   "source": [
    "from datetime import date\n",
    "\n",
    "# Get today's date\n",
    "today = date.today()\n",
    "print(\"Today's date:\", today)\n",
    "\n",
    "# Create a specific date\n",
    "my_birthday = date(2000, 5, 20)\n",
    "print(\"Mahi's birthday:\", my_birthday)"
   ]
  },
  {
   "cell_type": "code",
   "execution_count": null,
   "id": "7a51c97c",
   "metadata": {},
   "outputs": [],
   "source": [
    "print(\"Year:\", today.year)\n",
    "print(\"Month:\", today.month)\n",
    "print(\"Day:\", today.day)"
   ]
  },
  {
   "cell_type": "code",
   "execution_count": null,
   "id": "1a3a9402",
   "metadata": {},
   "outputs": [],
   "source": [
    "# Monday is 0 and Sunday is 6\n",
    "day_of_week = today.weekday()\n",
    "print(\"Day of the week:\", day_of_week)\n",
    "\n",
    "# Alternative: Monday is 1 and Sunday is 7\n",
    "isoweekday = today.isoweekday()\n",
    "print(\"ISO weekday:\", isoweekday)"
   ]
  },
  {
   "cell_type": "markdown",
   "id": "73d5d192",
   "metadata": {},
   "source": [
    "#### 1.2. time class:\n",
    "represents time (hours, minutes, seconds, microseconds)."
   ]
  },
  {
   "cell_type": "code",
   "execution_count": null,
   "id": "12adb085",
   "metadata": {},
   "outputs": [],
   "source": [
    "from datetime import time\n",
    "\n",
    "# Create a time object\n",
    "my_time = time(14, 30, 0)\n",
    "print(\"Time:\", my_time)"
   ]
  },
  {
   "cell_type": "code",
   "execution_count": null,
   "id": "114e464b",
   "metadata": {},
   "outputs": [],
   "source": [
    "print(\"Hour:\", my_time.hour)\n",
    "print(\"Minute:\", my_time.minute)\n",
    "print(\"Second:\", my_time.second)"
   ]
  },
  {
   "cell_type": "markdown",
   "id": "0ebfc453",
   "metadata": {},
   "source": [
    "#### 1.3. datetime Class:\n",
    "Combines date and time into a single object."
   ]
  },
  {
   "cell_type": "code",
   "execution_count": null,
   "id": "a294e90a",
   "metadata": {},
   "outputs": [],
   "source": [
    "from datetime import datetime\n",
    "\n",
    "# Get current date and time\n",
    "now = datetime.now()\n",
    "print(\"Current date and time:\", now)\n",
    "\n",
    "# Create a specific datetime\n",
    "specific_datetime = datetime(2024, 9, 15, 10, 30, 0)\n",
    "print(\"Specific date and time:\", specific_datetime)"
   ]
  },
  {
   "cell_type": "code",
   "execution_count": null,
   "id": "8103aa1d",
   "metadata": {},
   "outputs": [],
   "source": [
    "print(\"Year:\", now.year)\n",
    "print(\"Month:\", now.month)\n",
    "print(\"Day:\", now.day)\n",
    "print(\"Hour:\", now.hour)\n",
    "print(\"Minute:\", now.minute)\n",
    "print(\"Second:\", now.second)"
   ]
  },
  {
   "cell_type": "markdown",
   "id": "e3dc680c",
   "metadata": {},
   "source": [
    "#### 1.4. timedelta Class\n",
    "represent the difference between two dates or times."
   ]
  },
  {
   "cell_type": "code",
   "execution_count": null,
   "id": "a0fd2b27",
   "metadata": {},
   "outputs": [],
   "source": [
    "from datetime import timedelta\n",
    "\n",
    "# Create a timedelta of 5 days\n",
    "delta = timedelta(days=5)\n",
    "print(\"Timedelta:\", delta)"
   ]
  },
  {
   "cell_type": "code",
   "execution_count": null,
   "id": "19a2fe8c",
   "metadata": {},
   "outputs": [],
   "source": [
    "# Add 5 days to today's date\n",
    "new_date = today + delta\n",
    "print(\"New date:\", new_date)\n",
    "\n",
    "# Subtract 5 days\n",
    "old_date = today - delta\n",
    "print(\"Old date:\", old_date)"
   ]
  },
  {
   "cell_type": "markdown",
   "id": "69e58987",
   "metadata": {},
   "source": [
    "#### 1.5. Formatting and Parsing Dates and Times"
   ]
  },
  {
   "cell_type": "code",
   "execution_count": null,
   "id": "aada5ac7",
   "metadata": {},
   "outputs": [],
   "source": [
    "#formats datetime objects into readable strings using the strftime function.\n",
    "\n",
    "now = datetime.now()\n",
    "print(\"Current date and time:\", now)\n",
    "\n",
    "formatted_date = now.strftime(\"%A, %d %B %Y %I:%M %p\") #%A is the full weekday name, %B is the full month name, \n",
    "                                                       #%I is the hour in 12-hour format, and %p is AM/PM.\n",
    "print(\"Formatted date and time:\", formatted_date)"
   ]
  },
  {
   "cell_type": "code",
   "execution_count": null,
   "id": "411ffb96",
   "metadata": {},
   "outputs": [],
   "source": [
    "#converts a string representing a date/time into a datetime object based on a specified format.\n",
    "\n",
    "date_string = \"2024-09-15 10\"\n",
    "parsed_date = datetime.strptime(date_string, \"%Y-%m-%d %H\")\n",
    "print(\"Parsed date:\", parsed_date)"
   ]
  },
  {
   "cell_type": "markdown",
   "id": "20c0f386",
   "metadata": {},
   "source": [
    "#### 1.6. Get Current UTC Time"
   ]
  },
  {
   "cell_type": "code",
   "execution_count": null,
   "id": "da88a329",
   "metadata": {},
   "outputs": [],
   "source": [
    "from datetime import datetime, timezone\n",
    "\n",
    "# Get the current time in UTC\n",
    "current_utc_time = datetime.now(timezone.utc)\n",
    "print(\"Current UTC Time:\", current_utc_time)"
   ]
  },
  {
   "cell_type": "markdown",
   "id": "b0b0e058",
   "metadata": {},
   "source": [
    "## 2. time Module\n",
    "\n",
    "provides functions related to time, such as fetching the current time, sleeping for a specified duration, and measuring the execution time of code."
   ]
  },
  {
   "cell_type": "code",
   "execution_count": null,
   "id": "a42e5bb6",
   "metadata": {},
   "outputs": [],
   "source": [
    "#2.1. Getting the Current Time\n",
    "\n",
    "import time\n",
    "\n",
    "# Get the current time in seconds since the epoch - The starting point of time, usually January 1, 1970, in Unix systems.\n",
    "current_time = time.time()\n",
    "print(\"Current time (epoch):\", current_time)\n",
    "\n",
    "# Convert to a readable format\n",
    "readable_time = time.ctime(current_time)\n",
    "print(\"Readable time:\", readable_time)"
   ]
  },
  {
   "cell_type": "code",
   "execution_count": null,
   "id": "ffdf8621",
   "metadata": {},
   "outputs": [],
   "source": [
    "#2.2. Sleeping for a Duration\n",
    "\n",
    "print(\"Start\")\n",
    "time.sleep(3)  # Sleep for 3 seconds\n",
    "print(\"End after 3 seconds\")"
   ]
  },
  {
   "cell_type": "code",
   "execution_count": null,
   "id": "8b2e9ad3",
   "metadata": {},
   "outputs": [],
   "source": [
    "#2.3. Measuring Execution Time\n",
    "\n",
    "start = time.time()\n",
    "\n",
    "# Some code to measure\n",
    "a = 10\n",
    "time.sleep(3)\n",
    "if a > 100:\n",
    "    print(\"if block true\")\n",
    "elif a > 50:\n",
    "    print(\"elif block true\")\n",
    "else:\n",
    "    print(\"else block is true\")\n",
    "\n",
    "end = time.time()\n",
    "print(\"Execution time:\", end - start)"
   ]
  },
  {
   "cell_type": "markdown",
   "id": "6d44db99",
   "metadata": {},
   "source": [
    "## 3. calendar Module\n",
    "provides useful functions for working with calendars."
   ]
  },
  {
   "cell_type": "code",
   "execution_count": null,
   "id": "663fcbc7",
   "metadata": {},
   "outputs": [],
   "source": [
    "#3.1. Displaying a Calendar\n",
    "\n",
    "import calendar\n",
    "\n",
    "# Print a text calendar for a specific month\n",
    "print(calendar.month(2024, 9))"
   ]
  },
  {
   "cell_type": "code",
   "execution_count": null,
   "id": "82b9d497",
   "metadata": {},
   "outputs": [],
   "source": [
    "#3.2. Checking if a Year is a Leap Year\n",
    "\n",
    "is_leap = calendar.isleap(2024)\n",
    "print(\"Is 2024 a leap year?\", is_leap)"
   ]
  },
  {
   "cell_type": "code",
   "execution_count": null,
   "id": "85f3ba21",
   "metadata": {},
   "outputs": [],
   "source": [
    "#3.3. Getting the Number of Leap Years in a Range\n",
    "\n",
    "leap_years = calendar.leapdays(2000, 2025)\n",
    "print(\"Number of leap years from 2000 to 2025:\", leap_years)"
   ]
  },
  {
   "cell_type": "markdown",
   "id": "9214bc48",
   "metadata": {},
   "source": [
    "## 4. dateutil Module\n",
    "tool for date manipulation, such as parsing various date formats and handling time zones."
   ]
  },
  {
   "cell_type": "code",
   "execution_count": null,
   "id": "22cf793a",
   "metadata": {},
   "outputs": [],
   "source": [
    "#4.1. Parsing Dates\n",
    "\n",
    "from dateutil import parser\n",
    "\n",
    "date_string = \"15th of September, 2024, 10:30 AM\"\n",
    "parsed_date = parser.parse(date_string)\n",
    "print(\"Parsed date:\", parsed_date)"
   ]
  },
  {
   "cell_type": "code",
   "execution_count": null,
   "id": "d5fe26b3",
   "metadata": {},
   "outputs": [],
   "source": [
    "#4.2. Handling Relative Dates\n",
    "\n",
    "from dateutil.relativedelta import relativedelta\n",
    "from datetime import date\n",
    "\n",
    "# Add 2 months and 5 days to today's date\n",
    "today = date.today()\n",
    "new_date = today + relativedelta(months=2, days=5)\n",
    "print(\"New date:\", new_date)"
   ]
  }
 ],
 "metadata": {
  "kernelspec": {
   "display_name": "Python 3 (ipykernel)",
   "language": "python",
   "name": "python3"
  },
  "language_info": {
   "codemirror_mode": {
    "name": "ipython",
    "version": 3
   },
   "file_extension": ".py",
   "mimetype": "text/x-python",
   "name": "python",
   "nbconvert_exporter": "python",
   "pygments_lexer": "ipython3",
   "version": "3.9.7"
  }
 },
 "nbformat": 4,
 "nbformat_minor": 5
}
