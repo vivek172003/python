{
 "cells": [
  {
   "cell_type": "markdown",
   "id": "5594ec7f",
   "metadata": {},
   "source": [
    "# Session 1 - Strings"
   ]
  },
  {
   "cell_type": "markdown",
   "id": "55622576",
   "metadata": {},
   "source": [
    "### What is String?\n",
    "\n",
    "Sequence of characters, enclosed in single, double or triple quotes"
   ]
  },
  {
   "cell_type": "markdown",
   "id": "113190a3",
   "metadata": {},
   "source": [
    "### String Creation/Syntax"
   ]
  },
  {
   "cell_type": "code",
   "execution_count": null,
   "id": "5303a5c3",
   "metadata": {
    "scrolled": true
   },
   "outputs": [],
   "source": [
    "str1 = 'Hi'\n",
    "str2 = \"Bye\""
   ]
  },
  {
   "cell_type": "code",
   "execution_count": null,
   "id": "2960cf73",
   "metadata": {},
   "outputs": [],
   "source": [
    "str3 = \"\"\"\n",
    "Hello everyone!\n",
    "This is Python Session 1 :)\n",
    "\"\"\"\n",
    "print(str3)"
   ]
  },
  {
   "cell_type": "code",
   "execution_count": null,
   "id": "4700b49a",
   "metadata": {},
   "outputs": [],
   "source": [
    "test = '''\n",
    "what if, I change\n",
    "    indentation?\n",
    "  how will the output\n",
    "          look like?\n",
    "'''\n",
    "print(test)"
   ]
  },
  {
   "cell_type": "markdown",
   "id": "7b4599ed",
   "metadata": {},
   "source": [
    "##### Do we have 'char' data type in Python"
   ]
  },
  {
   "cell_type": "code",
   "execution_count": null,
   "id": "498663ca",
   "metadata": {},
   "outputs": [],
   "source": [
    "a = 'A'\n",
    "print(type(a))"
   ]
  },
  {
   "cell_type": "code",
   "execution_count": null,
   "id": "14d603f0",
   "metadata": {
    "scrolled": true
   },
   "outputs": [],
   "source": [
    "# what if we use quotes inside quotes?\n",
    "\n",
    "check = 'Hey 'Shree' how are you?'\n",
    "print(check)"
   ]
  },
  {
   "cell_type": "code",
   "execution_count": null,
   "id": "53298366",
   "metadata": {},
   "outputs": [],
   "source": [
    "# how to resolve?\n",
    "\n",
    "#method 1:\n",
    "# check = \"Hey 'Shree' how are you?\"\n",
    "# print(check)\n",
    "\n",
    "#method 2:\n",
    "check = 'Hey \\'Shree\\' how are you?'\n",
    "print(check)"
   ]
  },
  {
   "cell_type": "markdown",
   "id": "b8e518cc",
   "metadata": {},
   "source": [
    "# String Operations:"
   ]
  },
  {
   "cell_type": "markdown",
   "id": "6af3d198",
   "metadata": {},
   "source": [
    "### 1. Concatenation"
   ]
  },
  {
   "cell_type": "code",
   "execution_count": null,
   "id": "19abe4ab",
   "metadata": {},
   "outputs": [],
   "source": [
    "str1 = 'oh'\n",
    "str2 = 'so'\n",
    "str3 = 'cute!'\n",
    "final_str = str1 + str2 + str3\n",
    "print(final_str)"
   ]
  },
  {
   "cell_type": "code",
   "execution_count": null,
   "id": "f9cf03a5",
   "metadata": {},
   "outputs": [],
   "source": [
    "str4 = '100'\n",
    "final_str = str1 + str2 + str3 + str4\n",
    "print(final_str)"
   ]
  },
  {
   "cell_type": "markdown",
   "id": "07de0e54",
   "metadata": {},
   "source": [
    "### 2. Repetition"
   ]
  },
  {
   "cell_type": "code",
   "execution_count": null,
   "id": "fd5a7805",
   "metadata": {},
   "outputs": [],
   "source": [
    "s = \"he\"\n",
    "repeated = s * 5\n",
    "print(repeated)"
   ]
  },
  {
   "cell_type": "markdown",
   "id": "64229de8",
   "metadata": {},
   "source": [
    "### 3. Indexing\n",
    "\n",
    " Accessing individual characters in a string"
   ]
  },
  {
   "cell_type": "code",
   "execution_count": null,
   "id": "f32803b1",
   "metadata": {},
   "outputs": [],
   "source": [
    "s = \"hello\"\n",
    "print(s[1]) # positive indexing\n",
    "print(s[-4]) # negative indexing"
   ]
  },
  {
   "cell_type": "markdown",
   "id": "3550fbbd",
   "metadata": {},
   "source": [
    "### 4. Slicing\n",
    "\n",
    " Accessing range of characters in a string (substring)"
   ]
  },
  {
   "cell_type": "code",
   "execution_count": null,
   "id": "86c58b8b",
   "metadata": {},
   "outputs": [],
   "source": [
    "s = \"python\"\n",
    "s[2:4]"
   ]
  },
  {
   "cell_type": "code",
   "execution_count": null,
   "id": "2cb267c8",
   "metadata": {},
   "outputs": [],
   "source": [
    "s[:5]"
   ]
  },
  {
   "cell_type": "code",
   "execution_count": null,
   "id": "37145b9b",
   "metadata": {},
   "outputs": [],
   "source": [
    "s[-4:2]"
   ]
  },
  {
   "cell_type": "code",
   "execution_count": null,
   "id": "13f2619a",
   "metadata": {},
   "outputs": [],
   "source": [
    "s[-3:]\n",
    "s[::-1]"
   ]
  },
  {
   "cell_type": "code",
   "execution_count": null,
   "id": "bbd5769d",
   "metadata": {},
   "outputs": [],
   "source": [
    "ques = \"hello, World!\"\n",
    "# ques[-6:-2:-1]\n",
    "ques[-2:-6:-1]"
   ]
  },
  {
   "cell_type": "code",
   "execution_count": null,
   "id": "116a8ce1",
   "metadata": {},
   "outputs": [],
   "source": [
    "ques[1:6:2]"
   ]
  },
  {
   "cell_type": "code",
   "execution_count": null,
   "id": "57cfd559",
   "metadata": {},
   "outputs": [],
   "source": [
    "s=\"Hello World!\"\n",
    "s[-4:-0:-1]"
   ]
  },
  {
   "cell_type": "markdown",
   "id": "e29b9178",
   "metadata": {},
   "source": [
    "### 5. Updating/Deleting"
   ]
  },
  {
   "cell_type": "code",
   "execution_count": null,
   "id": "33f70256",
   "metadata": {},
   "outputs": [],
   "source": [
    "a = \"Hey\"\n",
    "del a[0]\n",
    "print(a)"
   ]
  },
  {
   "cell_type": "code",
   "execution_count": null,
   "id": "4cd96b27",
   "metadata": {},
   "outputs": [],
   "source": [
    "a = \"Hey\"\n",
    "del a\n",
    "print(a)"
   ]
  },
  {
   "cell_type": "code",
   "execution_count": null,
   "id": "91e82280",
   "metadata": {},
   "outputs": [],
   "source": [
    "a = \"try updating\"\n",
    "a[2] = 'i'\n",
    "print(a)"
   ]
  },
  {
   "cell_type": "code",
   "execution_count": null,
   "id": "7787ccfc",
   "metadata": {},
   "outputs": [],
   "source": [
    "#updating chars using slicing\n",
    "\n",
    "a = \"Hi Rohit\"\n",
    "updated_a = a[:3] + 'M' + a[4:]\n",
    "print(updated_a)"
   ]
  },
  {
   "cell_type": "code",
   "execution_count": null,
   "id": "f9a0b637",
   "metadata": {},
   "outputs": [],
   "source": [
    "#updating chars using list\n",
    "\n",
    "a = \"Hi Rohit\"\n",
    "list_a = list(a)\n",
    "list_a[3] = 'M'\n",
    "updated_a = ''.join(list_a)\n",
    "print(updated_a)"
   ]
  },
  {
   "cell_type": "code",
   "execution_count": null,
   "id": "3d9372ef",
   "metadata": {},
   "outputs": [],
   "source": [
    "# deleting chars using slicing\n",
    "\n",
    "a = \"Hi Rohit\"\n",
    "deleted_h = a[:5] + a[6:]\n",
    "display(deleted_h)"
   ]
  },
  {
   "cell_type": "markdown",
   "id": "b7ef4f19",
   "metadata": {},
   "source": [
    "# String Methods:"
   ]
  },
  {
   "cell_type": "code",
   "execution_count": null,
   "id": "7ab4feca",
   "metadata": {},
   "outputs": [],
   "source": [
    "# uppercase\n",
    "\n",
    "a = \"cool\"\n",
    "a.upper()"
   ]
  },
  {
   "cell_type": "code",
   "execution_count": null,
   "id": "d4abac63",
   "metadata": {},
   "outputs": [],
   "source": [
    "# lowercase\n",
    "\n",
    "a = \"No Problem\"\n",
    "a.lower()"
   ]
  },
  {
   "cell_type": "code",
   "execution_count": null,
   "id": "f44f7a51",
   "metadata": {},
   "outputs": [],
   "source": [
    "# splitting string into list of substrings\n",
    "\n",
    "#string.split(separator, maxsplit)\n",
    "\n",
    "s = \"This, is test case string\"\n",
    "# s.split() \n",
    "# s.split(',')\n",
    "s.split(' ', 2)"
   ]
  },
  {
   "cell_type": "code",
   "execution_count": null,
   "id": "d5391683",
   "metadata": {},
   "outputs": [],
   "source": [
    "s = \"This is another       case string\"\n",
    "s.split()"
   ]
  },
  {
   "cell_type": "code",
   "execution_count": null,
   "id": "192d42d0",
   "metadata": {},
   "outputs": [],
   "source": [
    "# joining items in an iterable into 1 string\n",
    "\n",
    "# string_separator.join(iterable)\n",
    "\n",
    "list1 = [\"Earth\", \"is\", \"green\"]\n",
    "str1 = ' '.join(list1)\n",
    "print(str1)"
   ]
  },
  {
   "cell_type": "code",
   "execution_count": null,
   "id": "8fabdb7f",
   "metadata": {},
   "outputs": [],
   "source": [
    "list1 = [\"Benguluru\", \"is\", \"cool\"]\n",
    "str1 = '-'.join(list1)\n",
    "print(str1)"
   ]
  },
  {
   "cell_type": "code",
   "execution_count": null,
   "id": "773862dd",
   "metadata": {},
   "outputs": [],
   "source": [
    "# striping spaces\n",
    "\n",
    "a = \"  Hey    Guys   \"\n",
    "\n",
    "# a.lstrip()\n",
    "# a.rstrip()\n",
    "a.strip()"
   ]
  },
  {
   "cell_type": "code",
   "execution_count": null,
   "id": "7ffe844e",
   "metadata": {},
   "outputs": [],
   "source": [
    "# how to remove all extra spaces in between Hey and Guys, \n",
    "# except for a single space?\n",
    "\n",
    "a = \"  Hey    Guys   \" #Hey Guys\n",
    "\n",
    "\n"
   ]
  },
  {
   "cell_type": "code",
   "execution_count": null,
   "id": "beea5407",
   "metadata": {},
   "outputs": [],
   "source": [
    "# replace occurences of a substring with another substring\n",
    "\n",
    "# string.replace(old,new,count)\n",
    "\n",
    "s = \"No Way!\"\n",
    "s.replace(\"No\", \"Yes\")"
   ]
  },
  {
   "cell_type": "code",
   "execution_count": null,
   "id": "98460117",
   "metadata": {},
   "outputs": [],
   "source": [
    "s = \"No Way!\"\n",
    "s.replace(\"no\", \"Yes\")"
   ]
  },
  {
   "cell_type": "code",
   "execution_count": null,
   "id": "db0d98e4",
   "metadata": {},
   "outputs": [],
   "source": [
    "s = \"I like purple, purple is best.\"\n",
    "# s.replace(\"purple\", \"yellow\")\n",
    "s.replace(\"purple\", \"yellow\", 1)\n",
    "# s.replace(\"purple\", \"yellow\", 6)"
   ]
  },
  {
   "cell_type": "code",
   "execution_count": null,
   "id": "24a55631",
   "metadata": {},
   "outputs": [],
   "source": [
    "# searching position of a substring in a string\n",
    "\n",
    "# string.find(substring, start_index, end_index) -> returns index no.\n",
    "\n",
    "x = \"Hello guys, welcome home\"\n",
    "# x.find('o')\n",
    "# x.find('o', 6, 25)\n",
    "x.find('o', 17, 100)\n",
    "# x.find('x')"
   ]
  },
  {
   "cell_type": "code",
   "execution_count": null,
   "id": "98e8a9db",
   "metadata": {},
   "outputs": [],
   "source": [
    "# question:\n",
    "\n",
    "a = 'abracadabra'\n",
    "a.find('ra')"
   ]
  },
  {
   "cell_type": "code",
   "execution_count": null,
   "id": "ab1c9031",
   "metadata": {},
   "outputs": [],
   "source": [
    "# checking if string startswith or endswith a substring\n",
    "\n",
    "a = \"Good People\"\n",
    "# a.startswith(\"Good\")\n",
    "# a.startswith(\"Go\")\n",
    "\n",
    "a.endswith(\"People\")\n",
    "# a.endswith(\"e\")"
   ]
  },
  {
   "cell_type": "code",
   "execution_count": null,
   "id": "a061a76d",
   "metadata": {},
   "outputs": [],
   "source": [
    "a = \"US East Region\"\n",
    "# Ques any other way to find out whether 'a' starts with 'US'\n",
    "\n"
   ]
  },
  {
   "cell_type": "code",
   "execution_count": null,
   "id": "4f08d16d",
   "metadata": {},
   "outputs": [],
   "source": [
    "# count of a substring in a string\n",
    "\n",
    "# string.count(substring, start_index, end_index)\n",
    "\n",
    "x = \"Hello guys, welcome home\"\n",
    "# x.count('o')\n",
    "x.count('o', 7, 100)"
   ]
  },
  {
   "cell_type": "code",
   "execution_count": null,
   "id": "4204e390",
   "metadata": {},
   "outputs": [],
   "source": [
    "x = 'tom jerry'\n",
    "x.count('r', 1, 7)"
   ]
  },
  {
   "cell_type": "markdown",
   "id": "2175ba64",
   "metadata": {},
   "source": [
    "# String Formatting:\n",
    "\n",
    "Allows to create dynamic string by combining variables and values"
   ]
  },
  {
   "cell_type": "markdown",
   "id": "11eb1795",
   "metadata": {},
   "source": [
    "#### 1. Using the % Operator (format specifiers)"
   ]
  },
  {
   "cell_type": "code",
   "execution_count": null,
   "id": "19bfe41e",
   "metadata": {},
   "outputs": [],
   "source": [
    "name = \"Jaan\"\n",
    "age = 24\n",
    "score = 87.79\n",
    "formatted_string = \"My name is %s and I am %d years old. I got %f percentage in my board results.\" % (name, age, score)\n",
    "print(formatted_string)"
   ]
  },
  {
   "cell_type": "code",
   "execution_count": null,
   "id": "658b91d2",
   "metadata": {},
   "outputs": [],
   "source": [
    "ques1 = \"My name is %s and I am %s years old.\" % (name, age)\n",
    "print(ques1)\n",
    "\n",
    "# What will be the output of this code?\n",
    "\n",
    "# A) My name is Jaan and I am %s years old.\n",
    "# B) My name is Jaan and I am 24 years old.\n",
    "# C) It will raise a TypeError"
   ]
  },
  {
   "cell_type": "code",
   "execution_count": null,
   "id": "d4b8a79e",
   "metadata": {},
   "outputs": [],
   "source": [
    "ques2 = \"My name is %d and I am %d years old.\" % (name, age)\n",
    "print(ques2)\n",
    "\n",
    "# What will be the output of this code?\n",
    "\n",
    "# A) My name is %d and I am 30 years old.\n",
    "# B) My name is Jaan and I am 30 years old.\n",
    "# C) It will raise a TypeError"
   ]
  },
  {
   "cell_type": "code",
   "execution_count": null,
   "id": "55a08599",
   "metadata": {},
   "outputs": [],
   "source": [
    "loc = \"Bengaluru\"\n",
    "ques3 = \"My name is %s and I am %d years old.\" % (name, age, loc)\n",
    "print(ques3)"
   ]
  },
  {
   "cell_type": "code",
   "execution_count": null,
   "id": "c940cc4e",
   "metadata": {},
   "outputs": [],
   "source": [
    "ques4 = \"My name is %s and I am %d years old.\" % (age)\n",
    "print(ques4)"
   ]
  },
  {
   "cell_type": "code",
   "execution_count": null,
   "id": "64b089c3",
   "metadata": {},
   "outputs": [],
   "source": [
    "value = 123.456\n",
    "formatted_string = \"The value is %.2f\" % value\n",
    "print(formatted_string)\n",
    "\n",
    "# What will be the output of this code?\n",
    "\n",
    "# A) The value is 123.45\n",
    "# B) The value is 123.456\n",
    "# C) The value is %.2f\n",
    "# D) The value is 123.46"
   ]
  },
  {
   "cell_type": "code",
   "execution_count": null,
   "id": "fe745027",
   "metadata": {},
   "outputs": [],
   "source": [
    "s = \"Value: %d %s\" % (42, 100)\n",
    "print(s)"
   ]
  },
  {
   "cell_type": "code",
   "execution_count": null,
   "id": "2e52604a",
   "metadata": {},
   "outputs": [],
   "source": [
    "values = (42, \"Python\", 3.14)\n",
    "formatted_string = \"Integer: %d, String: %s, Float: %d\" % values\n",
    "print(formatted_string)\n",
    "\n",
    "# What will happen when you run this code?\n",
    "\n",
    "# A) It will print \"Integer: 42, String: Python, Float: 3.14\"\n",
    "# B) It will raise a TypeError\n",
    "# C) It will print \"Integer: 42, String: Python, Float: 3\""
   ]
  },
  {
   "cell_type": "markdown",
   "id": "89abb53f",
   "metadata": {},
   "source": [
    "####  2. Using the str.format() Method"
   ]
  },
  {
   "cell_type": "code",
   "execution_count": null,
   "id": "dbad41b8",
   "metadata": {},
   "outputs": [],
   "source": [
    "name = \"Jaan\"\n",
    "age = 30\n",
    "formatted_string = \"My name is {} and I am {} years old.\".format(name, age)\n",
    "print(formatted_string)"
   ]
  },
  {
   "cell_type": "code",
   "execution_count": null,
   "id": "4dc1b6c0",
   "metadata": {},
   "outputs": [],
   "source": [
    "formatted_string = \"My name is {0} and I am {1} years old. {0} is learning Python.\".format(name, age)\n",
    "print(formatted_string)"
   ]
  },
  {
   "cell_type": "code",
   "execution_count": null,
   "id": "0d47a6c2",
   "metadata": {},
   "outputs": [],
   "source": [
    "formatted_string = \"{x} is {y} years old. {x} is good in Python.\".format(x = name, y = age)\n",
    "print(formatted_string)"
   ]
  },
  {
   "cell_type": "code",
   "execution_count": null,
   "id": "233b7f49",
   "metadata": {
    "scrolled": true
   },
   "outputs": [],
   "source": [
    "q1 = \"My name is {} and I am {} years old.\".format(name)\n",
    "print(q1)"
   ]
  },
  {
   "cell_type": "code",
   "execution_count": null,
   "id": "f5d5f45d",
   "metadata": {},
   "outputs": [],
   "source": [
    "q2 = \"The values are {0} and {1}\".format(3, 5, 7)\n",
    "print(q2)"
   ]
  },
  {
   "cell_type": "code",
   "execution_count": null,
   "id": "f82f80af",
   "metadata": {},
   "outputs": [],
   "source": [
    "q3 = \"{3} {0} {1}\".format('the', 'sign', 'read')\n",
    "print(q3)"
   ]
  },
  {
   "cell_type": "markdown",
   "id": "95d70034",
   "metadata": {},
   "source": [
    "#### 3.Using f-Strings (Formatted String Literals)"
   ]
  },
  {
   "cell_type": "code",
   "execution_count": null,
   "id": "cdbb256e",
   "metadata": {},
   "outputs": [],
   "source": [
    "name = \"Jaan\"\n",
    "age = 30\n",
    "formatted_string = f\"My name is {name} and I am {age} years old.\"\n",
    "print(formatted_string)"
   ]
  },
  {
   "cell_type": "code",
   "execution_count": null,
   "id": "9ad92dda",
   "metadata": {},
   "outputs": [],
   "source": [
    "formatted_string = f\"In 5 years, I will be {age + 5} years old.\"\n",
    "print(formatted_string)"
   ]
  },
  {
   "cell_type": "code",
   "execution_count": null,
   "id": "f091d5c9",
   "metadata": {},
   "outputs": [],
   "source": [
    "q1 = f\"My name is {name.upper()} and I am {age} years old.\"\n",
    "print(q1)"
   ]
  },
  {
   "cell_type": "code",
   "execution_count": null,
   "id": "223a12eb",
   "metadata": {},
   "outputs": [],
   "source": [
    "a = 5\n",
    "b = 10\n",
    "q2 = f\"The value of a is {a} and the value of b is {b}. The product is {a * b}.\"\n",
    "print(q2)"
   ]
  },
  {
   "cell_type": "markdown",
   "id": "1914a023",
   "metadata": {},
   "source": [
    "### Escape Characters\n",
    "\n",
    "Used to represent special characters within strings that would otherwise be difficult to include directly"
   ]
  },
  {
   "cell_type": "code",
   "execution_count": null,
   "id": "c4a29ba3",
   "metadata": {},
   "outputs": [],
   "source": [
    "#Single Quote (\\'):\n",
    "\n",
    "print('It\\'s a nice day')"
   ]
  },
  {
   "cell_type": "code",
   "execution_count": null,
   "id": "0f1739cc",
   "metadata": {},
   "outputs": [],
   "source": [
    "#Double Quote (\\\"):\n",
    "\n",
    "print(\"He said, \\\"Hello World!\\\"\")"
   ]
  },
  {
   "cell_type": "code",
   "execution_count": null,
   "id": "b5fc821d",
   "metadata": {},
   "outputs": [],
   "source": [
    "#Backslash (\\\\):\n",
    "\n",
    "print(\"This is a backslash: \\\\\")"
   ]
  },
  {
   "cell_type": "code",
   "execution_count": null,
   "id": "cdebee3c",
   "metadata": {},
   "outputs": [],
   "source": [
    "#Newline (\\n):\n",
    "\n",
    "print(\"Hello\\nWorld\")"
   ]
  },
  {
   "cell_type": "code",
   "execution_count": null,
   "id": "90ab22ab",
   "metadata": {
    "scrolled": true
   },
   "outputs": [],
   "source": [
    "#Tab (\\t):\n",
    "\n",
    "print(\"Name:\\tJohn Doe\")"
   ]
  },
  {
   "cell_type": "code",
   "execution_count": null,
   "id": "c8c4fe20",
   "metadata": {},
   "outputs": [],
   "source": [
    "print(\"C:\\\\Users\\\\Desktop\\\\my_file.txt\")"
   ]
  },
  {
   "cell_type": "markdown",
   "id": "4438c2c0",
   "metadata": {},
   "source": [
    "#### Length of a string:"
   ]
  },
  {
   "cell_type": "code",
   "execution_count": null,
   "id": "b60c9a63",
   "metadata": {},
   "outputs": [],
   "source": [
    "str1 = \"One life\"\n",
    "print(len(str1))"
   ]
  },
  {
   "cell_type": "code",
   "execution_count": null,
   "id": "52cc032a",
   "metadata": {},
   "outputs": [],
   "source": [
    "#Question 1 : \n",
    "\n",
    "a = \"Hey\\nBen\"\n",
    "print(a)\n",
    "print(len(a))"
   ]
  },
  {
   "cell_type": "code",
   "execution_count": null,
   "id": "cc824b8c",
   "metadata": {},
   "outputs": [],
   "source": [
    "#Question 2:\n",
    "\n",
    "a = \"Hey\\nBen\"\n",
    "print(a[:])\n",
    "a[:]"
   ]
  },
  {
   "cell_type": "markdown",
   "id": "6d64b610",
   "metadata": {},
   "source": [
    "# Session 2 : Control Flow Statements"
   ]
  },
  {
   "cell_type": "markdown",
   "id": "c21055bc",
   "metadata": {},
   "source": [
    "#### Comparison Operators:\n",
    "\n",
    "Used to compare values and returns Boolean result"
   ]
  },
  {
   "cell_type": "code",
   "execution_count": null,
   "id": "f584d1a3",
   "metadata": {},
   "outputs": [],
   "source": [
    "a = 10\n",
    "b = 20\n",
    "\n",
    "a == b\n",
    "a != b\n",
    "a < b\n",
    "a > b\n",
    "a <= b\n",
    "a >= b"
   ]
  },
  {
   "cell_type": "markdown",
   "id": "2d81f4a0",
   "metadata": {},
   "source": [
    "#### Logical Operators:\n",
    "\n",
    "Used to combine multiple conditions"
   ]
  },
  {
   "cell_type": "code",
   "execution_count": null,
   "id": "c26c5f90",
   "metadata": {},
   "outputs": [],
   "source": [
    "# and\n",
    "\n",
    "nationality = \"Indian\"\n",
    "age = 17\n",
    "\n",
    "if nationality == \"Indian\" and age >= 18:\n",
    "    print(\"can vote.\")"
   ]
  },
  {
   "cell_type": "code",
   "execution_count": null,
   "id": "a9f52c91",
   "metadata": {},
   "outputs": [],
   "source": [
    "# or\n",
    "\n",
    "weekday = \"Sat\"\n",
    "\n",
    "if weekday == \"Sat\" or weekday == \"Sun\":\n",
    "    print(\"It's weekend.\")"
   ]
  },
  {
   "cell_type": "code",
   "execution_count": null,
   "id": "cb892fd9",
   "metadata": {},
   "outputs": [],
   "source": [
    "# not\n",
    "n = 3\n",
    "res=not n\n",
    "print(res)"
   ]
  },
  {
   "cell_type": "markdown",
   "id": "bb1a652c",
   "metadata": {},
   "source": [
    "#### Condition Statements : if, else, elif\n",
    "#### Looping Statements: while, for\n",
    "#### Other Statements: break, continue, pass, return"
   ]
  },
  {
   "cell_type": "markdown",
   "id": "0f93295b",
   "metadata": {},
   "source": [
    "## Conditional Statements"
   ]
  },
  {
   "cell_type": "markdown",
   "id": "4ca5cf6b",
   "metadata": {},
   "source": [
    "### 1. if"
   ]
  },
  {
   "cell_type": "code",
   "execution_count": null,
   "id": "bae03336",
   "metadata": {},
   "outputs": [],
   "source": [
    "if condition:\n",
    "    # Statements to execute if\n",
    "    # condition is true"
   ]
  },
  {
   "cell_type": "code",
   "execution_count": null,
   "id": "d064151d",
   "metadata": {},
   "outputs": [],
   "source": [
    "i = int(input(\"Enter a number:\"))\n",
    "if i > 50:\n",
    "    print(\"inside if: i is greater than 50\")\n",
    "print(\"Outside if block: statement to be continued.\")"
   ]
  },
  {
   "cell_type": "markdown",
   "id": "6ef67c86",
   "metadata": {},
   "source": [
    "### 2. if-else"
   ]
  },
  {
   "cell_type": "code",
   "execution_count": null,
   "id": "94ec52ab",
   "metadata": {},
   "outputs": [],
   "source": [
    "if (condition):\n",
    "    # Executes this block if\n",
    "    # condition is true\n",
    "else:\n",
    "    # Executes this block if\n",
    "    # condition is false"
   ]
  },
  {
   "cell_type": "code",
   "execution_count": null,
   "id": "09d98374",
   "metadata": {},
   "outputs": [],
   "source": [
    "i = 30\n",
    "if i > 50:\n",
    "    print(\"inside if: i is greater than 50\")\n",
    "else:\n",
    "    print(\"inside else: i is lesser than 50\")\n",
    "print(\"Outside if-else block: statement to be continued.\")"
   ]
  },
  {
   "cell_type": "markdown",
   "id": "ac2f0056",
   "metadata": {},
   "source": [
    "### 3. nested if"
   ]
  },
  {
   "cell_type": "code",
   "execution_count": null,
   "id": "9f7c889e",
   "metadata": {},
   "outputs": [],
   "source": [
    "nationality = \"Indian\"\n",
    "age = 20\n",
    "\n",
    "if age>=18:\n",
    "    if nationality == \"Indian\":\n",
    "        print(\"Get ready to rock the polls\")\n",
    "    else:\n",
    "        print(\"Not Indian? No voting for you.\")\n",
    "else:\n",
    "    print(\"You’re still too young!\")"
   ]
  },
  {
   "cell_type": "markdown",
   "id": "cc15f6b2",
   "metadata": {},
   "source": [
    "### 4. elif"
   ]
  },
  {
   "cell_type": "code",
   "execution_count": null,
   "id": "788d2ff0",
   "metadata": {},
   "outputs": [],
   "source": [
    "weather = \"sunny\"  # This could be \"sunny\", \"cloudy\", or \"rainy\"\n",
    "\n",
    "if weather == \"rainy\":\n",
    "    print(\"Better grab an umbrella or wear a raincoat!\")\n",
    "elif weather == \"cloudy\":\n",
    "    print(\"A light jacket would be perfect for this weather.\")\n",
    "else:\n",
    "    print(\"Wear your sunglasses and a light shirt!\")"
   ]
  },
  {
   "cell_type": "markdown",
   "id": "a5c26a27",
   "metadata": {},
   "source": [
    "#### short hand if\n",
    "\n",
    "if condition: statement"
   ]
  },
  {
   "cell_type": "code",
   "execution_count": null,
   "id": "0456cc7e",
   "metadata": {},
   "outputs": [],
   "source": [
    "i = 10\n",
    "if i<100: print(\"i is less than 100\")"
   ]
  },
  {
   "cell_type": "markdown",
   "id": "0ba66d00",
   "metadata": {},
   "source": [
    "#### ternary statement/ short hand if else\n",
    "\n",
    "true_statement if condition else false_statement"
   ]
  },
  {
   "cell_type": "code",
   "execution_count": null,
   "id": "5cbf003f",
   "metadata": {},
   "outputs": [],
   "source": [
    "x = 10\n",
    "y = 20\n",
    "max_var = x if x>y else y\n",
    "print(max_var)"
   ]
  },
  {
   "cell_type": "code",
   "execution_count": null,
   "id": "43a4e669",
   "metadata": {},
   "outputs": [],
   "source": [
    "# Question 1:\n",
    "\n",
    "x = 0\n",
    "if x:\n",
    "    print(\"True\")\n",
    "else:\n",
    "    print(\"False\")"
   ]
  },
  {
   "cell_type": "code",
   "execution_count": null,
   "id": "73508129",
   "metadata": {},
   "outputs": [],
   "source": [
    "#Question 2:\n",
    "\n",
    "n = 10\n",
    "\n",
    "if n < 20:\n",
    "    print(\"Less than 20\")\n",
    "elif n < 30:\n",
    "    print(\"Less than 30\")\n",
    "elif n < 40:\n",
    "    print(\"Less than 40\")\n",
    "else:\n",
    "    print(\"40 or more\")"
   ]
  },
  {
   "cell_type": "code",
   "execution_count": null,
   "id": "48270106",
   "metadata": {},
   "outputs": [],
   "source": [
    "# Question 3:\n",
    "\n",
    "value = \"42\"\n",
    "\n",
    "if value == 42:\n",
    "    print(\"Value printed out\",value)"
   ]
  },
  {
   "cell_type": "code",
   "execution_count": null,
   "id": "681f4ef0",
   "metadata": {},
   "outputs": [],
   "source": [
    "# Question 4:\n",
    "\n",
    "a = True\n",
    "b = True\n",
    "c = False\n",
    "\n",
    "if a or b and c:\n",
    "    print(\"True\")\n",
    "else:\n",
    "    print(\"False\")"
   ]
  },
  {
   "cell_type": "markdown",
   "id": "22c661f6",
   "metadata": {},
   "source": [
    "### Order of Precedence "
   ]
  },
  {
   "cell_type": "markdown",
   "id": "dd364ee5",
   "metadata": {},
   "source": [
    "1. `()`\n",
    "2. `**`\n",
    "3. `+` `-` (Unary positive/negative)\n",
    "4. `*` `/` `%` `//`\n",
    "5. `+` `-`\n",
    "6. `==` `!=` `<` `>` `<=` `>=`\n",
    "7. `not`\n",
    "8. `and`\n",
    "9. `or`"
   ]
  },
  {
   "cell_type": "code",
   "execution_count": null,
   "id": "d96ceb9b",
   "metadata": {},
   "outputs": [],
   "source": [
    "# ques1:\n",
    "\n",
    "x = 5\n",
    "y = 3\n",
    "z = True\n",
    "print(x * (y+z))"
   ]
  },
  {
   "cell_type": "code",
   "execution_count": null,
   "id": "7cce974b",
   "metadata": {},
   "outputs": [],
   "source": [
    "# ques2:\n",
    "\n",
    "x = True\n",
    "y = False\n",
    "z = not x and y or x\n",
    "print(z)"
   ]
  },
  {
   "cell_type": "code",
   "execution_count": null,
   "id": "e98812bb",
   "metadata": {},
   "outputs": [],
   "source": [
    "# ques3:\n",
    "\n",
    "x = 10\n",
    "y = 5\n",
    "z = 3\n",
    "print(x > y > z)"
   ]
  },
  {
   "cell_type": "code",
   "execution_count": null,
   "id": "496f1006",
   "metadata": {},
   "outputs": [],
   "source": [
    "# ques4:\n",
    "\n",
    "x = 5\n",
    "y = 2\n",
    "z = x ** y + x // y - x % y\n",
    "print(z)"
   ]
  },
  {
   "cell_type": "code",
   "execution_count": null,
   "id": "eb236e98",
   "metadata": {
    "scrolled": true
   },
   "outputs": [],
   "source": [
    "# ques5:\n",
    "\n",
    "result = -3 ** 2 + (5 - 2) * 4\n",
    "print(result)"
   ]
  },
  {
   "cell_type": "markdown",
   "id": "4c27aad4",
   "metadata": {},
   "source": [
    "### Loops in Python"
   ]
  },
  {
   "cell_type": "markdown",
   "id": "5cef8339",
   "metadata": {},
   "source": [
    "#### What is a loop?"
   ]
  },
  {
   "cell_type": "markdown",
   "id": "79983b80",
   "metadata": {},
   "source": [
    "#### Execution of a loop"
   ]
  },
  {
   "cell_type": "markdown",
   "id": "6b925f3a",
   "metadata": {},
   "source": [
    "1.Indexing Variable"
   ]
  },
  {
   "cell_type": "code",
   "execution_count": null,
   "id": "bd3aab2c",
   "metadata": {},
   "outputs": [],
   "source": [
    "var=0"
   ]
  },
  {
   "cell_type": "markdown",
   "id": "a7dbeac9",
   "metadata": {},
   "source": [
    "2.Condition"
   ]
  },
  {
   "cell_type": "code",
   "execution_count": null,
   "id": "01eab2ca",
   "metadata": {},
   "outputs": [],
   "source": [
    "var<10"
   ]
  },
  {
   "cell_type": "markdown",
   "id": "88323ba6",
   "metadata": {},
   "source": [
    "3.Body"
   ]
  },
  {
   "cell_type": "code",
   "execution_count": null,
   "id": "1b787a90",
   "metadata": {},
   "outputs": [],
   "source": [
    "print(var) #statements"
   ]
  },
  {
   "cell_type": "markdown",
   "id": "ca464daf",
   "metadata": {},
   "source": [
    "4.Increment/decrement"
   ]
  },
  {
   "cell_type": "code",
   "execution_count": null,
   "id": "8590bac9",
   "metadata": {},
   "outputs": [],
   "source": [
    "var+=1"
   ]
  },
  {
   "cell_type": "markdown",
   "id": "3466c5d4",
   "metadata": {},
   "source": [
    "### While Loop"
   ]
  },
  {
   "cell_type": "code",
   "execution_count": null,
   "id": "a5aee226",
   "metadata": {},
   "outputs": [],
   "source": [
    "#executes the set of statements as long as a condition is true.\n",
    "\n",
    "i = 1            #Indexing variable\n",
    "while i < 6:     #condition\n",
    "  print(i)       #statement\n",
    "  i += 1         #increment"
   ]
  },
  {
   "cell_type": "code",
   "execution_count": null,
   "id": "3899f6b2",
   "metadata": {
    "scrolled": true
   },
   "outputs": [],
   "source": [
    "n = 0     \n",
    "while n < 10:     \n",
    "  print(n)"
   ]
  },
  {
   "cell_type": "markdown",
   "id": "15c2bc97",
   "metadata": {},
   "source": [
    "Note: remember to increment i, or else the loop will continue forever (infinite loop)"
   ]
  },
  {
   "cell_type": "markdown",
   "id": "57faf647",
   "metadata": {},
   "source": [
    "#### Break Statement"
   ]
  },
  {
   "cell_type": "code",
   "execution_count": null,
   "id": "892709d1",
   "metadata": {},
   "outputs": [],
   "source": [
    "x = 1\n",
    "while x < 6:\n",
    "  print(x)\n",
    "  if x == 3:\n",
    "    break    #goes out of the current loop\n",
    "  x += 1\n",
    "print(\"Loop Terminated\")"
   ]
  },
  {
   "cell_type": "markdown",
   "id": "24244a1f",
   "metadata": {},
   "source": [
    "#### Continue Statement"
   ]
  },
  {
   "cell_type": "code",
   "execution_count": null,
   "id": "fe72948d",
   "metadata": {},
   "outputs": [],
   "source": [
    "i = 0\n",
    "while i < 6:\n",
    "  i += 1\n",
    "  if i == 3:\n",
    "    continue     #stop the current iteration, and continues with the next\n",
    "  print(i,end=' ')"
   ]
  },
  {
   "cell_type": "code",
   "execution_count": null,
   "id": "c203af6e",
   "metadata": {},
   "outputs": [],
   "source": [
    "i = 0\n",
    "while i < 6:"
   ]
  },
  {
   "cell_type": "markdown",
   "id": "ba97b8c8",
   "metadata": {},
   "source": [
    "#### Pass statement"
   ]
  },
  {
   "cell_type": "code",
   "execution_count": null,
   "id": "dc87d488",
   "metadata": {},
   "outputs": [],
   "source": [
    "i = 0\n",
    "while i < 6:\n",
    "    pass    #used as a placeholder for future use"
   ]
  },
  {
   "cell_type": "code",
   "execution_count": 2,
   "id": "c009979e",
   "metadata": {},
   "outputs": [
    {
     "name": "stdout",
     "output_type": "stream",
     "text": [
      "i is no longer less than 6\n"
     ]
    }
   ],
   "source": [
    "i = 8\n",
    "while i < 6:\n",
    "  print(i)\n",
    "  i += 1\n",
    "else:       #statement runs when the condition no longer is true:\n",
    "  print(\"i is no longer less than 6\") "
   ]
  },
  {
   "cell_type": "markdown",
   "id": "db5df6d0",
   "metadata": {},
   "source": [
    "Write a code to print odd numbers upto 10"
   ]
  },
  {
   "cell_type": "markdown",
   "id": "784b53cf",
   "metadata": {},
   "source": [
    "### For Loop"
   ]
  },
  {
   "cell_type": "code",
   "execution_count": 1,
   "id": "4e380c7c",
   "metadata": {},
   "outputs": [
    {
     "name": "stdout",
     "output_type": "stream",
     "text": [
      "dog\n",
      "cat\n",
      "rabbit\n"
     ]
    }
   ],
   "source": [
    "pets = (\"dog\", \"cat\", \"rabbit\")  \n",
    "for x in pets:     #Used for iterating over a sequence\n",
    "  print(x)"
   ]
  },
  {
   "cell_type": "code",
   "execution_count": 3,
   "id": "a7fbab5c",
   "metadata": {},
   "outputs": [
    {
     "name": "stdout",
     "output_type": "stream",
     "text": [
      "M\n",
      "u\n",
      "S\n",
      "i\n",
      "g\n",
      "m\n",
      "a\n"
     ]
    }
   ],
   "source": [
    "for x in \"MuSigma\": #iterating a Sting\n",
    "  print(x)"
   ]
  },
  {
   "cell_type": "code",
   "execution_count": 4,
   "id": "224d7405",
   "metadata": {},
   "outputs": [
    {
     "name": "stdout",
     "output_type": "stream",
     "text": [
      "1\n",
      "2\n",
      "3\n"
     ]
    }
   ],
   "source": [
    "l=[1,2,3,4,5]\n",
    "for i in l:\n",
    "    print(i)\n",
    "    if i==3:\n",
    "        break"
   ]
  },
  {
   "cell_type": "markdown",
   "id": "4ea62556",
   "metadata": {},
   "source": [
    "#### Range Function"
   ]
  },
  {
   "cell_type": "code",
   "execution_count": null,
   "id": "86049eb0",
   "metadata": {},
   "outputs": [],
   "source": [
    "# range(start,end,increment)\n",
    "\n",
    "# by default start is 0\n",
    "# iteration will be upto end \n",
    "# by default increment is 1"
   ]
  },
  {
   "cell_type": "code",
   "execution_count": 5,
   "id": "023c34a8",
   "metadata": {},
   "outputs": [
    {
     "name": "stdout",
     "output_type": "stream",
     "text": [
      "0\n",
      "1\n",
      "2\n",
      "3\n",
      "4\n",
      "5\n",
      "6\n",
      "7\n",
      "8\n",
      "9\n"
     ]
    }
   ],
   "source": [
    "#used to iterate the set of code for specified number of times\n",
    "for i in range(10):\n",
    "    print(i)"
   ]
  },
  {
   "cell_type": "code",
   "execution_count": 6,
   "id": "affa9847",
   "metadata": {},
   "outputs": [
    {
     "name": "stdout",
     "output_type": "stream",
     "text": [
      "3\n",
      "4\n",
      "5\n",
      "6\n",
      "7\n",
      "8\n",
      "9\n",
      "10\n"
     ]
    }
   ],
   "source": [
    "for x in range(3,11): #range function with start and stop\n",
    "  print(x)"
   ]
  },
  {
   "cell_type": "code",
   "execution_count": 7,
   "id": "ed0bfcbb",
   "metadata": {
    "scrolled": true
   },
   "outputs": [
    {
     "name": "stdout",
     "output_type": "stream",
     "text": [
      "2\n",
      "7\n",
      "12\n",
      "17\n",
      "22\n",
      "27\n"
     ]
    }
   ],
   "source": [
    "for x in range(2, 30, 5): #range function with start, stop and increment\n",
    "  print(x)"
   ]
  },
  {
   "cell_type": "code",
   "execution_count": 8,
   "id": "3fea1192",
   "metadata": {},
   "outputs": [
    {
     "name": "stdout",
     "output_type": "stream",
     "text": [
      "P y S p a r k "
     ]
    }
   ],
   "source": [
    "string=\"PySpark\"\n",
    "for i in range(len(string)):  #Acessing Sequence using range function\n",
    "    print(string[i],end=\" \")"
   ]
  },
  {
   "cell_type": "markdown",
   "id": "d327e8c0",
   "metadata": {},
   "source": [
    "#### Nested Loops"
   ]
  },
  {
   "cell_type": "code",
   "execution_count": 9,
   "id": "822cf0dd",
   "metadata": {},
   "outputs": [
    {
     "name": "stdout",
     "output_type": "stream",
     "text": [
      "red apple\n",
      "red banana\n",
      "red cherry\n",
      "big apple\n",
      "big banana\n",
      "big cherry\n",
      "tasty apple\n",
      "tasty banana\n",
      "tasty cherry\n"
     ]
    }
   ],
   "source": [
    "adj = [\"red\", \"big\", \"tasty\"]\n",
    "fruits = [\"apple\", \"banana\", \"cherry\"]\n",
    "\n",
    "#\"inner loop\" will be executed one time for each iteration of the \"outer loop\"\n",
    "for x in adj:\n",
    "  for y in fruits:\n",
    "    print(x, y)"
   ]
  },
  {
   "cell_type": "markdown",
   "id": "abd71c34",
   "metadata": {},
   "source": [
    "### Questions on for- while :"
   ]
  },
  {
   "cell_type": "code",
   "execution_count": 10,
   "id": "47687eaa",
   "metadata": {},
   "outputs": [
    {
     "name": "stdout",
     "output_type": "stream",
     "text": [
      "0 0\n",
      "0 1\n",
      "0 2\n",
      "Outer Loop\n",
      "Outer Loop\n",
      "2 0\n",
      "2 1\n",
      "2 2\n",
      "Outer Loop\n"
     ]
    }
   ],
   "source": [
    "x = 0 \n",
    "while x < 3:\n",
    "    y=0\n",
    "    while y < 3: \n",
    "        if(x==1):\n",
    "            break\n",
    "        print(x,y)\n",
    "        y+=1\n",
    "    print(\"Outer Loop\")\n",
    "    x+=1"
   ]
  },
  {
   "cell_type": "code",
   "execution_count": 11,
   "id": "aff970e7",
   "metadata": {},
   "outputs": [
    {
     "name": "stdout",
     "output_type": "stream",
     "text": [
      "End of inner loop\n",
      "i=1, j=0\n",
      "End of inner loop\n",
      "i=2, j=0\n",
      "i=2, j=1\n",
      "End of inner loop\n"
     ]
    }
   ],
   "source": [
    "for i in range(3):\n",
    "    for j in range(3):\n",
    "        if i == j:\n",
    "            break\n",
    "        print(f\"i={i}, j={j}\")\n",
    "    print(\"End of inner loop\")"
   ]
  },
  {
   "cell_type": "code",
   "execution_count": 12,
   "id": "d07a0ebf",
   "metadata": {},
   "outputs": [
    {
     "name": "stdout",
     "output_type": "stream",
     "text": [
      "1\n",
      "2\n"
     ]
    }
   ],
   "source": [
    "n = 0\n",
    "while n < 3:\n",
    "    n += 1\n",
    "    print(n)\n",
    "    if n == 2:\n",
    "        break\n",
    "else:\n",
    "    print(\"Loop ended naturally\")"
   ]
  },
  {
   "cell_type": "code",
   "execution_count": 13,
   "id": "8f43e918",
   "metadata": {},
   "outputs": [
    {
     "name": "stdout",
     "output_type": "stream",
     "text": [
      "0\n",
      "Inside pass block\n",
      "1\n",
      "2\n"
     ]
    }
   ],
   "source": [
    "for i in range(3):\n",
    "    if i == 1:\n",
    "        pass\n",
    "        print(\"Inside pass block\")\n",
    "    print(i)"
   ]
  },
  {
   "cell_type": "code",
   "execution_count": null,
   "id": "e723984f",
   "metadata": {},
   "outputs": [],
   "source": [
    "count = 0\n",
    "while True:\n",
    "    count += 1\n",
    "    if count == 5:\n",
    "        break\n",
    "    print(count)"
   ]
  },
  {
   "cell_type": "code",
   "execution_count": null,
   "id": "113e20d2",
   "metadata": {},
   "outputs": [],
   "source": [
    "for i in range(6):\n",
    "    if i % 2 == 0:\n",
    "        continue\n",
    "    print(i, end=\" \")"
   ]
  },
  {
   "cell_type": "code",
   "execution_count": null,
   "id": "ad6596c6",
   "metadata": {},
   "outputs": [],
   "source": [
    "for i in range(3):\n",
    "    for j in range(3):\n",
    "        if i == j:\n",
    "            continue\n",
    "        if i + j == 2:\n",
    "            continue\n",
    "        print(f\"i={i}, j={j}\")"
   ]
  },
  {
   "cell_type": "code",
   "execution_count": null,
   "id": "6a060e1e",
   "metadata": {},
   "outputs": [],
   "source": [
    "x = 0\n",
    "while x < 5:\n",
    "    x += 1\n",
    "    if x == 3:\n",
    "        break\n",
    "else:\n",
    "    print(\"Exited naturally\")\n",
    "print(\"Loop finished with x =\", x)"
   ]
  }
 ],
 "metadata": {
  "kernelspec": {
   "display_name": "Python 3 (ipykernel)",
   "language": "python",
   "name": "python3"
  },
  "language_info": {
   "codemirror_mode": {
    "name": "ipython",
    "version": 3
   },
   "file_extension": ".py",
   "mimetype": "text/x-python",
   "name": "python",
   "nbconvert_exporter": "python",
   "pygments_lexer": "ipython3",
   "version": "3.9.7"
  }
 },
 "nbformat": 4,
 "nbformat_minor": 5
}
