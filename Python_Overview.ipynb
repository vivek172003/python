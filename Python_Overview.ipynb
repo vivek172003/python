{
 "cells": [
  {
   "cell_type": "markdown",
   "id": "71898395",
   "metadata": {},
   "source": [
    "# Here We Go!"
   ]
  },
  {
   "cell_type": "code",
   "execution_count": null,
   "id": "b03c1833",
   "metadata": {
    "scrolled": true
   },
   "outputs": [],
   "source": [
    "print(\"Hello World\")\n",
    "print(\"Python\")"
   ]
  },
  {
   "cell_type": "markdown",
   "id": "94e5fdcd",
   "metadata": {},
   "source": [
    "# Indentation"
   ]
  },
  {
   "cell_type": "code",
   "execution_count": null,
   "id": "daab149e",
   "metadata": {
    "scrolled": true
   },
   "outputs": [],
   "source": [
    "# default no. of spaces - 4. If used <4 or >4 which there be error?\n",
    "if 1==1:\n",
    " print(\"1\")\n",
    "  \n",
    "# if True:\n",
    "#         print(\"True\")"
   ]
  },
  {
   "cell_type": "code",
   "execution_count": null,
   "id": "5761e810",
   "metadata": {},
   "outputs": [],
   "source": []
  },
  {
   "cell_type": "code",
   "execution_count": null,
   "id": "bb0930a8",
   "metadata": {
    "scrolled": true
   },
   "outputs": [],
   "source": [
    "# if different spaces used within same block\n",
    "if True:\n",
    " print(\"condition\")\n",
    " print(\"is\")\n",
    " print(\"true\")"
   ]
  },
  {
   "cell_type": "markdown",
   "id": "81f839b1",
   "metadata": {},
   "source": [
    "# Statements & Expressions"
   ]
  },
  {
   "cell_type": "code",
   "execution_count": null,
   "id": "eac9fd69",
   "metadata": {
    "scrolled": true
   },
   "outputs": [],
   "source": [
    "#which of these are statements and which are expressions\n",
    "x = 5\n",
    "y = x + (x*2)\n",
    "z = (x>10)\n",
    "print(z)"
   ]
  },
  {
   "cell_type": "code",
   "execution_count": null,
   "id": "7f083613",
   "metadata": {
    "scrolled": true
   },
   "outputs": [],
   "source": [
    "5+3"
   ]
  },
  {
   "cell_type": "markdown",
   "id": "38a246be",
   "metadata": {},
   "source": [
    "# Variables"
   ]
  },
  {
   "cell_type": "code",
   "execution_count": null,
   "id": "26608391",
   "metadata": {
    "scrolled": true
   },
   "outputs": [],
   "source": [
    "var1=12"
   ]
  },
  {
   "cell_type": "code",
   "execution_count": null,
   "id": "97bf88a0",
   "metadata": {
    "scrolled": true
   },
   "outputs": [],
   "source": [
    "Variable='PyPy'"
   ]
  },
  {
   "cell_type": "code",
   "execution_count": null,
   "id": "2d83a00d",
   "metadata": {
    "scrolled": true
   },
   "outputs": [],
   "source": [
    "0var=0"
   ]
  },
  {
   "cell_type": "code",
   "execution_count": null,
   "id": "9f40bf10",
   "metadata": {
    "scrolled": true
   },
   "outputs": [],
   "source": [
    "_var_='_var_'"
   ]
  },
  {
   "cell_type": "code",
   "execution_count": null,
   "id": "d4c03fab",
   "metadata": {
    "scrolled": false
   },
   "outputs": [],
   "source": [
    "!var=\"Special\""
   ]
  },
  {
   "cell_type": "code",
   "execution_count": null,
   "id": "03a55407",
   "metadata": {
    "scrolled": true
   },
   "outputs": [],
   "source": [
    "for = \"for\" #keywords used as variable name\n",
    "print(for)"
   ]
  },
  {
   "cell_type": "code",
   "execution_count": null,
   "id": "d286b34f",
   "metadata": {
    "scrolled": true
   },
   "outputs": [],
   "source": [
    "x = 10\n",
    "y = x\n",
    "x = 20\n",
    "print(x)\n",
    "print(y)\n",
    "y = \"hi\""
   ]
  },
  {
   "cell_type": "code",
   "execution_count": null,
   "id": "b7f35c31",
   "metadata": {},
   "outputs": [],
   "source": [
    "print(y)"
   ]
  },
  {
   "cell_type": "code",
   "execution_count": null,
   "id": "0d428a7d",
   "metadata": {
    "scrolled": true
   },
   "outputs": [],
   "source": [
    "a,b,c=1,2,3"
   ]
  },
  {
   "cell_type": "code",
   "execution_count": null,
   "id": "5a9bedcf",
   "metadata": {
    "scrolled": true
   },
   "outputs": [],
   "source": [
    "a=b=c=10"
   ]
  },
  {
   "cell_type": "code",
   "execution_count": null,
   "id": "42a11d55",
   "metadata": {
    "scrolled": true
   },
   "outputs": [],
   "source": [
    "#how to swap values of 2 variables with a temp var?\n",
    "x = 5\n",
    "y = 10\n",
    "temp = x\n",
    "x = y\n",
    "y = temp\n",
    "print(x)\n",
    "print(y)"
   ]
  },
  {
   "cell_type": "code",
   "execution_count": null,
   "id": "c6e213ff",
   "metadata": {
    "scrolled": true
   },
   "outputs": [],
   "source": [
    "#how to swap values of 2 variables with.out a temp var?\n",
    "x = 5\n",
    "y = 10\n",
    "x,y = y,x\n",
    "print(x)\n",
    "print(y)"
   ]
  },
  {
   "cell_type": "code",
   "execution_count": null,
   "id": "352ade86",
   "metadata": {
    "scrolled": true
   },
   "outputs": [],
   "source": [
    "#global, local variables\n",
    "\n",
    "n = 2\n",
    "def func1():\n",
    "    r = 10 #what will be output if we remove this\n",
    "print(r)"
   ]
  },
  {
   "cell_type": "code",
   "execution_count": null,
   "id": "0000ec72",
   "metadata": {
    "scrolled": true
   },
   "outputs": [],
   "source": [
    "n = 10\n",
    "def f():\n",
    "    global n #what will be output if we remove this\n",
    "    n = n + 10\n",
    "    print(n)\n",
    "print(n)\n",
    "f()"
   ]
  },
  {
   "cell_type": "markdown",
   "id": "dbfd6212",
   "metadata": {},
   "source": [
    "# Comments"
   ]
  },
  {
   "cell_type": "markdown",
   "id": "55d535eb",
   "metadata": {},
   "source": [
    "Single Line Comment"
   ]
  },
  {
   "cell_type": "code",
   "execution_count": null,
   "id": "8ecc0962",
   "metadata": {
    "scrolled": true
   },
   "outputs": [],
   "source": [
    "print(\"Hi, My Name is Alwin\") #Prints Name"
   ]
  },
  {
   "cell_type": "markdown",
   "id": "eb771470",
   "metadata": {},
   "source": [
    "Multi Line Comment"
   ]
  },
  {
   "cell_type": "code",
   "execution_count": null,
   "id": "4bfc3b7b",
   "metadata": {
    "scrolled": true
   },
   "outputs": [],
   "source": [
    "\"\"\"\n",
    "This is a multiline comment\n",
    "using triple-quoted strings.\n",
    "It spans multiple lines\n",
    "\"\"\"\n",
    "print(\"Hi, I am Debtanu Nandi. This is the first time I am coding in Python\")\n",
    "\"\"\"\n",
    "This is a multiline comment\n",
    "using triple-quoted strings.\n",
    "It spans multiple lines\n",
    "\"\"\""
   ]
  },
  {
   "cell_type": "markdown",
   "id": "35d00b30",
   "metadata": {},
   "source": [
    "# Data Types"
   ]
  },
  {
   "cell_type": "markdown",
   "id": "0395dd91",
   "metadata": {},
   "source": [
    "### Primitive Data Type"
   ]
  },
  {
   "cell_type": "markdown",
   "id": "da5b24f4",
   "metadata": {},
   "source": [
    "Numeric Data Types"
   ]
  },
  {
   "cell_type": "code",
   "execution_count": null,
   "id": "463f84b3",
   "metadata": {
    "scrolled": true
   },
   "outputs": [],
   "source": [
    "num1 = 1         \n",
    "num2 = 10.023  \n",
    "num3 = 10+3j  "
   ]
  },
  {
   "cell_type": "code",
   "execution_count": 8,
   "id": "97eb375e",
   "metadata": {
    "scrolled": true
   },
   "outputs": [
    {
     "ename": "ValueError",
     "evalue": "invalid literal for int() with base 10: 'str'",
     "output_type": "error",
     "traceback": [
      "\u001b[1;31m---------------------------------------------------------------------------\u001b[0m",
      "\u001b[1;31mValueError\u001b[0m                                Traceback (most recent call last)",
      "\u001b[1;32mC:\\Users\\LAKSHA~1.RAZ\\AppData\\Local\\Temp/ipykernel_14284/621531758.py\u001b[0m in \u001b[0;36m<module>\u001b[1;34m\u001b[0m\n\u001b[0;32m      1\u001b[0m \u001b[0ma\u001b[0m \u001b[1;33m=\u001b[0m \u001b[1;34m'str'\u001b[0m\u001b[1;33m\u001b[0m\u001b[1;33m\u001b[0m\u001b[0m\n\u001b[1;32m----> 2\u001b[1;33m \u001b[0mb\u001b[0m \u001b[1;33m=\u001b[0m \u001b[0mint\u001b[0m\u001b[1;33m(\u001b[0m\u001b[0ma\u001b[0m\u001b[1;33m)\u001b[0m\u001b[1;33m\u001b[0m\u001b[1;33m\u001b[0m\u001b[0m\n\u001b[0m\u001b[0;32m      3\u001b[0m \u001b[0mprint\u001b[0m\u001b[1;33m(\u001b[0m\u001b[0mb\u001b[0m\u001b[1;33m)\u001b[0m\u001b[1;33m\u001b[0m\u001b[1;33m\u001b[0m\u001b[0m\n",
      "\u001b[1;31mValueError\u001b[0m: invalid literal for int() with base 10: 'str'"
     ]
    }
   ],
   "source": [
    "a = 'str'\n",
    "b = int(a)\n",
    "print(b)"
   ]
  },
  {
   "cell_type": "code",
   "execution_count": null,
   "id": "4057c140",
   "metadata": {
    "scrolled": true
   },
   "outputs": [],
   "source": [
    "a = 0.1\n",
    "b = 0.2\n",
    "c = a+b\n",
    "print(c)"
   ]
  },
  {
   "cell_type": "code",
   "execution_count": null,
   "id": "71c4179e",
   "metadata": {
    "scrolled": true
   },
   "outputs": [],
   "source": [
    "# how to resolve using Decimal\n",
    "from decimal import Decimal\n",
    "a = Decimal('0.1')\n",
    "b = Decimal('0.2')\n",
    "c = a+b\n",
    "print(c)"
   ]
  },
  {
   "cell_type": "code",
   "execution_count": 9,
   "id": "d5d3b818",
   "metadata": {
    "scrolled": true
   },
   "outputs": [
    {
     "name": "stdout",
     "output_type": "stream",
     "text": [
      "2.68\n"
     ]
    }
   ],
   "source": [
    "# how to round floats\n",
    "\n",
    "val = 2.675900\n",
    "rounded_val = round(val, 2) # rounds to 2 decimal places\n",
    "print(rounded_val)"
   ]
  },
  {
   "cell_type": "markdown",
   "id": "cf868ad6",
   "metadata": {},
   "source": [
    "String Data Types"
   ]
  },
  {
   "cell_type": "code",
   "execution_count": null,
   "id": "0988dd20",
   "metadata": {
    "scrolled": true
   },
   "outputs": [],
   "source": [
    "str = 'Hello World!'"
   ]
  },
  {
   "cell_type": "markdown",
   "id": "09fa63bf",
   "metadata": {},
   "source": [
    "Bool"
   ]
  },
  {
   "cell_type": "code",
   "execution_count": 10,
   "id": "b26bf090",
   "metadata": {
    "scrolled": true
   },
   "outputs": [],
   "source": [
    "a=True"
   ]
  },
  {
   "cell_type": "markdown",
   "id": "f9df1841",
   "metadata": {},
   "source": [
    "NoneType"
   ]
  },
  {
   "cell_type": "code",
   "execution_count": null,
   "id": "29f1183a",
   "metadata": {
    "scrolled": true
   },
   "outputs": [],
   "source": [
    "b=None"
   ]
  },
  {
   "cell_type": "markdown",
   "id": "50f1732d",
   "metadata": {},
   "source": [
    "### Non-Primitive"
   ]
  },
  {
   "cell_type": "markdown",
   "id": "0a046fdd",
   "metadata": {},
   "source": [
    "Sequence Data Types"
   ]
  },
  {
   "cell_type": "code",
   "execution_count": null,
   "id": "626b3909",
   "metadata": {
    "scrolled": true
   },
   "outputs": [],
   "source": [
    "#List\n",
    "list1=[1,2,'apple',[2,3,4]]"
   ]
  },
  {
   "cell_type": "code",
   "execution_count": null,
   "id": "dd95da51",
   "metadata": {
    "scrolled": true
   },
   "outputs": [],
   "source": [
    "#tuple\n",
    "tuple1=(1,2,3,4,5,6,7,[2,3,4])"
   ]
  },
  {
   "cell_type": "markdown",
   "id": "a348f030",
   "metadata": {},
   "source": [
    "Dictionary"
   ]
  },
  {
   "cell_type": "code",
   "execution_count": null,
   "id": "638b525e",
   "metadata": {
    "scrolled": true
   },
   "outputs": [],
   "source": [
    "dict1={\"Name\":\"Anjali\",\"Age\":24}"
   ]
  },
  {
   "cell_type": "markdown",
   "id": "efccb57e",
   "metadata": {},
   "source": [
    "Set"
   ]
  },
  {
   "cell_type": "code",
   "execution_count": 11,
   "id": "f51efb7f",
   "metadata": {
    "scrolled": true
   },
   "outputs": [],
   "source": [
    "set1={7,1,2,3,4,5,6,6,7,9,8,9}"
   ]
  },
  {
   "cell_type": "code",
   "execution_count": 12,
   "id": "2238139a",
   "metadata": {},
   "outputs": [
    {
     "data": {
      "text/plain": [
       "{1, 2, 3, 4, 5, 6, 7, 8, 9}"
      ]
     },
     "execution_count": 12,
     "metadata": {},
     "output_type": "execute_result"
    }
   ],
   "source": [
    "set1"
   ]
  },
  {
   "cell_type": "markdown",
   "id": "fb3e76c2",
   "metadata": {},
   "source": [
    "### Type Casting"
   ]
  },
  {
   "cell_type": "markdown",
   "id": "cc9d99aa",
   "metadata": {},
   "source": [
    "# Operators"
   ]
  },
  {
   "cell_type": "markdown",
   "id": "969c6f32",
   "metadata": {},
   "source": [
    "Arithematic Operators"
   ]
  },
  {
   "cell_type": "code",
   "execution_count": 13,
   "id": "ff34c85f",
   "metadata": {
    "scrolled": true
   },
   "outputs": [
    {
     "data": {
      "text/plain": [
       "11"
      ]
     },
     "execution_count": 13,
     "metadata": {},
     "output_type": "execute_result"
    }
   ],
   "source": [
    "5+6"
   ]
  },
  {
   "cell_type": "code",
   "execution_count": 14,
   "id": "70d200ed",
   "metadata": {
    "scrolled": true
   },
   "outputs": [
    {
     "data": {
      "text/plain": [
       "0"
      ]
     },
     "execution_count": 14,
     "metadata": {},
     "output_type": "execute_result"
    }
   ],
   "source": [
    "5-5"
   ]
  },
  {
   "cell_type": "code",
   "execution_count": 15,
   "id": "c9cf53ad",
   "metadata": {
    "scrolled": true
   },
   "outputs": [
    {
     "data": {
      "text/plain": [
       "5.0"
      ]
     },
     "execution_count": 15,
     "metadata": {},
     "output_type": "execute_result"
    }
   ],
   "source": [
    "10/2 # returns a float value"
   ]
  },
  {
   "cell_type": "code",
   "execution_count": 16,
   "id": "19a119f4",
   "metadata": {
    "scrolled": true
   },
   "outputs": [
    {
     "data": {
      "text/plain": [
       "5"
      ]
     },
     "execution_count": 16,
     "metadata": {},
     "output_type": "execute_result"
    }
   ],
   "source": [
    "16//3 #rounds the result down to the smallest integer"
   ]
  },
  {
   "cell_type": "code",
   "execution_count": 17,
   "id": "6e3d6672",
   "metadata": {
    "scrolled": true
   },
   "outputs": [
    {
     "data": {
      "text/plain": [
       "-5"
      ]
     },
     "execution_count": 17,
     "metadata": {},
     "output_type": "execute_result"
    }
   ],
   "source": [
    "-13//3"
   ]
  },
  {
   "cell_type": "code",
   "execution_count": 18,
   "id": "a3378e37",
   "metadata": {
    "scrolled": true
   },
   "outputs": [
    {
     "data": {
      "text/plain": [
       "1"
      ]
     },
     "execution_count": 18,
     "metadata": {},
     "output_type": "execute_result"
    }
   ],
   "source": [
    "7%3"
   ]
  },
  {
   "cell_type": "code",
   "execution_count": 19,
   "id": "a3c9e87d",
   "metadata": {
    "scrolled": true
   },
   "outputs": [
    {
     "data": {
      "text/plain": [
       "1"
      ]
     },
     "execution_count": 19,
     "metadata": {},
     "output_type": "execute_result"
    }
   ],
   "source": [
    "-8%3"
   ]
  },
  {
   "cell_type": "code",
   "execution_count": 20,
   "id": "5948c7e4",
   "metadata": {
    "scrolled": true
   },
   "outputs": [
    {
     "data": {
      "text/plain": [
       "125"
      ]
     },
     "execution_count": 20,
     "metadata": {},
     "output_type": "execute_result"
    }
   ],
   "source": [
    "5**3"
   ]
  },
  {
   "cell_type": "code",
   "execution_count": 21,
   "id": "6e871678",
   "metadata": {
    "scrolled": true
   },
   "outputs": [
    {
     "data": {
      "text/plain": [
       "8.0"
      ]
     },
     "execution_count": 21,
     "metadata": {},
     "output_type": "execute_result"
    }
   ],
   "source": [
    "64**0.5"
   ]
  },
  {
   "cell_type": "markdown",
   "id": "8e6407c1",
   "metadata": {},
   "source": [
    "Comparison Operators"
   ]
  },
  {
   "cell_type": "code",
   "execution_count": 22,
   "id": "5b41158e",
   "metadata": {
    "scrolled": true
   },
   "outputs": [
    {
     "data": {
      "text/plain": [
       "False"
      ]
     },
     "execution_count": 22,
     "metadata": {},
     "output_type": "execute_result"
    }
   ],
   "source": [
    "5<4"
   ]
  },
  {
   "cell_type": "code",
   "execution_count": 23,
   "id": "8b0b7d5e",
   "metadata": {},
   "outputs": [
    {
     "data": {
      "text/plain": [
       "True"
      ]
     },
     "execution_count": 23,
     "metadata": {},
     "output_type": "execute_result"
    }
   ],
   "source": [
    "5>4"
   ]
  },
  {
   "cell_type": "code",
   "execution_count": 24,
   "id": "427e61e0",
   "metadata": {
    "scrolled": true
   },
   "outputs": [
    {
     "data": {
      "text/plain": [
       "True"
      ]
     },
     "execution_count": 24,
     "metadata": {},
     "output_type": "execute_result"
    }
   ],
   "source": [
    "10==10"
   ]
  },
  {
   "cell_type": "code",
   "execution_count": 27,
   "id": "f0ac95fd",
   "metadata": {
    "scrolled": true
   },
   "outputs": [
    {
     "data": {
      "text/plain": [
       "True"
      ]
     },
     "execution_count": 27,
     "metadata": {},
     "output_type": "execute_result"
    }
   ],
   "source": [
    "None == None"
   ]
  },
  {
   "cell_type": "code",
   "execution_count": 26,
   "id": "4e9f7318",
   "metadata": {
    "scrolled": true
   },
   "outputs": [
    {
     "data": {
      "text/plain": [
       "True"
      ]
     },
     "execution_count": 26,
     "metadata": {},
     "output_type": "execute_result"
    }
   ],
   "source": [
    "0 == False"
   ]
  },
  {
   "cell_type": "markdown",
   "id": "d0f7a5c8",
   "metadata": {},
   "source": [
    "Assignment Operators"
   ]
  },
  {
   "cell_type": "code",
   "execution_count": 28,
   "id": "163fa3da",
   "metadata": {
    "scrolled": true
   },
   "outputs": [
    {
     "name": "stdout",
     "output_type": "stream",
     "text": [
      "9\n"
     ]
    }
   ],
   "source": [
    "a=10\n",
    "a-=1 #a=a-1\n",
    "\n",
    "print(a)"
   ]
  },
  {
   "cell_type": "code",
   "execution_count": 29,
   "id": "8fe5a6db",
   "metadata": {
    "scrolled": true
   },
   "outputs": [
    {
     "name": "stdout",
     "output_type": "stream",
     "text": [
      "1\n"
     ]
    }
   ],
   "source": [
    "a=10\n",
    "a= +1 #a=a+1\n",
    "print(a)"
   ]
  },
  {
   "cell_type": "code",
   "execution_count": 30,
   "id": "e927b891",
   "metadata": {
    "scrolled": true
   },
   "outputs": [
    {
     "name": "stdout",
     "output_type": "stream",
     "text": [
      "9\n"
     ]
    }
   ],
   "source": [
    "a = 125\n",
    "b = 13\n",
    "a//=b #a=a//b\n",
    "print(a)"
   ]
  },
  {
   "cell_type": "markdown",
   "id": "e91e90d4",
   "metadata": {},
   "source": [
    "Logical Operators"
   ]
  },
  {
   "cell_type": "code",
   "execution_count": 31,
   "id": "2798af56",
   "metadata": {
    "scrolled": true
   },
   "outputs": [
    {
     "name": "stdout",
     "output_type": "stream",
     "text": [
      "False\n"
     ]
    }
   ],
   "source": [
    "a= True\n",
    "b= False\n",
    "print(a and b)"
   ]
  },
  {
   "cell_type": "code",
   "execution_count": 32,
   "id": "8407bfca",
   "metadata": {
    "scrolled": true
   },
   "outputs": [
    {
     "data": {
      "text/plain": [
       "False"
      ]
     },
     "execution_count": 32,
     "metadata": {},
     "output_type": "execute_result"
    }
   ],
   "source": [
    "marks=56\n",
    "marks>50 and marks<55"
   ]
  },
  {
   "cell_type": "code",
   "execution_count": 33,
   "id": "c1fd5c44",
   "metadata": {},
   "outputs": [
    {
     "data": {
      "text/plain": [
       "True"
      ]
     },
     "execution_count": 33,
     "metadata": {},
     "output_type": "execute_result"
    }
   ],
   "source": [
    "marks>50 or marks<60"
   ]
  },
  {
   "cell_type": "code",
   "execution_count": 34,
   "id": "60813b28",
   "metadata": {
    "scrolled": true
   },
   "outputs": [
    {
     "data": {
      "text/plain": [
       "False"
      ]
     },
     "execution_count": 34,
     "metadata": {},
     "output_type": "execute_result"
    }
   ],
   "source": [
    "raining =True\n",
    "not raining"
   ]
  },
  {
   "cell_type": "code",
   "execution_count": 35,
   "id": "db11f0a1",
   "metadata": {
    "scrolled": true
   },
   "outputs": [
    {
     "name": "stdout",
     "output_type": "stream",
     "text": [
      "False True\n"
     ]
    }
   ],
   "source": [
    "a,b = 2,1\n",
    "c= a < b #2<1 --false\n",
    "d = (a>b) and (c<b) #t and t --t  \n",
    "print(c,d)"
   ]
  },
  {
   "cell_type": "markdown",
   "id": "3f1713fe",
   "metadata": {},
   "source": [
    "### Taking User Input"
   ]
  },
  {
   "cell_type": "code",
   "execution_count": 36,
   "id": "fd3c3cbc",
   "metadata": {
    "scrolled": true
   },
   "outputs": [
    {
     "name": "stdout",
     "output_type": "stream",
     "text": [
      "Enter your name:Riya\n"
     ]
    }
   ],
   "source": [
    "inp=input(\"Enter your name:\") #by default the input type is string "
   ]
  },
  {
   "cell_type": "code",
   "execution_count": 37,
   "id": "3e788974",
   "metadata": {
    "scrolled": true
   },
   "outputs": [
    {
     "name": "stdout",
     "output_type": "stream",
     "text": [
      "10\n"
     ]
    },
    {
     "ename": "TypeError",
     "evalue": "can only concatenate str (not \"int\") to str",
     "output_type": "error",
     "traceback": [
      "\u001b[1;31m---------------------------------------------------------------------------\u001b[0m",
      "\u001b[1;31mTypeError\u001b[0m                                 Traceback (most recent call last)",
      "\u001b[1;32mC:\\Users\\LAKSHA~1.RAZ\\AppData\\Local\\Temp/ipykernel_14284/918390814.py\u001b[0m in \u001b[0;36m<module>\u001b[1;34m\u001b[0m\n\u001b[0;32m      1\u001b[0m \u001b[0mage\u001b[0m \u001b[1;33m=\u001b[0m \u001b[0minput\u001b[0m\u001b[1;33m(\u001b[0m\u001b[1;33m)\u001b[0m\u001b[1;33m\u001b[0m\u001b[1;33m\u001b[0m\u001b[0m\n\u001b[1;32m----> 2\u001b[1;33m \u001b[0mage_after_10_years\u001b[0m \u001b[1;33m=\u001b[0m \u001b[0mage\u001b[0m \u001b[1;33m+\u001b[0m \u001b[1;36m10\u001b[0m\u001b[1;33m\u001b[0m\u001b[1;33m\u001b[0m\u001b[0m\n\u001b[0m\u001b[0;32m      3\u001b[0m \u001b[0mprint\u001b[0m\u001b[1;33m(\u001b[0m\u001b[0mage_after_10_years\u001b[0m\u001b[1;33m)\u001b[0m\u001b[1;33m\u001b[0m\u001b[1;33m\u001b[0m\u001b[0m\n",
      "\u001b[1;31mTypeError\u001b[0m: can only concatenate str (not \"int\") to str"
     ]
    }
   ],
   "source": [
    "age = input() \n",
    "age_after_10_years = age + 10\n",
    "print(age_after_10_years)"
   ]
  },
  {
   "cell_type": "code",
   "execution_count": 38,
   "id": "0eda3fab",
   "metadata": {
    "scrolled": true
   },
   "outputs": [
    {
     "name": "stdout",
     "output_type": "stream",
     "text": [
      "10\n",
      "20\n"
     ]
    }
   ],
   "source": [
    "age = int(input())\n",
    "age_after_10_years = age + 10\n",
    "print(age_after_10_years)"
   ]
  },
  {
   "cell_type": "code",
   "execution_count": 39,
   "id": "b6328725",
   "metadata": {
    "scrolled": true
   },
   "outputs": [
    {
     "name": "stdout",
     "output_type": "stream",
     "text": [
      "python is good\n",
      "hi-there\n"
     ]
    }
   ],
   "source": [
    "print(\"python\",\"is\",\"good\") #1 space is default separator\n",
    "\n",
    "#add explicit separator\n",
    "print(\"hi\",\"there\",sep=\"-\")"
   ]
  }
 ],
 "metadata": {
  "kernelspec": {
   "display_name": "Python 3 (ipykernel)",
   "language": "python",
   "name": "python3"
  },
  "language_info": {
   "codemirror_mode": {
    "name": "ipython",
    "version": 3
   },
   "file_extension": ".py",
   "mimetype": "text/x-python",
   "name": "python",
   "nbconvert_exporter": "python",
   "pygments_lexer": "ipython3",
   "version": "3.9.7"
  }
 },
 "nbformat": 4,
 "nbformat_minor": 5
}
