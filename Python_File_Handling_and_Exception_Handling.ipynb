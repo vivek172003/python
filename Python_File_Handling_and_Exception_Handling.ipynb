{
 "cells": [
  {
   "cell_type": "markdown",
   "id": "cbf7ee42",
   "metadata": {},
   "source": [
    "# File Handling in Python"
   ]
  },
  {
   "cell_type": "markdown",
   "id": "1663cd5b",
   "metadata": {},
   "source": [
    "- Various file operations (e.g. read, write, append, etc.)\n",
    "- Python allows you to work with different file types (e.g. text files, binary files, CSV files , etc.)"
   ]
  },
  {
   "cell_type": "markdown",
   "id": "1bf4d14f",
   "metadata": {},
   "source": [
    "### Opening a File"
   ]
  },
  {
   "cell_type": "markdown",
   "id": "1525dbb6",
   "metadata": {},
   "source": [
    "#### Syntax\n",
    "\n",
    "- filename_var = open(file_name,mode)\n",
    "- file_name \n",
    "    - Either file shoulde be in the same location as your python or you need to specify the path.\n",
    "    - Extension should be specified.\n",
    "- mode\n",
    "    - Various modes are there to access a file. (r-read, w-write, a -append, etc.)"
   ]
  },
  {
   "cell_type": "markdown",
   "id": "83ba2571",
   "metadata": {},
   "source": [
    "##### Read mode - 'r'\n",
    "\n",
    "`opens an existing file for a read operation.`"
   ]
  },
  {
   "cell_type": "code",
   "execution_count": 38,
   "id": "364b30a2",
   "metadata": {
    "scrolled": true
   },
   "outputs": [
    {
     "name": "stdout",
     "output_type": "stream",
     "text": [
      "<_io.TextIOWrapper name='fun_fact.txt' mode='r' encoding='cp1252'>\n"
     ]
    }
   ],
   "source": [
    "# a file named \"fun_fact\", will be opened with the reading mode.\n",
    "\n",
    "file = open('fun_fact.txt', 'r')\n",
    "\n",
    "print(file)"
   ]
  },
  {
   "cell_type": "code",
   "execution_count": 39,
   "id": "0d1df196",
   "metadata": {
    "scrolled": true
   },
   "outputs": [
    {
     "data": {
      "text/plain": [
       "\"Did you know?\\n1. Honey never spoils. Archaeologists have found pots of honey in ancient Egyptian tombs that are over 3,000 years old and still edible.\\n2. Octopuses have three hearts and blue blood. Two hearts pump blood to the gills, while the third pumps it to the rest of the body.\\n3. Bananas are berries, but strawberries aren't. Botanically speaking, bananas qualify as berries, while strawberries do not.\\n4. A day on Venus is longer than a year on Venus. Venus rotates very slowly on its axis, taking about 243 Earth days to complete one rotation, but it takes only about 225 Earth days for Venus to orbit the Sun.\\n5. The Eiffel Tower can be 15 cm taller during the summer. When a substance is heated up, its particles move more and it takes up a larger volumeâ€”this is called thermal expansion.\""
      ]
     },
     "execution_count": 39,
     "metadata": {},
     "output_type": "execute_result"
    }
   ],
   "source": [
    "#printing complete file\n",
    "\n",
    "file.read()"
   ]
  },
  {
   "cell_type": "code",
   "execution_count": 40,
   "id": "7f5e3c3f",
   "metadata": {
    "scrolled": true
   },
   "outputs": [
    {
     "data": {
      "text/plain": [
       "''"
      ]
     },
     "execution_count": 40,
     "metadata": {},
     "output_type": "execute_result"
    }
   ],
   "source": [
    "#reads the first n characters\n",
    "\n",
    "file.read(10) "
   ]
  },
  {
   "cell_type": "code",
   "execution_count": 41,
   "id": "3be7daa7",
   "metadata": {},
   "outputs": [
    {
     "data": {
      "text/plain": [
       "801"
      ]
     },
     "execution_count": 41,
     "metadata": {},
     "output_type": "execute_result"
    }
   ],
   "source": [
    "# a method of file objects that returns the \n",
    "# current position of the file pointer (cursor) within the file\n",
    "\n",
    "file.tell()"
   ]
  },
  {
   "cell_type": "code",
   "execution_count": 42,
   "id": "05b1dfcd",
   "metadata": {
    "scrolled": true
   },
   "outputs": [
    {
     "data": {
      "text/plain": [
       "'Did you kn'"
      ]
     },
     "execution_count": 42,
     "metadata": {},
     "output_type": "execute_result"
    }
   ],
   "source": [
    "#resets the cusors to the specified position\n",
    "\n",
    "file.seek(0) \n",
    "file.read(10)"
   ]
  },
  {
   "cell_type": "code",
   "execution_count": 43,
   "id": "ee298b7a",
   "metadata": {},
   "outputs": [
    {
     "data": {
      "text/plain": [
       "['Did you know?\\n',\n",
       " '1. Honey never spoils. Archaeologists have found pots of honey in ancient Egyptian tombs that are over 3,000 years old and still edible.\\n',\n",
       " '2. Octopuses have three hearts and blue blood. Two hearts pump blood to the gills, while the third pumps it to the rest of the body.\\n',\n",
       " \"3. Bananas are berries, but strawberries aren't. Botanically speaking, bananas qualify as berries, while strawberries do not.\\n\",\n",
       " '4. A day on Venus is longer than a year on Venus. Venus rotates very slowly on its axis, taking about 243 Earth days to complete one rotation, but it takes only about 225 Earth days for Venus to orbit the Sun.\\n',\n",
       " '5. The Eiffel Tower can be 15 cm taller during the summer. When a substance is heated up, its particles move more and it takes up a larger volumeâ€”this is called thermal expansion.']"
      ]
     },
     "execution_count": 43,
     "metadata": {},
     "output_type": "execute_result"
    }
   ],
   "source": [
    "#readlines - returns a list of each line as an element\n",
    "\n",
    "file.seek(0) \n",
    "file.readlines()"
   ]
  },
  {
   "cell_type": "code",
   "execution_count": 44,
   "id": "3b155566",
   "metadata": {
    "scrolled": true
   },
   "outputs": [
    {
     "name": "stdout",
     "output_type": "stream",
     "text": [
      "Did you know?\n",
      "\n",
      "1. Honey never spoils. Archaeologists have found pots of honey in ancient Egyptian tombs that are over 3,000 years old and still edible.\n",
      "\n",
      "2. Octopuses have three hearts and blue blood. Two hearts pump blood to the gills, while the third pumps it to the rest of the body.\n",
      "\n",
      "3. Bananas are berries, but strawberries aren't. Botanically speaking, bananas qualify as berries, while strawberries do not.\n",
      "\n",
      "4. A day on Venus is longer than a year on Venus. Venus rotates very slowly on its axis, taking about 243 Earth days to complete one rotation, but it takes only about 225 Earth days for Venus to orbit the Sun.\n",
      "\n",
      "5. The Eiffel Tower can be 15 cm taller during the summer. When a substance is heated up, its particles move more and it takes up a larger volumeâ€”this is called thermal expansion.\n"
     ]
    }
   ],
   "source": [
    "#reading line by line\n",
    "\n",
    "file.seek(0)\n",
    "for line in file:\n",
    "        print(line)"
   ]
  },
  {
   "cell_type": "code",
   "execution_count": 45,
   "id": "676ffbd7",
   "metadata": {
    "scrolled": true
   },
   "outputs": [
    {
     "name": "stdout",
     "output_type": "stream",
     "text": [
      "Did you know?\n",
      "1. Honey never spoils. Archaeologists have found pots of honey in ancient Egyptian tombs that are over 3,000 years old and still edible.\n",
      "2. Octopuses have three hearts and blue blood. Two hearts pump blood to the gills, while the third pumps it to the rest of the body.\n",
      "3. Bananas are berries, but strawberries aren't. Botanically speaking, bananas qualify as berries, while strawberries do not.\n",
      "4. A day on Venus is longer than a year on Venus. Venus rotates very slowly on its axis, taking about 243 Earth days to complete one rotation, but it takes only about 225 Earth days for Venus to orbit the Sun.\n",
      "5. The Eiffel Tower can be 15 cm taller during the summer. When a substance is heated up, its particles move more and it takes up a larger volumeâ€”this is called thermal expansion.\n"
     ]
    }
   ],
   "source": [
    "# Python code to illustrate with()\n",
    "\n",
    "with open(\"fun_fact.txt\") as new_file:  \n",
    "    data = new_file.read()\n",
    "print(data)\n",
    "new_file.close() "
   ]
  },
  {
   "cell_type": "code",
   "execution_count": 46,
   "id": "46fcefe5",
   "metadata": {},
   "outputs": [
    {
     "ename": "ValueError",
     "evalue": "I/O operation on closed file.",
     "output_type": "error",
     "traceback": [
      "\u001b[1;31m---------------------------------------------------------------------------\u001b[0m",
      "\u001b[1;31mValueError\u001b[0m                                Traceback (most recent call last)",
      "\u001b[1;32mC:\\Users\\LAKSHA~1.RAZ\\AppData\\Local\\Temp/ipykernel_8184/2715981536.py\u001b[0m in \u001b[0;36m<module>\u001b[1;34m\u001b[0m\n\u001b[0;32m      1\u001b[0m \u001b[1;31m#ques 1\u001b[0m\u001b[1;33m\u001b[0m\u001b[1;33m\u001b[0m\u001b[0m\n\u001b[0;32m      2\u001b[0m \u001b[1;33m\u001b[0m\u001b[0m\n\u001b[1;32m----> 3\u001b[1;33m \u001b[0mnew_file\u001b[0m\u001b[1;33m.\u001b[0m\u001b[0mread\u001b[0m\u001b[1;33m(\u001b[0m\u001b[1;33m)\u001b[0m\u001b[1;33m\u001b[0m\u001b[1;33m\u001b[0m\u001b[0m\n\u001b[0m",
      "\u001b[1;31mValueError\u001b[0m: I/O operation on closed file."
     ]
    }
   ],
   "source": [
    "#ques 1\n",
    "\n",
    "new_file.read()"
   ]
  },
  {
   "cell_type": "markdown",
   "id": "b8240cac",
   "metadata": {},
   "source": [
    "- new_file.close() -  `close() command terminates all the resources in use and frees the system of this particular program.`"
   ]
  },
  {
   "cell_type": "code",
   "execution_count": 47,
   "id": "b3a9667a",
   "metadata": {
    "scrolled": true
   },
   "outputs": [
    {
     "name": "stdout",
     "output_type": "stream",
     "text": [
      "['Did you know?\\n']\n",
      "['1', ' Honey never spoils', ' Archaeologists have found pots of honey in ancient Egyptian tombs that are over 3,000 years old and still edible', '\\n']\n",
      "['2', ' Octopuses have three hearts and blue blood', ' Two hearts pump blood to the gills, while the third pumps it to the rest of the body', '\\n']\n",
      "['3', \" Bananas are berries, but strawberries aren't\", ' Botanically speaking, bananas qualify as berries, while strawberries do not', '\\n']\n",
      "['4', ' A day on Venus is longer than a year on Venus', ' Venus rotates very slowly on its axis, taking about 243 Earth days to complete one rotation, but it takes only about 225 Earth days for Venus to orbit the Sun', '\\n']\n",
      "['5', ' The Eiffel Tower can be 15 cm taller during the summer', ' When a substance is heated up, its particles move more and it takes up a larger volumeâ€”this is called thermal expansion', '']\n"
     ]
    }
   ],
   "source": [
    "# Python code to illustrate split() function\n",
    "\n",
    "with open(\"fun_fact.txt\", \"r\") as file:\n",
    "    data = file.readlines()\n",
    "    for line in data:\n",
    "        word = line.split('.')\n",
    "        print (word)"
   ]
  },
  {
   "cell_type": "code",
   "execution_count": 48,
   "id": "b22598c6",
   "metadata": {},
   "outputs": [
    {
     "ename": "ValueError",
     "evalue": "I/O operation on closed file.",
     "output_type": "error",
     "traceback": [
      "\u001b[1;31m---------------------------------------------------------------------------\u001b[0m",
      "\u001b[1;31mValueError\u001b[0m                                Traceback (most recent call last)",
      "\u001b[1;32mC:\\Users\\LAKSHA~1.RAZ\\AppData\\Local\\Temp/ipykernel_8184/1407933502.py\u001b[0m in \u001b[0;36m<module>\u001b[1;34m\u001b[0m\n\u001b[1;32m----> 1\u001b[1;33m \u001b[0mfile\u001b[0m\u001b[1;33m.\u001b[0m\u001b[0mread\u001b[0m\u001b[1;33m(\u001b[0m\u001b[1;33m)\u001b[0m\u001b[1;33m\u001b[0m\u001b[1;33m\u001b[0m\u001b[0m\n\u001b[0m",
      "\u001b[1;31mValueError\u001b[0m: I/O operation on closed file."
     ]
    }
   ],
   "source": [
    "file.read()"
   ]
  },
  {
   "cell_type": "markdown",
   "id": "43ab468e",
   "metadata": {},
   "source": [
    "##### Write mode - 'w'\n",
    "`opens an existing file for a write operation. If the file already contains some data, then it will be overridden but if the file is not present then it creates the file as well.`"
   ]
  },
  {
   "cell_type": "code",
   "execution_count": 50,
   "id": "6a549ebb",
   "metadata": {},
   "outputs": [
    {
     "data": {
      "text/plain": [
       "42"
      ]
     },
     "execution_count": 50,
     "metadata": {},
     "output_type": "execute_result"
    }
   ],
   "source": [
    "#Creating a File using the write() Function\n",
    "\n",
    "file = open('sample.txt','w')\n",
    "\n",
    "file.write(\"This is the write command\\n\")\n",
    "file.write(\"It allows us to write in a particular file\") "
   ]
  },
  {
   "cell_type": "code",
   "execution_count": null,
   "id": "ae9d7614",
   "metadata": {},
   "outputs": [],
   "source": [
    "# write() method returns the number of characters written\n",
    "\n",
    "len(\"It allows us to write in a particular file\") "
   ]
  },
  {
   "cell_type": "code",
   "execution_count": null,
   "id": "ae4f94c1",
   "metadata": {},
   "outputs": [],
   "source": [
    "# Python code to illustrate with() alongwith write()\n",
    "\n",
    "with open(\"sample.txt\", \"w\") as f: \n",
    "    f.write(\"Hello World!!!\")"
   ]
  },
  {
   "cell_type": "markdown",
   "id": "cb0e3882",
   "metadata": {},
   "source": [
    "##### Append mode - 'a'\n",
    "\n",
    "- `open an existing file for append operation. It won’t override existing data.`\n",
    "- `if the file is not present then it creates the file as well`"
   ]
  },
  {
   "cell_type": "code",
   "execution_count": 51,
   "id": "cbdb2b32",
   "metadata": {},
   "outputs": [],
   "source": [
    "# Python code to illustrate append() mode\n",
    "\n",
    "file = open('sample.txt', 'a')\n",
    "file.write(\"\\nThis will add this line\")\n",
    "file.close()"
   ]
  },
  {
   "cell_type": "markdown",
   "id": "0328a81c",
   "metadata": {},
   "source": [
    "##### r+ mode"
   ]
  },
  {
   "cell_type": "markdown",
   "id": "e919e903",
   "metadata": {},
   "source": [
    "- Opens an existing file for both reading and writing.\n",
    "- Raises an error if the file does not exist.\n",
    "- Does not truncate the file."
   ]
  },
  {
   "cell_type": "code",
   "execution_count": 52,
   "id": "b074fa84",
   "metadata": {},
   "outputs": [
    {
     "name": "stdout",
     "output_type": "stream",
     "text": [
      "This is the write command\n",
      "It allows us to write in a particular file\n",
      "This will add this line\n"
     ]
    }
   ],
   "source": [
    " with open('sample.txt', 'r+') as f:\n",
    "    content = f.read()       # Read the existing content\n",
    "    print(content)           # Outputs: Hello\n",
    "    f.seek(0)                # Move the pointer to the beginning of the file\n",
    "    f.write(\"Hi\\n\")          # Overwrites the beginning of the file\n",
    "    # The file now contains: \"Hi\""
   ]
  },
  {
   "cell_type": "markdown",
   "id": "9547c664",
   "metadata": {},
   "source": [
    "##### w+ mode"
   ]
  },
  {
   "cell_type": "markdown",
   "id": "3868f614",
   "metadata": {},
   "source": [
    "- Opens a file for both reading and writing.\n",
    "- Creates a new file if it does not exist.\n",
    "- Truncates the file (clears existing content) if it already exists."
   ]
  },
  {
   "cell_type": "code",
   "execution_count": null,
   "id": "dbb913d0",
   "metadata": {},
   "outputs": [],
   "source": [
    "with open('sample.txt', 'w+') as f:\n",
    "    f.write(\"Hi\")            # The file is cleared and \"Hi\" is written\n",
    "    f.seek(0)                # Move the pointer to the beginning of the file\n",
    "    content = f.read()       # Read the content\n",
    "    print(content)           # Outputs: Hi"
   ]
  },
  {
   "cell_type": "markdown",
   "id": "e1880b34",
   "metadata": {},
   "source": [
    "##### a+ mode"
   ]
  },
  {
   "cell_type": "markdown",
   "id": "61b242dc",
   "metadata": {},
   "source": [
    "- Opens a file for both appending and reading.\n",
    "- Creates a new file if it does not exist.\n",
    "- The file is not truncated. Existing content is preserved, and new content is appended."
   ]
  },
  {
   "cell_type": "code",
   "execution_count": null,
   "id": "463185ee",
   "metadata": {},
   "outputs": [],
   "source": [
    "# Open the file in 'a+' mode\n",
    "\n",
    "with open('sample_new.txt', 'a+') as f:\n",
    "    # Move the file pointer to the beginning to read existing content\n",
    "    f.seek(0)\n",
    "    content = f.read()  # Read existing content\n",
    "    print(\"Existing content:\", content)  # Outputs the current content of the file\n",
    "\n",
    "    # Write new content to the end of the file\n",
    "    f.write(\"Appended text.\\n\")\n",
    "\n",
    "    # Move the file pointer to the beginning again to read newly appended content\n",
    "    f.seek(0)\n",
    "    new_content = f.read()\n",
    "    print(\"New content:\", new_content)  # Outputs the entire content of the file, including the appended text\n"
   ]
  },
  {
   "cell_type": "code",
   "execution_count": 53,
   "id": "92b82525",
   "metadata": {},
   "outputs": [
    {
     "name": "stdout",
     "output_type": "stream",
     "text": [
      "File example.txt created successfully.\n",
      "Hello, world!\n",
      "\n",
      "Text appended to file example.txt successfully.\n",
      "Hello, world!\n",
      "This is some additional text.\n",
      "\n",
      "File example.txt renamed to new_example.txt successfully.\n",
      "Hello, world!\n",
      "This is some additional text.\n",
      "\n",
      "File new_example.txt deleted successfully.\n"
     ]
    }
   ],
   "source": [
    "#Example Program\n",
    "\n",
    "# import os\n",
    "\n",
    "def create_file(filename):\n",
    "    try:\n",
    "        with open(filename, 'w') as f:\n",
    "            f.write('Hello, world!\\n')\n",
    "        print(\"File \" + filename + \" created successfully.\")\n",
    "    except IOError:\n",
    "        print(\"Error: could not create file \" + filename)\n",
    "\n",
    "\n",
    "def read_file(filename):\n",
    "    try:\n",
    "        with open(filename, 'r') as f:\n",
    "            contents = f.read()\n",
    "            print(contents)\n",
    "    except IOError:\n",
    "        print(\"Error: could not read file \" + filename)\n",
    "\n",
    "def append_file(filename, text):\n",
    "    try:\n",
    "        with open(filename, 'a') as f:\n",
    "            f.write(text)\n",
    "        print(\"Text appended to file \" + filename + \" successfully.\")\n",
    "    except IOError:\n",
    "        print(\"Error: could not append to file \" + filename)\n",
    "\n",
    "def rename_file(filename, new_filename):\n",
    "    try:\n",
    "        os.rename(filename, new_filename)\n",
    "        print(\"File \" + filename + \" renamed to \" + new_filename + \" successfully.\")\n",
    "    except IOError:\n",
    "        print(\"Error: could not rename file \" + filename)\n",
    "\n",
    "def delete_file(filename):\n",
    "    try:\n",
    "        os.remove(filename)\n",
    "        print(\"File \" + filename + \" deleted successfully.\")\n",
    "    except IOError:\n",
    "        print(\"Error: could not delete file \" + filename)\n",
    "\n",
    "\n",
    "filename = \"example.txt\"\n",
    "new_filename = \"new_example.txt\"\n",
    "\n",
    "create_file(filename)\n",
    "read_file(filename)\n",
    "append_file(filename, \"This is some additional text.\\n\")\n",
    "read_file(filename)\n",
    "rename_file(filename, new_filename)\n",
    "read_file(new_filename)\n",
    "delete_file(new_filename)"
   ]
  },
  {
   "cell_type": "markdown",
   "id": "a5e63478",
   "metadata": {},
   "source": [
    "# Exception Handling"
   ]
  },
  {
   "cell_type": "markdown",
   "id": "1ffcf8e9",
   "metadata": {},
   "source": [
    "`Exceptions` are raised when the program is syntactically correct, but the code results in an error.\n",
    "- This error does not stop the execution of the program, however, it changes the normal flow of the program"
   ]
  },
  {
   "cell_type": "markdown",
   "id": "92c5ec29",
   "metadata": {},
   "source": [
    "There are several built-in Python exceptions that can be raised when an error occurs during the execution of a program. Here are some of the most common types of exceptions in Python:\n",
    "\n",
    "- `SyntaxError`: This exception is raised when the interpreter encounters a syntax error in the code, such as a misspelled keyword, a missing colon, or an unbalanced parenthesis.\n",
    "- `TypeError`: This exception is raised when an operation or function is applied to an object of the wrong type, such as adding a string to an integer.\n",
    "- `NameError`: This exception is raised when a variable or function name is not found in the current scope.\n",
    "- `IndexError`: This exception is raised when an index is out of range for a list, tuple, or other sequence types.\n",
    "- `KeyError`: This exception is raised when a key is not found in a dictionary.\n",
    "- `ValueError`: This exception is raised when a function or method is called with an invalid argument or input, such as trying to convert a string to an integer when the string does not represent a valid integer.\n",
    "- `AttributeError`: This exception is raised when an attribute or method is not found on an object, such as trying to access a non-existent attribute of a class instance.\n",
    "- `IOError`: This exception is raised when an I/O operation, such as reading or writing a file, fails due to an input/output error.\n",
    "- `ZeroDivisionError`: This exception is raised when an attempt is made to divide a number by zero.\n",
    "- `ImportError`: This exception is raised when an import statement fails to find or load a module."
   ]
  },
  {
   "cell_type": "code",
   "execution_count": 54,
   "id": "83c65a9e",
   "metadata": {},
   "outputs": [
    {
     "ename": "ZeroDivisionError",
     "evalue": "division by zero",
     "output_type": "error",
     "traceback": [
      "\u001b[1;31m---------------------------------------------------------------------------\u001b[0m",
      "\u001b[1;31mZeroDivisionError\u001b[0m                         Traceback (most recent call last)",
      "\u001b[1;32mC:\\Users\\LAKSHA~1.RAZ\\AppData\\Local\\Temp/ipykernel_8184/2504512140.py\u001b[0m in \u001b[0;36m<module>\u001b[1;34m\u001b[0m\n\u001b[0;32m      1\u001b[0m \u001b[0mmarks\u001b[0m \u001b[1;33m=\u001b[0m \u001b[1;36m10000\u001b[0m\u001b[1;33m\u001b[0m\u001b[1;33m\u001b[0m\u001b[0m\n\u001b[1;32m----> 2\u001b[1;33m \u001b[0ma\u001b[0m \u001b[1;33m=\u001b[0m \u001b[0mmarks\u001b[0m \u001b[1;33m/\u001b[0m \u001b[1;36m0\u001b[0m\u001b[1;33m\u001b[0m\u001b[1;33m\u001b[0m\u001b[0m\n\u001b[0m\u001b[0;32m      3\u001b[0m \u001b[0mprint\u001b[0m\u001b[1;33m(\u001b[0m\u001b[0ma\u001b[0m\u001b[1;33m)\u001b[0m\u001b[1;33m\u001b[0m\u001b[1;33m\u001b[0m\u001b[0m\n",
      "\u001b[1;31mZeroDivisionError\u001b[0m: division by zero"
     ]
    }
   ],
   "source": [
    "marks = 10000\n",
    "a = marks / 0\n",
    "print(a)"
   ]
  },
  {
   "cell_type": "code",
   "execution_count": 55,
   "id": "bc37a79f",
   "metadata": {},
   "outputs": [
    {
     "ename": "SyntaxError",
     "evalue": "invalid syntax (Temp/ipykernel_8184/939301409.py, line 1)",
     "output_type": "error",
     "traceback": [
      "\u001b[1;36m  File \u001b[1;32m\"C:\\Users\\LAKSHA~1.RAZ\\AppData\\Local\\Temp/ipykernel_8184/939301409.py\"\u001b[1;36m, line \u001b[1;32m1\u001b[0m\n\u001b[1;33m    marks = /\u001b[0m\n\u001b[1;37m            ^\u001b[0m\n\u001b[1;31mSyntaxError\u001b[0m\u001b[1;31m:\u001b[0m invalid syntax\n"
     ]
    }
   ],
   "source": [
    "marks = /"
   ]
  },
  {
   "cell_type": "markdown",
   "id": "b11e966f",
   "metadata": {},
   "source": [
    "#### How to handle exceptions?"
   ]
  },
  {
   "cell_type": "code",
   "execution_count": null,
   "id": "256ce7fc",
   "metadata": {},
   "outputs": [],
   "source": [
    "try:\n",
    "    # Contains the code that may potentially raise an exception.\n",
    "    # Python executes this block first.\n",
    "except ExceptionType as e:\n",
    "    # Contains the code that handles the exception.\n",
    "    # It executes if an exception occurs in the try block.\n",
    "    # You can catch specific exceptions or use a generic catch-all.\n",
    "    handle_exception(e)\n",
    "else:\n",
    "    # Contains code that runs if no exceptions were raised in the try block.\n",
    "    # This block is executed only if the try block succeeds without exceptions.\n",
    "    no_exception_occurred()\n",
    "finally:\n",
    "    # Contains code that will always run,\n",
    "    #whether an exception was raised or not.\n",
    "    # It is often used for cleanup actions \n",
    "    #(e.g., closing files or releasing resources).\n",
    "    cleanup_code()"
   ]
  },
  {
   "cell_type": "code",
   "execution_count": 56,
   "id": "bd70bae7",
   "metadata": {},
   "outputs": [
    {
     "name": "stdout",
     "output_type": "stream",
     "text": [
      "Second element = 2\n",
      "An error occurred\n"
     ]
    }
   ],
   "source": [
    "#ques 2\n",
    "\n",
    "a = [1, 2, 3]\n",
    "try: \n",
    "    print (\"Second element = %d\" %(a[1]))\n",
    "\n",
    "    print (\"Fourth element = %d\" %(a[3]))\n",
    "\n",
    "except:\n",
    "    print (\"An error occurred\")\n"
   ]
  },
  {
   "cell_type": "markdown",
   "id": "a92f13c8",
   "metadata": {},
   "source": [
    "### Catching Specific Exception"
   ]
  },
  {
   "cell_type": "code",
   "execution_count": null,
   "id": "169b80be",
   "metadata": {},
   "outputs": [],
   "source": [
    "try:\n",
    "    # statement(s)\n",
    "except IndexError:\n",
    "    # statement(s)\n",
    "except ValueError:\n",
    "    # statement(s)"
   ]
  },
  {
   "cell_type": "code",
   "execution_count": 59,
   "id": "e1528865",
   "metadata": {},
   "outputs": [
    {
     "ename": "UnboundLocalError",
     "evalue": "local variable 'b' referenced before assignment",
     "output_type": "error",
     "traceback": [
      "\u001b[1;31m---------------------------------------------------------------------------\u001b[0m",
      "\u001b[1;31mUnboundLocalError\u001b[0m                         Traceback (most recent call last)",
      "\u001b[1;32mC:\\Users\\LAKSHA~1.RAZ\\AppData\\Local\\Temp/ipykernel_8184/37147475.py\u001b[0m in \u001b[0;36m<module>\u001b[1;34m\u001b[0m\n\u001b[0;32m      9\u001b[0m \u001b[1;32mtry\u001b[0m\u001b[1;33m:\u001b[0m\u001b[1;33m\u001b[0m\u001b[1;33m\u001b[0m\u001b[0m\n\u001b[0;32m     10\u001b[0m \u001b[1;31m#     fun(3)\u001b[0m\u001b[1;33m\u001b[0m\u001b[1;33m\u001b[0m\u001b[0m\n\u001b[1;32m---> 11\u001b[1;33m     \u001b[0mfun\u001b[0m\u001b[1;33m(\u001b[0m\u001b[1;36m5\u001b[0m\u001b[1;33m)\u001b[0m\u001b[1;33m\u001b[0m\u001b[1;33m\u001b[0m\u001b[0m\n\u001b[0m\u001b[0;32m     12\u001b[0m \u001b[1;32mexcept\u001b[0m \u001b[0mZeroDivisionError\u001b[0m\u001b[1;33m:\u001b[0m\u001b[1;33m\u001b[0m\u001b[1;33m\u001b[0m\u001b[0m\n\u001b[0;32m     13\u001b[0m     \u001b[0mprint\u001b[0m\u001b[1;33m(\u001b[0m\u001b[1;34m\"ZeroDivisionError Occurred and Handled\"\u001b[0m\u001b[1;33m)\u001b[0m\u001b[1;33m\u001b[0m\u001b[1;33m\u001b[0m\u001b[0m\n",
      "\u001b[1;32mC:\\Users\\LAKSHA~1.RAZ\\AppData\\Local\\Temp/ipykernel_8184/37147475.py\u001b[0m in \u001b[0;36mfun\u001b[1;34m(a)\u001b[0m\n\u001b[0;32m      5\u001b[0m \u001b[1;33m\u001b[0m\u001b[0m\n\u001b[0;32m      6\u001b[0m         \u001b[0mb\u001b[0m \u001b[1;33m=\u001b[0m \u001b[0ma\u001b[0m\u001b[1;33m/\u001b[0m\u001b[1;33m(\u001b[0m\u001b[0ma\u001b[0m\u001b[1;33m-\u001b[0m\u001b[1;36m3\u001b[0m\u001b[1;33m)\u001b[0m\u001b[1;33m\u001b[0m\u001b[1;33m\u001b[0m\u001b[0m\n\u001b[1;32m----> 7\u001b[1;33m     \u001b[0mprint\u001b[0m\u001b[1;33m(\u001b[0m\u001b[1;34m\"Value of b = \"\u001b[0m\u001b[1;33m,\u001b[0m \u001b[0mb\u001b[0m\u001b[1;33m)\u001b[0m\u001b[1;33m\u001b[0m\u001b[1;33m\u001b[0m\u001b[0m\n\u001b[0m\u001b[0;32m      8\u001b[0m \u001b[1;33m\u001b[0m\u001b[0m\n\u001b[0;32m      9\u001b[0m \u001b[1;32mtry\u001b[0m\u001b[1;33m:\u001b[0m\u001b[1;33m\u001b[0m\u001b[1;33m\u001b[0m\u001b[0m\n",
      "\u001b[1;31mUnboundLocalError\u001b[0m: local variable 'b' referenced before assignment"
     ]
    }
   ],
   "source": [
    "#ques 2\n",
    "\n",
    "def fun(a):\n",
    "    if a < 4:\n",
    "\n",
    "        b = a/(a-3)\n",
    "    print(\"Value of b = \", b)\n",
    "    \n",
    "try:\n",
    "#     fun(3)\n",
    "    fun(5)\n",
    "except ZeroDivisionError:\n",
    "    print(\"ZeroDivisionError Occurred and Handled\")\n",
    "except NameError:\n",
    "    print(\"NameError Occurred and Handled\")\n"
   ]
  },
  {
   "cell_type": "markdown",
   "id": "659578ad",
   "metadata": {},
   "source": [
    "### Try with Else Clause"
   ]
  },
  {
   "cell_type": "code",
   "execution_count": 60,
   "id": "83b7ba3a",
   "metadata": {},
   "outputs": [
    {
     "name": "stdout",
     "output_type": "stream",
     "text": [
      "-5.0\n",
      "a/b result in 0\n"
     ]
    }
   ],
   "source": [
    "def div(a , b):\n",
    "    try:\n",
    "        c = ((a+b) / (a-b))\n",
    "    except ZeroDivisionError:\n",
    "        print (\"a/b result in 0\")\n",
    "    else:\n",
    "        print (c)\n",
    "               \n",
    "div(2.0, 3.0)\n",
    "div(3.0, 3.0)"
   ]
  },
  {
   "cell_type": "markdown",
   "id": "829f920f",
   "metadata": {},
   "source": [
    "### Finally Keyword in Python"
   ]
  },
  {
   "cell_type": "code",
   "execution_count": 61,
   "id": "c679b2f1",
   "metadata": {},
   "outputs": [
    {
     "name": "stdout",
     "output_type": "stream",
     "text": [
      "Can't divide by zero\n",
      "This is always executed\n"
     ]
    }
   ],
   "source": [
    "try:\n",
    "    k = 5//0 \n",
    "    print(k)\n",
    "\n",
    "except ZeroDivisionError:\n",
    "    print(\"Can't divide by zero\")\n",
    "\n",
    "finally:\n",
    "    print('This is always executed')"
   ]
  },
  {
   "cell_type": "code",
   "execution_count": 63,
   "id": "1793c640",
   "metadata": {},
   "outputs": [
    {
     "name": "stdout",
     "output_type": "stream",
     "text": [
      "Enter a number: 5\n",
      "The result is: 2.0\n",
      "Execution completed.\n"
     ]
    }
   ],
   "source": [
    "#ques 3\n",
    "\n",
    "try:\n",
    "    number = int(input(\"Enter a number: \"))  # This may raise a ValueError\n",
    "    result = 10 / number  # This may raise a ZeroDivisionError\n",
    "except ValueError as ve:\n",
    "    print(f\"ValueError occurred: {ve}\")  # Handles invalid input\n",
    "except ZeroDivisionError as ze:\n",
    "    print(f\"ZeroDivisionError occurred: {ze}\")  # Handles division by zero\n",
    "else:\n",
    "    print(f\"The result is: {result}\")  # Runs if no exception occurs\n",
    "finally:\n",
    "    print(\"Execution completed.\")  # Always runs"
   ]
  },
  {
   "cell_type": "markdown",
   "id": "46c0f4e4",
   "metadata": {},
   "source": [
    "### Raising Exception"
   ]
  },
  {
   "cell_type": "markdown",
   "id": "82e72b90",
   "metadata": {},
   "source": [
    "- Allows to force a specific exception to occur\n",
    "- This demonstrates how exceptions can be raised and handled in Python, allowing for custom error messages and further exception propagation."
   ]
  },
  {
   "cell_type": "code",
   "execution_count": 64,
   "id": "27e5ae38",
   "metadata": {},
   "outputs": [
    {
     "name": "stdout",
     "output_type": "stream",
     "text": [
      "An exception\n"
     ]
    },
    {
     "ename": "NameError",
     "evalue": "Hi there",
     "output_type": "error",
     "traceback": [
      "\u001b[1;31m---------------------------------------------------------------------------\u001b[0m",
      "\u001b[1;31mNameError\u001b[0m                                 Traceback (most recent call last)",
      "\u001b[1;32mC:\\Users\\LAKSHA~1.RAZ\\AppData\\Local\\Temp/ipykernel_8184/1586523246.py\u001b[0m in \u001b[0;36m<module>\u001b[1;34m\u001b[0m\n\u001b[0;32m      1\u001b[0m \u001b[1;32mtry\u001b[0m\u001b[1;33m:\u001b[0m\u001b[1;33m\u001b[0m\u001b[1;33m\u001b[0m\u001b[0m\n\u001b[1;32m----> 2\u001b[1;33m     \u001b[1;32mraise\u001b[0m \u001b[0mNameError\u001b[0m\u001b[1;33m(\u001b[0m\u001b[1;34m\"Hi there\"\u001b[0m\u001b[1;33m)\u001b[0m\u001b[1;33m\u001b[0m\u001b[1;33m\u001b[0m\u001b[0m\n\u001b[0m\u001b[0;32m      3\u001b[0m \u001b[1;32mexcept\u001b[0m \u001b[0mNameError\u001b[0m\u001b[1;33m:\u001b[0m\u001b[1;33m\u001b[0m\u001b[1;33m\u001b[0m\u001b[0m\n\u001b[0;32m      4\u001b[0m     \u001b[0mprint\u001b[0m \u001b[1;33m(\u001b[0m\u001b[1;34m\"An exception\"\u001b[0m\u001b[1;33m)\u001b[0m\u001b[1;33m\u001b[0m\u001b[1;33m\u001b[0m\u001b[0m\n\u001b[0;32m      5\u001b[0m     \u001b[1;32mraise\u001b[0m\u001b[1;33m\u001b[0m\u001b[1;33m\u001b[0m\u001b[0m\n",
      "\u001b[1;31mNameError\u001b[0m: Hi there"
     ]
    }
   ],
   "source": [
    "try: \n",
    "    raise NameError(\"Hi there\")\n",
    "except NameError:\n",
    "    print (\"An exception\")\n",
    "    raise"
   ]
  },
  {
   "cell_type": "code",
   "execution_count": null,
   "id": "8f10e76b",
   "metadata": {},
   "outputs": [],
   "source": []
  }
 ],
 "metadata": {
  "kernelspec": {
   "display_name": "Python 3 (ipykernel)",
   "language": "python",
   "name": "python3"
  },
  "language_info": {
   "codemirror_mode": {
    "name": "ipython",
    "version": 3
   },
   "file_extension": ".py",
   "mimetype": "text/x-python",
   "name": "python",
   "nbconvert_exporter": "python",
   "pygments_lexer": "ipython3",
   "version": "3.9.7"
  }
 },
 "nbformat": 4,
 "nbformat_minor": 5
}
