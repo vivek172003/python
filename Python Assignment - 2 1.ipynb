{
 "cells": [
  {
   "cell_type": "markdown",
   "id": "143bb1fe",
   "metadata": {},
   "source": [
    "## Python programs based on below topics:\n",
    "- Variables\n",
    "- Operators\n",
    "- Numbers\n",
    "- Strings\n",
    "- Control Flow Statements\n",
    "- Loops\n",
    "- Lists\n",
    "- Tuples\n",
    "- Dictionary"
   ]
  },
  {
   "cell_type": "markdown",
   "id": "0f7b3882",
   "metadata": {},
   "source": [
    "##### PS: Those who are proficient with python functions, please feel free to use it in solving following questions :)"
   ]
  },
  {
   "cell_type": "markdown",
   "id": "eacb8676",
   "metadata": {},
   "source": [
    "#### Q.1. Create variables of different data types (integer, float, string, boolean) and print their values."
   ]
  },
  {
   "cell_type": "code",
   "execution_count": null,
   "id": "1fdf6390",
   "metadata": {},
   "outputs": [],
   "source": []
  },
  {
   "cell_type": "markdown",
   "id": "accb9e9b",
   "metadata": {},
   "source": [
    "#### Q.2. Write a program to swap the values of two variables without using a third variable."
   ]
  },
  {
   "cell_type": "code",
   "execution_count": null,
   "id": "bb202beb",
   "metadata": {},
   "outputs": [],
   "source": []
  },
  {
   "cell_type": "markdown",
   "id": "0483d1ea",
   "metadata": {},
   "source": [
    "#### Q.3. Perform arithmetic, comparison, and logical operations on variables and print the results."
   ]
  },
  {
   "cell_type": "code",
   "execution_count": null,
   "id": "b52ed275",
   "metadata": {},
   "outputs": [],
   "source": []
  },
  {
   "cell_type": "markdown",
   "id": "49afe576",
   "metadata": {},
   "source": [
    "#### Q.4. Write a program to take user input and calculate the area and perimeter of a rectangle."
   ]
  },
  {
   "cell_type": "code",
   "execution_count": null,
   "id": "67a686ab",
   "metadata": {},
   "outputs": [],
   "source": []
  },
  {
   "cell_type": "markdown",
   "id": "3b2fdd0c",
   "metadata": {},
   "source": [
    "#### Q.5. Write a program to take a number as input and check if a number is prime or composite."
   ]
  },
  {
   "cell_type": "code",
   "execution_count": null,
   "id": "7648cd82",
   "metadata": {},
   "outputs": [],
   "source": []
  },
  {
   "cell_type": "markdown",
   "id": "a45fc514",
   "metadata": {},
   "source": [
    "#### Q.6. Convert a decimal number to its binary equivalent."
   ]
  },
  {
   "cell_type": "code",
   "execution_count": null,
   "id": "8a6d6261",
   "metadata": {},
   "outputs": [],
   "source": []
  },
  {
   "cell_type": "markdown",
   "id": "33e58120",
   "metadata": {},
   "source": [
    "#### Q.7. Write a program to reverse a string."
   ]
  },
  {
   "cell_type": "code",
   "execution_count": null,
   "id": "683fb8de",
   "metadata": {},
   "outputs": [],
   "source": []
  },
  {
   "cell_type": "markdown",
   "id": "682a70c4",
   "metadata": {},
   "source": [
    "#### Q.8. Find the frequency of all characters in a string."
   ]
  },
  {
   "cell_type": "code",
   "execution_count": null,
   "id": "0b6304e1",
   "metadata": {},
   "outputs": [],
   "source": []
  },
  {
   "cell_type": "markdown",
   "id": "822d88f2",
   "metadata": {},
   "source": [
    "#### Q.9. Write a function to check if a given string is a palindrome."
   ]
  },
  {
   "cell_type": "code",
   "execution_count": null,
   "id": "f334d12f",
   "metadata": {},
   "outputs": [],
   "source": []
  },
  {
   "cell_type": "markdown",
   "id": "31e2c482",
   "metadata": {},
   "source": [
    "#### Q.10. Implement a logic to find the longest common substring between two strings."
   ]
  },
  {
   "cell_type": "code",
   "execution_count": null,
   "id": "e6c8b689",
   "metadata": {},
   "outputs": [],
   "source": []
  },
  {
   "cell_type": "markdown",
   "id": "93024320",
   "metadata": {},
   "source": [
    "#### Q.11. Write a program to calculate the greatest common divisor (GCD) of two numbers using the Euclidean algorithm."
   ]
  },
  {
   "cell_type": "code",
   "execution_count": null,
   "id": "a7c19751",
   "metadata": {},
   "outputs": [],
   "source": []
  },
  {
   "cell_type": "markdown",
   "id": "4d8ab884",
   "metadata": {},
   "source": [
    "#### Q.12. Write a program to print a pattern of stars in the shape of a pyramid."
   ]
  },
  {
   "cell_type": "code",
   "execution_count": null,
   "id": "e5b0c662",
   "metadata": {},
   "outputs": [],
   "source": []
  },
  {
   "cell_type": "markdown",
   "id": "898f704f",
   "metadata": {},
   "source": [
    "#### Q.13. Write a program to check if a number is positive, negative, or zero."
   ]
  },
  {
   "cell_type": "code",
   "execution_count": null,
   "id": "6487539d",
   "metadata": {},
   "outputs": [],
   "source": []
  },
  {
   "cell_type": "markdown",
   "id": "3430783f",
   "metadata": {},
   "source": [
    "#### Q.14. Implement a simple calculator that performs addition, subtraction, multiplication, and division based on user input."
   ]
  },
  {
   "cell_type": "code",
   "execution_count": null,
   "id": "6d932d8f",
   "metadata": {},
   "outputs": [],
   "source": []
  },
  {
   "cell_type": "markdown",
   "id": "7eed3829",
   "metadata": {},
   "source": [
    "#### Q.15. Write a program to find the first occurrence of a vowel in a string, ignoring case. eg output: The first vowel is 'i' at index 2"
   ]
  },
  {
   "cell_type": "code",
   "execution_count": null,
   "id": "914c603c",
   "metadata": {},
   "outputs": [],
   "source": []
  },
  {
   "cell_type": "markdown",
   "id": "a06563c1",
   "metadata": {},
   "source": [
    "#### Q.16. Implement a function to calculate the sum of all even numbers between 1 and 100, excluding multiples of 3."
   ]
  },
  {
   "cell_type": "code",
   "execution_count": null,
   "id": "d9f8e674",
   "metadata": {},
   "outputs": [],
   "source": []
  },
  {
   "cell_type": "markdown",
   "id": "0f7960c2",
   "metadata": {},
   "source": [
    "#### Q.17. Write a program to print the Fibonacci series up to a given number."
   ]
  },
  {
   "cell_type": "code",
   "execution_count": null,
   "id": "612f01bb",
   "metadata": {},
   "outputs": [],
   "source": []
  },
  {
   "cell_type": "markdown",
   "id": "a2634de0",
   "metadata": {},
   "source": [
    "#### Q.18. Find the factorial of a given number using a loop."
   ]
  },
  {
   "cell_type": "code",
   "execution_count": null,
   "id": "189a985f",
   "metadata": {},
   "outputs": [],
   "source": []
  },
  {
   "cell_type": "markdown",
   "id": "23a904b9",
   "metadata": {},
   "source": [
    "#### Q.19. Create a list of fruits and print the elements in reverse order."
   ]
  },
  {
   "cell_type": "code",
   "execution_count": null,
   "id": "431fa3bd",
   "metadata": {},
   "outputs": [],
   "source": []
  },
  {
   "cell_type": "markdown",
   "id": "e42908ef",
   "metadata": {},
   "source": [
    "#### Q.20. Using list comprehension, create a list of strings where each string is the word \"Even\" or \"Odd\" based on whether the corresponding number in the list nums = [1, 2, 3, 4, 5, 6] is even or odd."
   ]
  },
  {
   "cell_type": "code",
   "execution_count": null,
   "id": "8da995c2",
   "metadata": {},
   "outputs": [],
   "source": []
  },
  {
   "cell_type": "markdown",
   "id": "61b0bfd8",
   "metadata": {},
   "source": [
    "#### Q.21. Generate a list of tuples (number, square) for numbers from 1 to 10 using list comprehension."
   ]
  },
  {
   "cell_type": "code",
   "execution_count": null,
   "id": "41d535c7",
   "metadata": {},
   "outputs": [],
   "source": []
  },
  {
   "cell_type": "markdown",
   "id": "9f5b15cf",
   "metadata": {},
   "source": [
    "#### Q.22. Program to find tuples which have all elements divisible by K from a list of tuples.\n",
    "eg: Input : test_list = [(6, 24, 12), (60, 12, 6), (12, 18, 21)], K = 6 \n",
    "\n",
    "Output : [(6, 24, 12), (60, 12, 6)] "
   ]
  },
  {
   "cell_type": "code",
   "execution_count": null,
   "id": "78a89dfc",
   "metadata": {},
   "outputs": [],
   "source": []
  },
  {
   "cell_type": "markdown",
   "id": "27276950",
   "metadata": {},
   "source": [
    "#### Q.23. Given two lists keys = ['a', 'b', 'c'] and values = [1, 2, 3], use dictionary comprehension to create a dictionary mapping keys to values."
   ]
  },
  {
   "cell_type": "code",
   "execution_count": null,
   "id": "624cdf43",
   "metadata": {},
   "outputs": [],
   "source": []
  },
  {
   "cell_type": "markdown",
   "id": "ec7b2e8f",
   "metadata": {},
   "source": [
    "#### Q.24. Write a dictionary comprehension that swaps the keys and values in a dictionary my_dict = {'name': 'John', 'age': 25, 'city': 'New York'}"
   ]
  },
  {
   "cell_type": "code",
   "execution_count": null,
   "id": "3e749146",
   "metadata": {},
   "outputs": [],
   "source": []
  },
  {
   "cell_type": "markdown",
   "id": "734b55ac",
   "metadata": {},
   "source": [
    "#### Q.25. Write a program to merge two dictionaries, giving preference to values from the second dictionary if there are any key conflicts.\n",
    "eg: Input : dict1 = {'a': 1, 'b': 2, 'c': 3}\n",
    "\n",
    "dict2 = {'b': 4, 'd': 5}\n",
    "\n",
    "Output: {'a': 1, 'b': 4, 'c': 3, 'd': 5}"
   ]
  },
  {
   "cell_type": "code",
   "execution_count": null,
   "id": "dbc4b7af",
   "metadata": {},
   "outputs": [],
   "source": []
  },
  {
   "cell_type": "markdown",
   "id": "edcdc7f7",
   "metadata": {},
   "source": [
    "#### Q.26. Create a dictionary where the keys are the characters from a string and the values are the number of times each character appears, using dictionary comprehension."
   ]
  },
  {
   "cell_type": "code",
   "execution_count": null,
   "id": "fa51cf9c",
   "metadata": {},
   "outputs": [],
   "source": []
  },
  {
   "cell_type": "markdown",
   "id": "87a7be39",
   "metadata": {},
   "source": [
    "#### Q.27. Combine list and dictionary comprehension: Given a list of numbers [1, 2, 3, 4, 5], create a dictionary where each key is a number and its value is a list of its divisors.\n",
    "\n",
    "eg: input: numbers = [1, 2, 3, 4, 5]\n",
    "\n",
    "output: {\n",
    "    1: [1],\n",
    "    2: [1, 2],\n",
    "    3: [1, 3],\n",
    "    4: [1, 2, 4],\n",
    "    5: [1, 5]\n",
    "}\n"
   ]
  },
  {
   "cell_type": "code",
   "execution_count": null,
   "id": "bd536f8c",
   "metadata": {},
   "outputs": [],
   "source": []
  },
  {
   "cell_type": "markdown",
   "id": "0f90a04e",
   "metadata": {},
   "source": [
    "#### Q.28. Create 1 nested dictionary to represent a student's information (name, age, grades for different subjects). Eg: a dict var will have multiple student names as keys and value should again be a dictionary having keys for age, grade. Grade should be a dict where it should have different subjects as keys and value as grade integers. Write a program to calculate the average grade for each student.\n",
    "\n",
    "Sample output:\n",
    "Alice: Average Grade = 85.00\n",
    "Bob: Average Grade = 83.33\n",
    "Charlie: Average Grade = 88.00"
   ]
  },
  {
   "cell_type": "code",
   "execution_count": null,
   "id": "84e71a1a",
   "metadata": {},
   "outputs": [],
   "source": []
  },
  {
   "cell_type": "markdown",
   "id": "e86ba1b9",
   "metadata": {},
   "source": [
    "#### Q.29. Write a program to create a FLAMES calculator, where you take 2 string name inputs and predict the relationship between those two people.\n",
    "\n",
    "F – Friends\n",
    "L – Lovers\n",
    "A – Affection\n",
    "M – Marriage\n",
    "E – Enemies\n",
    "S – Siblings\n",
    "\n",
    "Rules - Take two names as input. Cross out common characters between the two names. Count the total number of remaining characters in both names combined. Use the total remaining character count to perform the FLAMES calculation: write down the acronym \"FLAMES,\" start from the first letter and count up to the number of remaining characters, remove the letter you land on, continue from the next letter, wrapping around if necessary, and repeat until only one letter remains. The final letter corresponds to the relationship ;)"
   ]
  },
  {
   "cell_type": "code",
   "execution_count": null,
   "id": "c2398934",
   "metadata": {},
   "outputs": [],
   "source": []
  }
 ],
 "metadata": {
  "kernelspec": {
   "display_name": "Python 3 (ipykernel)",
   "language": "python",
   "name": "python3"
  },
  "language_info": {
   "codemirror_mode": {
    "name": "ipython",
    "version": 3
   },
   "file_extension": ".py",
   "mimetype": "text/x-python",
   "name": "python",
   "nbconvert_exporter": "python",
   "pygments_lexer": "ipython3",
   "version": "3.9.7"
  }
 },
 "nbformat": 4,
 "nbformat_minor": 5
}
