{
 "cells": [
  {
   "cell_type": "markdown",
   "id": "2ef779e5",
   "metadata": {},
   "source": [
    "## Modules, Packages & Libraries:\n"
   ]
  },
  {
   "cell_type": "markdown",
   "id": "7b6e8f59",
   "metadata": {},
   "source": [
    "#### Modules - \n",
    "a single file that contains Python code(.py extension file). Modules can define functions, classes, and variables"
   ]
  },
  {
   "cell_type": "code",
   "execution_count": 35,
   "id": "0e12f209",
   "metadata": {},
   "outputs": [
    {
     "name": "stdout",
     "output_type": "stream",
     "text": [
      "Square root of 25 is: 5.0\n"
     ]
    }
   ],
   "source": [
    "# eg: math module provides mathematical functions.\n",
    "\n",
    "import math\n",
    "\n",
    "sqrt_value = math.sqrt(25)\n",
    "print(f\"Square root of 25 is: {sqrt_value}\")"
   ]
  },
  {
   "cell_type": "markdown",
   "id": "6144bdf3",
   "metadata": {},
   "source": [
    "#### Packages -\n",
    "a collection of modules that are organized in a directory hierarchy.\n",
    "A package must contain an \"_ _init_ _.py\" file (which can be empty) by which the interpreter interprets it as a Package.\n",
    "\n",
    "Eg of a python package structure~\n",
    "\n",
    "my_package/\n",
    "\n",
    "    __init__.py\n",
    "    \n",
    "    module1.py\n",
    "    \n",
    "    module2.py\n"
   ]
  },
  {
   "cell_type": "code",
   "execution_count": null,
   "id": "17d545b6",
   "metadata": {},
   "outputs": [],
   "source": [
    "from my_package import module1, module2\n",
    "\n",
    "greeting = module1.greet(\"Alice\")\n",
    "farewell = module2.farewell(\"Alice\")\n",
    "\n",
    "print(greeting)\n",
    "print(farewell)"
   ]
  },
  {
   "cell_type": "markdown",
   "id": "dec4befb",
   "metadata": {},
   "source": [
    "##### install 3rd party packages :\n",
    "\n",
    "pip install package_name"
   ]
  },
  {
   "cell_type": "markdown",
   "id": "f0692cac",
   "metadata": {},
   "source": [
    "#### Library -\n",
    "a collection of pre-written code that provides functionality to perform common tasks. Libraries can include multiple modules and packages, and they allow developers to reuse code."
   ]
  },
  {
   "cell_type": "code",
   "execution_count": null,
   "id": "f87907c4",
   "metadata": {},
   "outputs": [],
   "source": [
    "import numpy as np\n",
    "\n",
    "# Create an array using NumPy\n",
    "array = np.array([1, 2, 3, 4, 5])\n",
    "print(f\"NumPy Array: {array}\")\n",
    "\n",
    "# Perform a mathematical operation on the array\n",
    "squared = np.square(array)\n",
    "print(f\"Squared Array: {squared}\")"
   ]
  },
  {
   "cell_type": "markdown",
   "id": "e924a6b4",
   "metadata": {},
   "source": [
    "#### Ways of importing packages/modules:"
   ]
  },
  {
   "cell_type": "code",
   "execution_count": null,
   "id": "d65dab42",
   "metadata": {},
   "outputs": [],
   "source": [
    "#1. Import the Entire Package or Module\n",
    "\n",
    "import math\n",
    "\n",
    "# Using a function from the math module\n",
    "result = math.sqrt(16) #dot notation\n",
    "print(result)"
   ]
  },
  {
   "cell_type": "code",
   "execution_count": null,
   "id": "4b3f4a93",
   "metadata": {},
   "outputs": [],
   "source": [
    "#2. Import Specific Functions, Classes, or Variables from a Package\n",
    "\n",
    "from math import sqrt, pi\n",
    "\n",
    "result = sqrt(16) # no need of dot notation\n",
    "print(result) \n",
    "print(pi)"
   ]
  },
  {
   "cell_type": "code",
   "execution_count": null,
   "id": "17b16cb9",
   "metadata": {},
   "outputs": [],
   "source": [
    "#3. Import the Entire library with an Alias\n",
    "\n",
    "import numpy as np\n",
    "\n",
    "# Using the alias np to refer to numpy functions\n",
    "array = np.array([1, 2, 3, 4])\n",
    "print(array)"
   ]
  },
  {
   "cell_type": "code",
   "execution_count": null,
   "id": "024e76ce",
   "metadata": {},
   "outputs": [],
   "source": [
    "#4. Import Specific Functions from a library with an Alias\n",
    "\n",
    "from numpy import array as arr\n",
    "\n",
    "result = arr([1, 2, 3, 4])\n",
    "print(result) "
   ]
  },
  {
   "cell_type": "code",
   "execution_count": null,
   "id": "4870455f",
   "metadata": {},
   "outputs": [],
   "source": [
    "#5. Import Everything from a Package or Module (* Operator)\n",
    "\n",
    "from math import *\n",
    "\n",
    "# Using sqrt and pi directly without referencing the module\n",
    "result = sqrt(36)\n",
    "print(result)\n",
    "print(pi)"
   ]
  },
  {
   "cell_type": "code",
   "execution_count": null,
   "id": "2abfbebe",
   "metadata": {},
   "outputs": [],
   "source": [
    "#6. Import a Module from a Package\n",
    "\n",
    "import urllib.request\n",
    "\n",
    "# Using urllib.request to open a URL\n",
    "response = urllib.request.urlopen('https://www.example.com')\n",
    "html = response.read()\n",
    "print(html)"
   ]
  },
  {
   "cell_type": "code",
   "execution_count": null,
   "id": "501a67a8",
   "metadata": {},
   "outputs": [],
   "source": [
    "Lib/                        #standard library directory\n",
    "    ├── math.py\n",
    "    ├── os.py\n",
    "    ├── urllib/\n",
    "    |   ├── __init__.py \n",
    "    │   ├── request.py\n",
    "    │   ├── parse.py\n",
    "    │   └── error.py\n",
    "    └── site-packages/\n",
    "        └── (third-party installed packages)"
   ]
  }
 ],
 "metadata": {
  "kernelspec": {
   "display_name": "Python 3 (ipykernel)",
   "language": "python",
   "name": "python3"
  },
  "language_info": {
   "codemirror_mode": {
    "name": "ipython",
    "version": 3
   },
   "file_extension": ".py",
   "mimetype": "text/x-python",
   "name": "python",
   "nbconvert_exporter": "python",
   "pygments_lexer": "ipython3",
   "version": "3.9.7"
  }
 },
 "nbformat": 4,
 "nbformat_minor": 5
}
