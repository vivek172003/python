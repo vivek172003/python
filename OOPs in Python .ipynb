{
 "cells": [
  {
   "cell_type": "markdown",
   "id": "dd63d102",
   "metadata": {},
   "source": [
    "# Object Oriented Programming "
   ]
  },
  {
   "cell_type": "markdown",
   "id": "d56557bd",
   "metadata": {},
   "source": [
    "- Object-oriented paradigm is to design the program using `classes` and `objects`\n",
    "- Major principles of object-oriented programming system are given below.\n",
    "    - Class\n",
    "    - Object\n",
    "    - Inheritance\n",
    "    - Polymorphism\n",
    "    - Data Abstraction\n",
    "    - Encapsulation"
   ]
  },
  {
   "cell_type": "markdown",
   "id": "bc3b0879",
   "metadata": {},
   "source": [
    "### Class\n",
    "\n",
    "A class is a collection of objects.Class contains the blueprints or the prototype from which the objects are being created.It is a logical entity that contains some attributes and methods. "
   ]
  },
  {
   "cell_type": "markdown",
   "id": "6e46033e",
   "metadata": {},
   "source": [
    "Classes are created by keyword `class`"
   ]
  },
  {
   "cell_type": "code",
   "execution_count": null,
   "id": "a6d32201",
   "metadata": {},
   "outputs": [],
   "source": [
    "# Class Defination Syntax\n",
    "class ClassName:\n",
    "   # Statement-1\n",
    "   .\n",
    "   .\n",
    "   .\n",
    "   # Statement-N"
   ]
  },
  {
   "cell_type": "code",
   "execution_count": null,
   "id": "3355e9b1",
   "metadata": {},
   "outputs": [],
   "source": [
    "#Bike Class\n",
    "\n",
    "class Bike:\n",
    "    name = \"\"\n",
    "    gear = 0"
   ]
  },
  {
   "cell_type": "markdown",
   "id": "e262f296",
   "metadata": {},
   "source": [
    "The variables inside a class are called `attributes` (sometimes members) and are shared among all the objects."
   ]
  },
  {
   "cell_type": "code",
   "execution_count": null,
   "id": "46a4654a",
   "metadata": {},
   "outputs": [],
   "source": [
    "# Accessing a class attributes\n",
    "\n",
    "print(\"Name:\", Bike.name)\n",
    "print(\"Gear:\", Bike.gear)"
   ]
  },
  {
   "cell_type": "markdown",
   "id": "a643cc63",
   "metadata": {},
   "source": [
    "### Object"
   ]
  },
  {
   "cell_type": "markdown",
   "id": "c6a372bb",
   "metadata": {},
   "source": [
    "- Object is an instance of a class.\n",
    "- A real world Entity that has some identity/state and behaviour."
   ]
  },
  {
   "cell_type": "code",
   "execution_count": null,
   "id": "c20f1b9f",
   "metadata": {},
   "outputs": [],
   "source": [
    "# Object creating syntax\n",
    "\n",
    "ObjectName = ClassName()"
   ]
  },
  {
   "cell_type": "code",
   "execution_count": 118,
   "id": "47b9a6df",
   "metadata": {},
   "outputs": [
    {
     "name": "stdout",
     "output_type": "stream",
     "text": [
      "<class '__main__.Bike'>\n"
     ]
    }
   ],
   "source": [
    "# Creating an object for bike class\n",
    "\n",
    "bike1 = Bike()\n",
    "print(type(bike1))"
   ]
  },
  {
   "cell_type": "markdown",
   "id": "d6774491",
   "metadata": {},
   "source": [
    "##### Access Class Attributes Using Objects"
   ]
  },
  {
   "cell_type": "code",
   "execution_count": null,
   "id": "b3535ea8",
   "metadata": {},
   "outputs": [],
   "source": [
    "print(f\"Name: {bike1.name}, Gears: {bike1.gear} \")"
   ]
  },
  {
   "cell_type": "code",
   "execution_count": 119,
   "id": "c05e8129",
   "metadata": {},
   "outputs": [
    {
     "name": "stdout",
     "output_type": "stream",
     "text": [
      "Name: Mountain Bike, Gears: 11 \n"
     ]
    }
   ],
   "source": [
    "# modifying attributes\n",
    "\n",
    "bike1.gear = 11\n",
    "bike1.name = \"Mountain Bike\"\n",
    "\n",
    "print(f\"Name: {bike1.name}, Gears: {bike1.gear} \")"
   ]
  },
  {
   "cell_type": "markdown",
   "id": "fb444100",
   "metadata": {},
   "source": [
    "##### Creating multiple objects"
   ]
  },
  {
   "cell_type": "code",
   "execution_count": null,
   "id": "f574a221",
   "metadata": {},
   "outputs": [],
   "source": [
    "superBike = Bike()\n",
    "bicycyle = Bike()"
   ]
  },
  {
   "cell_type": "code",
   "execution_count": null,
   "id": "31bc08a1",
   "metadata": {},
   "outputs": [],
   "source": [
    "superBike.gear = 10\n",
    "superBike.name = \"R1\"\n",
    "\n",
    "bicycyle.name = \"Bicycle\""
   ]
  },
  {
   "cell_type": "code",
   "execution_count": 120,
   "id": "e8be82bd",
   "metadata": {},
   "outputs": [
    {
     "name": "stdout",
     "output_type": "stream",
     "text": [
      "Name: R1, Gears: 10 \n",
      "Name: Bicycle, Gears: 0 \n"
     ]
    }
   ],
   "source": [
    "print(f\"Name: {superBike.name}, Gears: {superBike.gear} \")\n",
    "print(f\"Name: {bicycyle.name}, Gears: {bicycyle.gear} \")"
   ]
  },
  {
   "cell_type": "markdown",
   "id": "2f988eba",
   "metadata": {},
   "source": [
    "### Python  Class Methods\n",
    "\n",
    "A Python function defined inside a class is called a `method` (member function)"
   ]
  },
  {
   "cell_type": "code",
   "execution_count": 122,
   "id": "2769d722",
   "metadata": {},
   "outputs": [
    {
     "name": "stdout",
     "output_type": "stream",
     "text": [
      "Area of Room = 1309.0\n"
     ]
    }
   ],
   "source": [
    "# create a class\n",
    "class Room:\n",
    "    length = 0.0\n",
    "    breadth = 0.0\n",
    "    \n",
    "    # method to calculate area\n",
    "    def calculate_area(self):\n",
    "        print(\"Area of Room =\", self.length * self.breadth)\n",
    "\n",
    "# create object of Room class\n",
    "study_room = Room()\n",
    "\n",
    "# assign values to all the properties \n",
    "study_room.length = 42.5\n",
    "study_room.breadth = 30.8\n",
    "\n",
    "# access method inside class\n",
    "study_room.calculate_area()"
   ]
  },
  {
   "cell_type": "markdown",
   "id": "b2196a67",
   "metadata": {},
   "source": [
    "##### Self \n",
    "\n",
    "`Self` represents the instance of the class. By using the “self”  we can access the attributes and methods of the class in Python"
   ]
  },
  {
   "cell_type": "markdown",
   "id": "f31e73f5",
   "metadata": {},
   "source": [
    "- It refers to the instance of the class that is currently being used\n",
    "- Whenever you call a method of an object created from a class, the object is automatically passed as the first argument using the “self” parameter\n",
    "- This enables you to modify the object’s properties and execute tasks unique to that particular instance"
   ]
  },
  {
   "cell_type": "code",
   "execution_count": null,
   "id": "570a9dc6",
   "metadata": {},
   "outputs": [],
   "source": [
    "class sample:\n",
    "    a = 0\n",
    "    b = 0\n",
    "    def add(abc):\n",
    "        return abc.a+abc.b\n",
    "\n",
    "s=sample()\n",
    "s.a=1\n",
    "s.b=2\n",
    "s.add()"
   ]
  },
  {
   "cell_type": "markdown",
   "id": "80c3cd07",
   "metadata": {},
   "source": [
    "- Self is a convention and not a Python keyword\n",
    "- Self is a parameter in Instance Method and the user can use another parameter name in place of it.\n",
    "- It is advisable to use self because it increases the readability of code, and it is also a good programming practice"
   ]
  },
  {
   "cell_type": "markdown",
   "id": "e2c29e40",
   "metadata": {},
   "source": [
    "##### Python Constructor\n",
    "\n",
    "A class constructor is a special method named `__init__` that gets called when you create an instance (object) of a class.\n",
    "This method is used to initialize the attributes of the object."
   ]
  },
  {
   "cell_type": "code",
   "execution_count": 123,
   "id": "0ad23135",
   "metadata": {},
   "outputs": [
    {
     "name": "stdout",
     "output_type": "stream",
     "text": [
      "Bike Name: Mountain bike\n"
     ]
    }
   ],
   "source": [
    "class Bike:\n",
    "\n",
    "    # constructor function    \n",
    "    def __init__(self, name):\n",
    "        self.name = name\n",
    "\n",
    "# If we use a constructor to initialize values inside a class\n",
    "# we need to pass the corresponding value during the object creation of the class.\n",
    "\n",
    "bike1 = Bike(\"Mountain bike\")\n",
    "\n",
    "print(\"Bike Name:\", bike1.name)"
   ]
  },
  {
   "cell_type": "code",
   "execution_count": 124,
   "id": "3e7090e3",
   "metadata": {},
   "outputs": [
    {
     "ename": "TypeError",
     "evalue": "__init__() takes 0 positional arguments but 1 was given",
     "output_type": "error",
     "traceback": [
      "\u001b[1;31m---------------------------------------------------------------------------\u001b[0m",
      "\u001b[1;31mTypeError\u001b[0m                                 Traceback (most recent call last)",
      "\u001b[1;32mC:\\Users\\LAKSHA~1.RAZ\\AppData\\Local\\Temp/ipykernel_23340/146723446.py\u001b[0m in \u001b[0;36m<module>\u001b[1;34m\u001b[0m\n\u001b[0;32m      5\u001b[0m         \u001b[0mprint\u001b[0m\u001b[1;33m(\u001b[0m\u001b[1;34m\"This is Constructor\"\u001b[0m\u001b[1;33m)\u001b[0m\u001b[1;33m\u001b[0m\u001b[1;33m\u001b[0m\u001b[0m\n\u001b[0;32m      6\u001b[0m \u001b[1;33m\u001b[0m\u001b[0m\n\u001b[1;32m----> 7\u001b[1;33m \u001b[0mobj\u001b[0m \u001b[1;33m=\u001b[0m \u001b[0mCheck\u001b[0m\u001b[1;33m(\u001b[0m\u001b[1;33m)\u001b[0m\u001b[1;33m\u001b[0m\u001b[1;33m\u001b[0m\u001b[0m\n\u001b[0m",
      "\u001b[1;31mTypeError\u001b[0m: __init__() takes 0 positional arguments but 1 was given"
     ]
    }
   ],
   "source": [
    "# ques 1\n",
    "\n",
    "class Check:\n",
    "    def __init__():\n",
    "        print(\"This is Constructor\")\n",
    "\n",
    "obj = Check()"
   ]
  },
  {
   "cell_type": "code",
   "execution_count": 125,
   "id": "2cf15dcf",
   "metadata": {},
   "outputs": [
    {
     "ename": "TypeError",
     "evalue": "__init__() missing 1 required positional argument: 'name'",
     "output_type": "error",
     "traceback": [
      "\u001b[1;31m---------------------------------------------------------------------------\u001b[0m",
      "\u001b[1;31mTypeError\u001b[0m                                 Traceback (most recent call last)",
      "\u001b[1;32mC:\\Users\\LAKSHA~1.RAZ\\AppData\\Local\\Temp/ipykernel_23340/555990689.py\u001b[0m in \u001b[0;36m<module>\u001b[1;34m\u001b[0m\n\u001b[0;32m      7\u001b[0m         \u001b[0mself\u001b[0m\u001b[1;33m.\u001b[0m\u001b[0mname\u001b[0m \u001b[1;33m=\u001b[0m \u001b[0mname\u001b[0m\u001b[1;33m\u001b[0m\u001b[1;33m\u001b[0m\u001b[0m\n\u001b[0;32m      8\u001b[0m \u001b[1;33m\u001b[0m\u001b[0m\n\u001b[1;32m----> 9\u001b[1;33m \u001b[0mobj\u001b[0m \u001b[1;33m=\u001b[0m \u001b[0mPerson\u001b[0m\u001b[1;33m(\u001b[0m\u001b[1;33m)\u001b[0m\u001b[1;33m\u001b[0m\u001b[1;33m\u001b[0m\u001b[0m\n\u001b[0m\u001b[0;32m     10\u001b[0m \u001b[1;33m\u001b[0m\u001b[0m\n\u001b[0;32m     11\u001b[0m \u001b[0mprint\u001b[0m\u001b[1;33m(\u001b[0m\u001b[0mobj\u001b[0m\u001b[1;33m.\u001b[0m\u001b[0mname\u001b[0m\u001b[1;33m)\u001b[0m\u001b[1;33m\u001b[0m\u001b[1;33m\u001b[0m\u001b[0m\n",
      "\u001b[1;31mTypeError\u001b[0m: __init__() missing 1 required positional argument: 'name'"
     ]
    }
   ],
   "source": [
    "# ques 2\n",
    "\n",
    "class Person:\n",
    "    name = \"Ramu\"\n",
    "    def __init__(self, name):\n",
    "        print(\"This is Constructor\")\n",
    "        self.name = name\n",
    "\n",
    "obj = Person()\n",
    "\n",
    "print(obj.name)"
   ]
  },
  {
   "cell_type": "code",
   "execution_count": 129,
   "id": "6fae39a8",
   "metadata": {},
   "outputs": [
    {
     "name": "stdout",
     "output_type": "stream",
     "text": [
      "1\n",
      "2\n",
      "3\n"
     ]
    }
   ],
   "source": [
    "# ques 3\n",
    "\n",
    "class sampleclass:\n",
    "    count = 0     # class attribute\n",
    "\n",
    "    def increase(self):\n",
    "        sampleclass.count += 1\n",
    "\n",
    "# Calling increase() on an object\n",
    "s1 = sampleclass()\n",
    "s1.increase()        \n",
    "print(s1.count)\n",
    "\n",
    "# Calling increase on one more\n",
    "# object\n",
    "s2 = sampleclass()\n",
    "s2.increase()\n",
    "print(s2.count)\n",
    "\n",
    "# object\n",
    "s3 = sampleclass()\n",
    "s3.increase()\n",
    "print(s3.count)"
   ]
  },
  {
   "cell_type": "markdown",
   "id": "73f891a6",
   "metadata": {},
   "source": [
    "##### Types of constructors"
   ]
  },
  {
   "cell_type": "markdown",
   "id": "acbf1b19",
   "metadata": {},
   "source": [
    "- `default constructor`: The default constructor is a simple constructor which doesn’t accept any arguments. Its definition has only one argument which is a reference to the instance being constructed.\n",
    "- `parameterized constructor`: constructor with parameters is known as parameterized constructor. The parameterized constructor takes its first argument as a reference to the instance being constructed known as self and the rest of the arguments are provided by the programmer.\n"
   ]
  },
  {
   "cell_type": "code",
   "execution_count": null,
   "id": "69492a5d",
   "metadata": {},
   "outputs": [],
   "source": [
    "# Default Constructor\n",
    "\n",
    "class Bot:\n",
    "    name=\"\"\n",
    "    def __init__(self):\n",
    "        print(\"This is Constructor\")\n",
    "        self.name=\"Bot\"\n",
    "\n",
    "obj = Bot()\n",
    "print(obj.name)"
   ]
  },
  {
   "cell_type": "markdown",
   "id": "07835724",
   "metadata": {},
   "source": [
    "##### Instance Attributes"
   ]
  },
  {
   "cell_type": "markdown",
   "id": "e68e6d44",
   "metadata": {},
   "source": [
    "Unlike class attributes, instance attributes are not shared by objects. Every object has its own copy of the instance attribute (In case of class attributes all object refer to single copy)"
   ]
  },
  {
   "cell_type": "markdown",
   "id": "4ef78fff",
   "metadata": {},
   "source": [
    "To list the attributes of an instance/object, we have two functions:\n",
    "- vars() – This function displays the attribute of an instance in the form of an dictionary.\n",
    "- dir() – This function displays more attributes than vars function,as it is not limited to instance. It displays the class attributes as well. It also displays the attributes of its ancestor classes."
   ]
  },
  {
   "cell_type": "code",
   "execution_count": 130,
   "id": "bd7f36fa",
   "metadata": {},
   "outputs": [
    {
     "name": "stdout",
     "output_type": "stream",
     "text": [
      "Dictionary form : {'name': 'xyz', 'salary': 4000}\n",
      "['__class__', '__delattr__', '__dict__', '__dir__', '__doc__', '__eq__', '__format__', '__ge__', '__getattribute__', '__gt__', '__hash__', '__init__', '__init_subclass__', '__le__', '__lt__', '__module__', '__ne__', '__new__', '__reduce__', '__reduce_ex__', '__repr__', '__setattr__', '__sizeof__', '__str__', '__subclasshook__', '__weakref__', 'name', 'salary', 'show']\n"
     ]
    }
   ],
   "source": [
    "# Python program to demonstrate\n",
    "# instance attributes.\n",
    "class emp:\n",
    "    def __init__(self):\n",
    "        self.name = 'xyz'\n",
    "        self.salary = 4000\n",
    "\n",
    "    def show(self):\n",
    "        print(self.name)\n",
    "        print(self.salary)\n",
    "\n",
    "e1 = emp()\n",
    "print(\"Dictionary form :\", vars(e1))\n",
    "print(dir(e1))"
   ]
  },
  {
   "cell_type": "code",
   "execution_count": 131,
   "id": "878a6c8b",
   "metadata": {},
   "outputs": [
    {
     "data": {
      "text/plain": [
       "__main__.emp"
      ]
     },
     "execution_count": 131,
     "metadata": {},
     "output_type": "execute_result"
    }
   ],
   "source": [
    "e1.__class__"
   ]
  },
  {
   "cell_type": "markdown",
   "id": "078e9aac",
   "metadata": {},
   "source": [
    "### Python Inheritance"
   ]
  },
  {
   "cell_type": "markdown",
   "id": "67bf1f08",
   "metadata": {},
   "source": [
    "Python supports class inheritance. It allows us to create a new class from an existing one.\n",
    "- The newly created class is known as the subclass (child or derived class).\n",
    "- The existing class from which the child class inherits is known as the superclass (parent or base class)."
   ]
  },
  {
   "cell_type": "code",
   "execution_count": null,
   "id": "b0f607a1",
   "metadata": {},
   "outputs": [],
   "source": [
    "# Python Inheritance Syntax\n",
    "\n",
    "# define a superclass\n",
    "class super_class:\n",
    "    # attributes and method definition\n",
    "\n",
    "# inheritance\n",
    "class sub_class(super_class):\n",
    "    # attributes and method of super_class\n",
    "    # attributes and method of sub_class"
   ]
  },
  {
   "cell_type": "code",
   "execution_count": 132,
   "id": "91743049",
   "metadata": {},
   "outputs": [
    {
     "name": "stdout",
     "output_type": "stream",
     "text": [
      "Generic Animal\n",
      "Buddy\n",
      "Woof!\n"
     ]
    }
   ],
   "source": [
    "#Example of Inheritance\n",
    "\n",
    "class Animal:\n",
    "    def __init__(self, name):\n",
    "        self.name = name\n",
    "\n",
    "    def make_sound(self):\n",
    "        pass\n",
    "\n",
    "class Dog(Animal):\n",
    "    def make_sound(self):\n",
    "        return \"Woof!\"\n",
    "\n",
    "# Creating instances\n",
    "generic_animal = Animal(\"Generic Animal\")\n",
    "dog_instance = Dog(\"Buddy\")\n",
    "\n",
    "# Accessing attributes and methods\n",
    "print(generic_animal.name)  # Output: Generic Animal\n",
    "print(dog_instance.name)    # Output: Buddy\n",
    "print(dog_instance.make_sound())  # Output: Woof!"
   ]
  },
  {
   "cell_type": "code",
   "execution_count": 133,
   "id": "6d9944df",
   "metadata": {},
   "outputs": [
    {
     "name": "stdout",
     "output_type": "stream",
     "text": [
      "Red\n",
      "Blue\n",
      "5\n",
      "78.5\n"
     ]
    }
   ],
   "source": [
    "# Adding additional attributes in the subclass\n",
    "\n",
    "class Shape:\n",
    "    def __init__(self, color):\n",
    "        self.color = color\n",
    "\n",
    "    def area(self):\n",
    "        pass\n",
    "\n",
    "class Circle(Shape):\n",
    "    def __init__(self, color, radius):\n",
    "        super().__init__(color)   # Super Function   \n",
    "        self.radius = radius\n",
    "\n",
    "    def area(self):          # Method in the subclass overrides the method in the superclass\n",
    "        return 3.14 * self.radius ** 2\n",
    "\n",
    "# Creating instances\n",
    "generic_shape = Shape(\"Red\")\n",
    "circle_instance = Circle(\"Blue\", 5)\n",
    "\n",
    "# Accessing attributes and methods\n",
    "print(generic_shape.color)  \n",
    "print(circle_instance.color)  \n",
    "print(circle_instance.radius)  \n",
    "print(circle_instance.area())  "
   ]
  },
  {
   "cell_type": "markdown",
   "id": "23f4fd3a",
   "metadata": {},
   "source": [
    "#### Method Overriding in Python Inheritance\n",
    "\n",
    "Method in the subclass overrides the method in the superclass. This concept is known as method overriding in Python."
   ]
  },
  {
   "cell_type": "code",
   "execution_count": 140,
   "id": "16fb8a32",
   "metadata": {},
   "outputs": [
    {
     "name": "stdout",
     "output_type": "stream",
     "text": [
      "I can eat\n",
      "I like to eat bones\n"
     ]
    }
   ],
   "source": [
    "class Animal:\n",
    "\n",
    "    # attributes and method of the parent class\n",
    "    name = \"\"\n",
    "    \n",
    "    def eat(self):\n",
    "        print(\"I can eat\")\n",
    "\n",
    "# inherit from Animal\n",
    "class Dog(Animal):\n",
    "\n",
    "    # override eat() method\n",
    "    def eat(self):\n",
    "        super().eat()\n",
    "        print(\"I like to eat bones\")\n",
    "\n",
    "# create an object of the subclass\n",
    "labrador = Dog()\n",
    "\n",
    "# call the eat() method on the labrador object\n",
    "labrador.eat()"
   ]
  },
  {
   "cell_type": "markdown",
   "id": "31409f49",
   "metadata": {},
   "source": [
    "#### The super() Function in Inheritance\n",
    "\n",
    "- Previously we saw that the same method (function) in the subclass overrides the method in the superclass.\n",
    "- However, if we need to access the superclass method from the subclass, we use the super() function. For example,"
   ]
  },
  {
   "cell_type": "code",
   "execution_count": null,
   "id": "a8355ea4",
   "metadata": {},
   "outputs": [],
   "source": [
    "class Animal:\n",
    "\n",
    "    name = \"\"\n",
    "    \n",
    "    def eat(self):\n",
    "        print(\"I can eat\")\n",
    "\n",
    "# inherit from Animal\n",
    "class Dog(Animal):\n",
    "    \n",
    "    # override eat() method\n",
    "    def eat(self):\n",
    "        # call the eat() method of the superclass using super()\n",
    "        super().eat()\n",
    "\n",
    "# create an object of the subclass\n",
    "labrador = Dog()\n",
    "\n",
    "labrador.eat()"
   ]
  },
  {
   "cell_type": "markdown",
   "id": "0a1ec859",
   "metadata": {},
   "source": [
    "#### Inner Class in Python\n",
    "A class defined in another class is known as an inner class or nested class. If an object is created using child class means inner class then the object can also be used by parent class or root class. A parent class can have one or more inner classes but generally inner classes are avoided."
   ]
  },
  {
   "cell_type": "code",
   "execution_count": 141,
   "id": "4946269e",
   "metadata": {},
   "outputs": [
    {
     "name": "stdout",
     "output_type": "stream",
     "text": [
      "Name: Light Green\n",
      "Code: 024avc\n"
     ]
    }
   ],
   "source": [
    "class Color:\n",
    "\n",
    "    # constructor method\n",
    "\n",
    "    def __init__(self):\n",
    "\n",
    "        # object attributes\n",
    "\n",
    "        self.name = 'Green'\n",
    "        self.Lightgreen = self.Lightgreen()\n",
    "\n",
    "    def show(self):\n",
    "        print('Name:', self.name)\n",
    "\n",
    "\n",
    "    # create Inner Lightgreen class\n",
    "\n",
    "    class Lightgreen:\n",
    "\n",
    "        def __init__(self):\n",
    "            self.name = 'Light Green'\n",
    "            self.code = '024avc'\n",
    "\n",
    "        def display(self):\n",
    "            print('Name:', self.name)\n",
    "            print('Code:', self.code)\n",
    "\n",
    "# create Color class object\n",
    "outer = Color()\n",
    "\n",
    "\n",
    "# create a Lightgreen\n",
    "# inner class object\n",
    "\n",
    "g = outer.Lightgreen\n",
    "\n",
    "# inner class method calling\n",
    "\n",
    "g.display()\n"
   ]
  },
  {
   "cell_type": "markdown",
   "id": "771a893e",
   "metadata": {},
   "source": [
    "##### Multiple inner class\n",
    "\n",
    "The class contains one or more inner classes known as multiple inner classes. We can have multiple inner class in a class, it is easy to implement multiple inner classes. |"
   ]
  },
  {
   "cell_type": "code",
   "execution_count": null,
   "id": "bb12c6ad",
   "metadata": {},
   "outputs": [],
   "source": [
    "# create outer class\n",
    "class Doctors:\n",
    "    def __init__(self):\n",
    "        self.name = 'Doctor'\n",
    "        self.den = self.Dentist()\n",
    "        self.car = self.Cardiologist()\n",
    "\n",
    "    def show(self):\n",
    "        print('In outer class')\n",
    "        print('Name:', self.name)\n",
    "\n",
    "    # create a 1st Inner class\n",
    "    class Dentist:\n",
    "        def __init__(self):\n",
    "            self.name = 'Dr. Savita'\n",
    "            self.degree = 'BDS'\n",
    "\n",
    "        def display(self):\n",
    "            print(\"Name:\", self.name)\n",
    "            print(\"Degree:\", self.degree)\n",
    "\n",
    "    # create a 2nd Inner class\n",
    "    class Cardiologist:\n",
    "        def __init__(self):\n",
    "            self.name = 'Dr. Amit'\n",
    "            self.degree = 'DM'\n",
    "\n",
    "        def display(self):\n",
    "            print(\"Name:\", self.name)\n",
    "            print(\"Degree:\", self.degree)\n",
    "\n",
    "\n",
    "# create a object\n",
    "# of outer class\n",
    "outer = Doctors()\n",
    "outer.show()\n",
    "\n",
    "# create a object\n",
    "# of 1st inner class\n",
    "d1 = outer.den\n",
    "\n",
    "# create a object\n",
    "# of 2nd inner class\n",
    "d2 = outer.car\n",
    "print()\n",
    "d1.display()\n",
    "print()\n",
    "d2.display()"
   ]
  },
  {
   "cell_type": "markdown",
   "id": "6eb1cc75",
   "metadata": {},
   "source": [
    "##### Multilevel inner class\n",
    "The class contains an inner class and that inner class again contains another inner class, this hierarchy is known as the multilevel inner class."
   ]
  },
  {
   "cell_type": "code",
   "execution_count": null,
   "id": "45e8d0d3",
   "metadata": {},
   "outputs": [],
   "source": [
    "# create an outer class\n",
    "class Geeksforgeeks:\n",
    "\n",
    "    def __init__(self):\n",
    "        # create an inner class object\n",
    "        self.inner = self.Inner()\n",
    "\n",
    "    def show(self):\n",
    "        print('This is an outer class')\n",
    "\n",
    "    # create a 1st inner class\n",
    "\n",
    "    class Inner:\n",
    "        def __init__(self):\n",
    "            # create an inner class of inner class object\n",
    "            self.innerclassofinner = self.Innerclassofinner()\n",
    "\n",
    "        def show(self):\n",
    "            print('This is the inner class')\n",
    "\n",
    "        # create an inner class of inner\n",
    "\n",
    "        class Innerclassofinner:\n",
    "            def show(self):\n",
    "                print('This is an inner class of inner class')\n",
    "\n",
    "\n",
    "# create an outer class object\n",
    "# i.e.Geeksforgeeks class object\n",
    "outer = Geeksforgeeks()\n",
    "outer.show()\n",
    "print()\n",
    "\n",
    "# create an inner class object\n",
    "gfg1 = outer.inner\n",
    "gfg1.show()\n",
    "print()\n",
    "\n",
    "# create an inner class of inner class object\n",
    "gfg2 = outer.inner.innerclassofinner\n",
    "gfg2.show()\n"
   ]
  },
  {
   "cell_type": "markdown",
   "id": "ef7eb641",
   "metadata": {},
   "source": [
    "#### Dynamic Attributes in Python\n",
    "\n",
    "- Dynamic attributes in Python are terminologies for attributes that are defined at runtime, after creating the objects or instances. \n",
    "- In Python we call all functions, methods also as an object. So you can define a dynamic instance attribute for nearly anything in Python"
   ]
  },
  {
   "cell_type": "code",
   "execution_count": 142,
   "id": "e740ae5b",
   "metadata": {},
   "outputs": [
    {
     "name": "stdout",
     "output_type": "stream",
     "text": [
      "<function value at 0x000001D93E8164C0>\n",
      "a\n",
      "True\n"
     ]
    }
   ],
   "source": [
    "class Sample: \n",
    "    None\n",
    "\n",
    "def value(): \n",
    "    return 10\n",
    "\n",
    "# Driver Code \n",
    "s = Sample() \n",
    "\n",
    "# Dynamic attribute of a \n",
    "# class object \n",
    "s.d1 = value \n",
    "\n",
    "print(s.d1)\n",
    "\n",
    "# Dynamic attribute of a \n",
    "# function \n",
    "value.d1 = \"a\"\n",
    "\n",
    "print(value.d1) \n",
    "print(s.d1() == value()) \n"
   ]
  },
  {
   "cell_type": "code",
   "execution_count": 144,
   "id": "89ce142f",
   "metadata": {},
   "outputs": [
    {
     "name": "stdout",
     "output_type": "stream",
     "text": [
      "False\n",
      "True\n",
      "Nikhil\n"
     ]
    },
    {
     "ename": "AttributeError",
     "evalue": "'Emp' object has no attribute 'name'",
     "output_type": "error",
     "traceback": [
      "\u001b[1;31m---------------------------------------------------------------------------\u001b[0m",
      "\u001b[1;31mAttributeError\u001b[0m                            Traceback (most recent call last)",
      "\u001b[1;32mC:\\Users\\LAKSHA~1.RAZ\\AppData\\Local\\Temp/ipykernel_23340/3346473025.py\u001b[0m in \u001b[0;36m<module>\u001b[1;34m\u001b[0m\n\u001b[0;32m     16\u001b[0m \u001b[1;31m# as name is a dynamic attribute\u001b[0m\u001b[1;33m\u001b[0m\u001b[1;33m\u001b[0m\u001b[0m\n\u001b[0;32m     17\u001b[0m \u001b[1;31m# created only for the e2 object\u001b[0m\u001b[1;33m\u001b[0m\u001b[1;33m\u001b[0m\u001b[0m\n\u001b[1;32m---> 18\u001b[1;33m \u001b[0mprint\u001b[0m\u001b[1;33m(\u001b[0m\u001b[0me1\u001b[0m\u001b[1;33m.\u001b[0m\u001b[0mname\u001b[0m\u001b[1;33m)\u001b[0m\u001b[1;33m\u001b[0m\u001b[1;33m\u001b[0m\u001b[0m\n\u001b[0m",
      "\u001b[1;31mAttributeError\u001b[0m: 'Emp' object has no attribute 'name'"
     ]
    }
   ],
   "source": [
    "class Emp: \n",
    "    employee = True\n",
    "\n",
    "# Driver Code \n",
    "e1 = Emp() \n",
    "e2 = Emp() \n",
    "\n",
    "e1.employee = False\n",
    "e2.name = \"Nikhil\"\n",
    "\n",
    "print(e1.employee) \n",
    "print(e2.employee) \n",
    "print(e2.name) \n",
    "\n",
    "# this will raise an error \n",
    "# as name is a dynamic attribute \n",
    "# created only for the e2 object \n",
    "print(e1.name) \n"
   ]
  },
  {
   "cell_type": "code",
   "execution_count": 146,
   "id": "c31eae03",
   "metadata": {},
   "outputs": [
    {
     "data": {
      "text/plain": [
       "2"
      ]
     },
     "execution_count": 146,
     "metadata": {},
     "output_type": "execute_result"
    }
   ],
   "source": [
    "len({1:1,2:2})"
   ]
  },
  {
   "cell_type": "markdown",
   "id": "94e6904e",
   "metadata": {},
   "source": [
    "### Polymorphism\n",
    "\n",
    "The word polymorphism means having many forms. In programming, polymorphism means the same function name (but different signatures) being used for different types. The key difference is the data types and number of arguments used in function."
   ]
  },
  {
   "cell_type": "code",
   "execution_count": null,
   "id": "3a1ad0c9",
   "metadata": {},
   "outputs": [],
   "source": [
    "class Cat:\n",
    "    def __init__(self, name, age):\n",
    "        self.name = name\n",
    "        self.age = age\n",
    "\n",
    "    def info(self):\n",
    "        print(f\"I am a cat. My name is {self.name}. I am {self.age} years old.\")\n",
    "\n",
    "    def make_sound(self):\n",
    "        print(\"Meow\")\n",
    "\n",
    "\n",
    "class Dog:\n",
    "    def __init__(self, name, age):\n",
    "        self.name = name\n",
    "        self.age = age\n",
    "\n",
    "    def info(self):\n",
    "        print(f\"I am a dog. My name is {self.name}. I am {self.age} years old.\")\n",
    "\n",
    "    def make_sound(self):\n",
    "        print(\"Bark\")\n",
    "\n",
    "\n",
    "cat1 = Cat(\"Kitty\", 2.5)\n",
    "dog1 = Dog(\"Fluffy\", 4)\n",
    "\n",
    "for animal in (cat1, dog1):\n",
    "    animal.make_sound()\n",
    "    animal.info()\n",
    "    animal.make_sound()\n"
   ]
  },
  {
   "cell_type": "code",
   "execution_count": null,
   "id": "0792035c",
   "metadata": {},
   "outputs": [],
   "source": []
  },
  {
   "cell_type": "markdown",
   "id": "35123a88",
   "metadata": {},
   "source": [
    "### Operator Overloading in Python Class"
   ]
  },
  {
   "cell_type": "code",
   "execution_count": 147,
   "id": "0bba60a8",
   "metadata": {},
   "outputs": [
    {
     "name": "stdout",
     "output_type": "stream",
     "text": [
      "3\n",
      "GeeksFor\n"
     ]
    }
   ],
   "source": [
    "# Python Program illustrate how \n",
    "# to overload an binary + operator\n",
    "# And how it actually works\n",
    "\n",
    "class A:\n",
    "    def __init__(self, a):\n",
    "        self.a = a\n",
    "\n",
    "    # adding two objects \n",
    "    def __add__(self, o):\n",
    "        return self.a + o.a \n",
    "ob1 = A(1)\n",
    "ob2 = A(2)\n",
    "ob3 = A(\"Geeks\")\n",
    "ob4 = A(\"For\")\n",
    "\n",
    "print(ob1 + ob2)\n",
    "print(ob3 + ob4)\n",
    "\n",
    "\n",
    "# Actual working when Binary Operator is used.\n",
    "# print(A.__add__(ob1 , ob2)) \n",
    "# print(A.__add__(ob3,ob4)) \n",
    "\n",
    "# #And can also be Understand as :\n",
    "# print(ob1.__add__(ob2))\n",
    "# print(ob3.__add__(ob4))\n"
   ]
  },
  {
   "cell_type": "code",
   "execution_count": 150,
   "id": "edea567d",
   "metadata": {},
   "outputs": [
    {
     "ename": "TypeError",
     "evalue": "'>' not supported between instances of 'A' and 'A'",
     "output_type": "error",
     "traceback": [
      "\u001b[1;31m---------------------------------------------------------------------------\u001b[0m",
      "\u001b[1;31mTypeError\u001b[0m                                 Traceback (most recent call last)",
      "\u001b[1;32mC:\\Users\\LAKSHA~1.RAZ\\AppData\\Local\\Temp/ipykernel_23340/437772573.py\u001b[0m in \u001b[0;36m<module>\u001b[1;34m\u001b[0m\n\u001b[0;32m     12\u001b[0m \u001b[0mob1\u001b[0m \u001b[1;33m=\u001b[0m \u001b[0mA\u001b[0m\u001b[1;33m(\u001b[0m\u001b[1;36m2\u001b[0m\u001b[1;33m)\u001b[0m\u001b[1;33m\u001b[0m\u001b[1;33m\u001b[0m\u001b[0m\n\u001b[0;32m     13\u001b[0m \u001b[0mob2\u001b[0m \u001b[1;33m=\u001b[0m \u001b[0mA\u001b[0m\u001b[1;33m(\u001b[0m\u001b[1;36m3\u001b[0m\u001b[1;33m)\u001b[0m\u001b[1;33m\u001b[0m\u001b[1;33m\u001b[0m\u001b[0m\n\u001b[1;32m---> 14\u001b[1;33m \u001b[1;32mif\u001b[0m\u001b[1;33m(\u001b[0m\u001b[0mob1\u001b[0m\u001b[1;33m>\u001b[0m\u001b[0mob2\u001b[0m\u001b[1;33m)\u001b[0m\u001b[1;33m:\u001b[0m\u001b[1;33m\u001b[0m\u001b[1;33m\u001b[0m\u001b[0m\n\u001b[0m\u001b[0;32m     15\u001b[0m     \u001b[0mprint\u001b[0m\u001b[1;33m(\u001b[0m\u001b[1;34m\"ob1 is greater than ob2\"\u001b[0m\u001b[1;33m)\u001b[0m\u001b[1;33m\u001b[0m\u001b[1;33m\u001b[0m\u001b[0m\n\u001b[0;32m     16\u001b[0m \u001b[1;32melse\u001b[0m\u001b[1;33m:\u001b[0m\u001b[1;33m\u001b[0m\u001b[1;33m\u001b[0m\u001b[0m\n",
      "\u001b[1;31mTypeError\u001b[0m: '>' not supported between instances of 'A' and 'A'"
     ]
    }
   ],
   "source": [
    "# Python program to overload\n",
    "# a comparison operators \n",
    "\n",
    "class A:\n",
    "    def __init__(self, a):\n",
    "        self.a = a\n",
    "    def __gt__(self, other):\n",
    "        if(self.a>other.a):\n",
    "            return True\n",
    "        else:\n",
    "            return False\n",
    "ob1 = A(2)\n",
    "ob2 = A(3)\n",
    "if(ob1>ob2):\n",
    "    print(\"ob1 is greater than ob2\")\n",
    "else:\n",
    "    print(\"ob2 is greater than ob1\")\n"
   ]
  },
  {
   "cell_type": "code",
   "execution_count": null,
   "id": "2004c03f",
   "metadata": {},
   "outputs": [],
   "source": [
    "# Python program to overload equality\n",
    "# and less than operators\n",
    "\n",
    "class A:\n",
    "    def __init__(self, a):\n",
    "        self.a = a\n",
    "    def __lt__(self, other):\n",
    "        if(self.a<other.a):\n",
    "            return \"ob1 is lessthan ob2\"\n",
    "        else:\n",
    "            return \"ob2 is less than ob1\"\n",
    "    def __eq__(self, other):\n",
    "        if(self.a == other.a):\n",
    "            return \"Both are equal\"\n",
    "        else:\n",
    "            return \"Not equal\"\n",
    "                \n",
    "ob1 = A(2)\n",
    "ob2 = A(3)\n",
    "print(ob1 < ob2)\n",
    "\n",
    "ob3 = A(4)\n",
    "ob4 = A(4)\n",
    "print(ob1 == ob2)\n"
   ]
  },
  {
   "cell_type": "markdown",
   "id": "ef725db7",
   "metadata": {},
   "source": []
  },
  {
   "cell_type": "code",
   "execution_count": null,
   "id": "4c356a0d",
   "metadata": {},
   "outputs": [],
   "source": []
  }
 ],
 "metadata": {
  "kernelspec": {
   "display_name": "Python 3 (ipykernel)",
   "language": "python",
   "name": "python3"
  },
  "language_info": {
   "codemirror_mode": {
    "name": "ipython",
    "version": 3
   },
   "file_extension": ".py",
   "mimetype": "text/x-python",
   "name": "python",
   "nbconvert_exporter": "python",
   "pygments_lexer": "ipython3",
   "version": "3.9.7"
  }
 },
 "nbformat": 4,
 "nbformat_minor": 5
}
