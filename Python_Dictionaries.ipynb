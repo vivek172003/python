{
 "cells": [
  {
   "cell_type": "markdown",
   "id": "22378c86",
   "metadata": {},
   "source": [
    "# Dictionaries - {}"
   ]
  },
  {
   "cell_type": "raw",
   "id": "591c3ecb",
   "metadata": {},
   "source": [
    "-Stores data in key-value pairs\n",
    "-Each Key is Unique (with specifically mapped value)\n",
    "-Heterogenous\n",
    "-Mutable"
   ]
  },
  {
   "cell_type": "markdown",
   "id": "7a03863a",
   "metadata": {},
   "source": [
    "#### Definition and Creation"
   ]
  },
  {
   "cell_type": "code",
   "execution_count": null,
   "id": "37a0b9bb",
   "metadata": {},
   "outputs": [],
   "source": [
    "my_dict = {'name': 'Rehaan', 'age': 23, 'city': 'Kochi'}"
   ]
  },
  {
   "cell_type": "code",
   "execution_count": null,
   "id": "e824592f",
   "metadata": {},
   "outputs": [],
   "source": [
    "emp_dict={}\n",
    "type(emp_dict)"
   ]
  },
  {
   "cell_type": "markdown",
   "id": "b839441e",
   "metadata": {},
   "source": [
    "#### Accessing Values"
   ]
  },
  {
   "cell_type": "code",
   "execution_count": null,
   "id": "c16841f6",
   "metadata": {},
   "outputs": [],
   "source": [
    "#dict[key]\n",
    "\n",
    "my_dict['age']"
   ]
  },
  {
   "cell_type": "markdown",
   "id": "81d548fb",
   "metadata": {},
   "source": [
    "#### Addition and Updation"
   ]
  },
  {
   "cell_type": "code",
   "execution_count": null,
   "id": "5165a0c7",
   "metadata": {},
   "outputs": [],
   "source": [
    "my_dict['dept']='IT' #adding a new key value pair\n",
    "my_dict['age']=25    #updating\n",
    "print(my_dict)"
   ]
  },
  {
   "cell_type": "code",
   "execution_count": null,
   "id": "18e5fef8",
   "metadata": {},
   "outputs": [],
   "source": [
    "#ques 1\n",
    "sample_dict={}\n",
    "sample_dict[100]='100'\n",
    "print(sample_dict)"
   ]
  },
  {
   "cell_type": "markdown",
   "id": "67445960",
   "metadata": {},
   "source": [
    "#### Removing Items"
   ]
  },
  {
   "cell_type": "code",
   "execution_count": null,
   "id": "15ebad84",
   "metadata": {},
   "outputs": [],
   "source": [
    "my_dict1 = {'name': 'Rehaan', 'age': 23, 'city': 'Kochi'}\n",
    "del my_dict1['city']  # Removes the key 'city'\n",
    "print(my_dict1)"
   ]
  },
  {
   "cell_type": "code",
   "execution_count": null,
   "id": "eed7413a",
   "metadata": {},
   "outputs": [],
   "source": [
    "email = my_dict1.pop('age') # Removes 'city' and returns its value\n",
    "print(my_dict1)"
   ]
  },
  {
   "cell_type": "code",
   "execution_count": 11,
   "id": "73c71032",
   "metadata": {},
   "outputs": [],
   "source": [
    "my_dict = {'a': 1, 'b': 2}\n",
    "# item = my_dict.popitem()\n",
    "# print(item)\n",
    "# print(my_dict)"
   ]
  },
  {
   "cell_type": "markdown",
   "id": "d95174a7",
   "metadata": {},
   "source": [
    "#### Key-Value Pairs"
   ]
  },
  {
   "cell_type": "raw",
   "id": "de12c544",
   "metadata": {},
   "source": [
    "-Keys must be immutable types (e.g., strings, numbers, tuples)\n",
    "-Values can be any type (e.g., numbers, strings, lists, other dictionaries)"
   ]
  },
  {
   "cell_type": "code",
   "execution_count": 12,
   "id": "d30d4c24",
   "metadata": {},
   "outputs": [
    {
     "name": "stdout",
     "output_type": "stream",
     "text": [
      "dict_keys(['a', 'b'])\n"
     ]
    }
   ],
   "source": [
    "print(my_dict.keys()) #accessing all keys"
   ]
  },
  {
   "cell_type": "code",
   "execution_count": 13,
   "id": "d85fe29f",
   "metadata": {},
   "outputs": [
    {
     "name": "stdout",
     "output_type": "stream",
     "text": [
      "dict_values([1, 2])\n"
     ]
    }
   ],
   "source": [
    "print(my_dict.values())#accessing all values"
   ]
  },
  {
   "cell_type": "code",
   "execution_count": 14,
   "id": "4a26cde7",
   "metadata": {},
   "outputs": [
    {
     "name": "stdout",
     "output_type": "stream",
     "text": [
      "dict_items([('a', 1), ('b', 2)])\n"
     ]
    }
   ],
   "source": [
    "print(my_dict.items()) #accessing all items"
   ]
  },
  {
   "cell_type": "code",
   "execution_count": 15,
   "id": "e4674053",
   "metadata": {},
   "outputs": [
    {
     "ename": "TypeError",
     "evalue": "unhashable type: 'list'",
     "output_type": "error",
     "traceback": [
      "\u001b[1;31m---------------------------------------------------------------------------\u001b[0m",
      "\u001b[1;31mTypeError\u001b[0m                                 Traceback (most recent call last)",
      "\u001b[1;32mC:\\Users\\LAKSHA~1.RAZ\\AppData\\Local\\Temp/ipykernel_844/776121729.py\u001b[0m in \u001b[0;36m<module>\u001b[1;34m\u001b[0m\n\u001b[0;32m      1\u001b[0m \u001b[1;31m#ques 2\u001b[0m\u001b[1;33m\u001b[0m\u001b[1;33m\u001b[0m\u001b[0m\n\u001b[1;32m----> 2\u001b[1;33m \u001b[0mnew_dict\u001b[0m \u001b[1;33m=\u001b[0m \u001b[1;33m{\u001b[0m\u001b[1;33m[\u001b[0m\u001b[1;36m11\u001b[0m\u001b[1;33m,\u001b[0m\u001b[1;36m1\u001b[0m\u001b[1;33m]\u001b[0m\u001b[1;33m:\u001b[0m \u001b[1;33m[\u001b[0m\u001b[1;36m10\u001b[0m\u001b[1;33m,\u001b[0m \u001b[1;36m20\u001b[0m\u001b[1;33m]\u001b[0m\u001b[1;33m,\u001b[0m \u001b[1;34m'key'\u001b[0m\u001b[1;33m:\u001b[0m \u001b[1;33m{\u001b[0m\u001b[1;34m'nested_key'\u001b[0m\u001b[1;33m:\u001b[0m \u001b[1;34m'value'\u001b[0m\u001b[1;33m}\u001b[0m\u001b[1;33m}\u001b[0m\u001b[1;33m\u001b[0m\u001b[1;33m\u001b[0m\u001b[0m\n\u001b[0m",
      "\u001b[1;31mTypeError\u001b[0m: unhashable type: 'list'"
     ]
    }
   ],
   "source": [
    "#ques 2\n",
    "new_dict = {[11,1]: [10, 20], 'key': {'nested_key': 'value'}}"
   ]
  },
  {
   "cell_type": "code",
   "execution_count": 16,
   "id": "ac084e22",
   "metadata": {},
   "outputs": [],
   "source": [
    "#ques 3\n",
    "new_dict = {(11,1): [10, 20], 'key': {'nested_key': 'value'}}"
   ]
  },
  {
   "cell_type": "markdown",
   "id": "0bb8aa53",
   "metadata": {},
   "source": [
    "#### Checking for Keys"
   ]
  },
  {
   "cell_type": "code",
   "execution_count": 17,
   "id": "f88798bc",
   "metadata": {},
   "outputs": [
    {
     "name": "stdout",
     "output_type": "stream",
     "text": [
      "Key exists\n"
     ]
    }
   ],
   "source": [
    "if (11,1) in new_dict:\n",
    "    print('Key exists')"
   ]
  },
  {
   "cell_type": "markdown",
   "id": "44a15942",
   "metadata": {},
   "source": [
    "#### Iterating over Dictionaries"
   ]
  },
  {
   "cell_type": "code",
   "execution_count": 18,
   "id": "71c65a49",
   "metadata": {},
   "outputs": [
    {
     "name": "stdout",
     "output_type": "stream",
     "text": [
      "a 1\n",
      "b 2\n"
     ]
    }
   ],
   "source": [
    "for key in my_dict:\n",
    "    print(key, my_dict[key])  # Iterate over keys"
   ]
  },
  {
   "cell_type": "code",
   "execution_count": 19,
   "id": "445c8cf4",
   "metadata": {},
   "outputs": [
    {
     "name": "stdout",
     "output_type": "stream",
     "text": [
      "1\n",
      "2\n"
     ]
    }
   ],
   "source": [
    "for value in my_dict.values():\n",
    "    print(value)  # Iterate over values"
   ]
  },
  {
   "cell_type": "code",
   "execution_count": 20,
   "id": "f7828a42",
   "metadata": {},
   "outputs": [
    {
     "name": "stdout",
     "output_type": "stream",
     "text": [
      "a 1\n",
      "b 2\n"
     ]
    }
   ],
   "source": [
    "for key, value in my_dict.items():\n",
    "    print(key, value)  # Iterate over key-value pairs"
   ]
  },
  {
   "cell_type": "markdown",
   "id": "a0e41c60",
   "metadata": {},
   "source": [
    "#### Merging Dictonaries"
   ]
  },
  {
   "cell_type": "code",
   "execution_count": 21,
   "id": "e8209af5",
   "metadata": {},
   "outputs": [
    {
     "name": "stdout",
     "output_type": "stream",
     "text": [
      "{'a': 1, 'b': 3, 'c': 4}\n"
     ]
    }
   ],
   "source": [
    "dict1 = {'a': 1, 'b': 2}\n",
    "dict2 = {'b': 3, 'c': 4}\n",
    "dict1.update(dict2)  \n",
    "\n",
    "print(dict1)\n"
   ]
  },
  {
   "cell_type": "code",
   "execution_count": 22,
   "id": "11c5e9fd",
   "metadata": {},
   "outputs": [
    {
     "name": "stdout",
     "output_type": "stream",
     "text": [
      "{'a': 1, 'b': 3, 'c': 4}\n"
     ]
    }
   ],
   "source": [
    "# Python 3.9+\n",
    "merged_dict = dict1 | dict2 \n",
    "print(merged_dict)"
   ]
  },
  {
   "cell_type": "markdown",
   "id": "f1f1f0ea",
   "metadata": {},
   "source": [
    "#### Dictionary Comprehensions"
   ]
  },
  {
   "cell_type": "code",
   "execution_count": 23,
   "id": "147c7f7b",
   "metadata": {},
   "outputs": [
    {
     "name": "stdout",
     "output_type": "stream",
     "text": [
      "{0: 0, 1: 1, 2: 4, 3: 9, 4: 16, 5: 25}\n"
     ]
    }
   ],
   "source": [
    "squares = {x: x*x for x in range(6)}\n",
    "print(squares)"
   ]
  },
  {
   "cell_type": "markdown",
   "id": "8ea1351c",
   "metadata": {},
   "source": [
    "#### Methods in Dictionary"
   ]
  },
  {
   "cell_type": "code",
   "execution_count": 24,
   "id": "35f4bb5e",
   "metadata": {},
   "outputs": [
    {
     "name": "stdout",
     "output_type": "stream",
     "text": [
      "{}\n"
     ]
    }
   ],
   "source": [
    "#clear\n",
    "my_dict = {'name': 'John', 'age': 25}\n",
    "my_dict.clear()\n",
    "print(my_dict)"
   ]
  },
  {
   "cell_type": "code",
   "execution_count": 25,
   "id": "cfd5a9ef",
   "metadata": {},
   "outputs": [
    {
     "name": "stdout",
     "output_type": "stream",
     "text": [
      "25\n",
      "{'name': 'John', 'age': 25}\n"
     ]
    }
   ],
   "source": [
    "#setdefault\n",
    "my_dict = {'name': 'John'}\n",
    "age = my_dict.setdefault('age', 25)\n",
    "print(age)\n",
    "print(my_dict)"
   ]
  },
  {
   "cell_type": "code",
   "execution_count": 27,
   "id": "0a7e0d56",
   "metadata": {},
   "outputs": [
    {
     "name": "stdout",
     "output_type": "stream",
     "text": [
      "{'a': 1, 'b': 2, 'c': 3}\n",
      "{'a': 1, 'b': 2, 'c': 3}\n"
     ]
    }
   ],
   "source": [
    "#copy\n",
    "original = {'a': 1, 'b': 2}\n",
    "copy = original\n",
    "copy['c'] = 3\n",
    "print(original)\n",
    "print(copy)"
   ]
  },
  {
   "cell_type": "code",
   "execution_count": 41,
   "id": "ecc0cb35",
   "metadata": {},
   "outputs": [
    {
     "name": "stdout",
     "output_type": "stream",
     "text": [
      "{'A': 3, 'a': 1, 'b': 2}\n"
     ]
    }
   ],
   "source": [
    "#sorting\n",
    "my_dict = {'b': 2, 'a': 1, 'A': 3}\n",
    "sorted_dict = dict(sorted(my_dict.items()))\n",
    "print(sorted_dict)"
   ]
  },
  {
   "cell_type": "code",
   "execution_count": null,
   "id": "0f034ae4",
   "metadata": {},
   "outputs": [],
   "source": []
  },
  {
   "cell_type": "code",
   "execution_count": 30,
   "id": "4dfe301c",
   "metadata": {},
   "outputs": [
    {
     "name": "stdout",
     "output_type": "stream",
     "text": [
      "{'name': 'Alice', 'age': 30, 'city': 'London'}\n"
     ]
    }
   ],
   "source": [
    "#Creating a Dictionary from Two Lists\n",
    "\n",
    "keys = ['name', 'age', 'city']\n",
    "values = ['Alice', 30, 'London']\n",
    "my_dict = dict(zip(keys, values)) #using zip method\n",
    "print(my_dict)"
   ]
  },
  {
   "cell_type": "code",
   "execution_count": 31,
   "id": "d181ffb3",
   "metadata": {},
   "outputs": [
    {
     "name": "stdout",
     "output_type": "stream",
     "text": [
      "25\n",
      "Not Found\n"
     ]
    }
   ],
   "source": [
    "#ques4\n",
    "\n",
    "my_dict = {'name': 'John', 'age': 25}\n",
    "print(my_dict.get('age'))\n",
    "print(my_dict.get('city', 'Not Found'))"
   ]
  },
  {
   "cell_type": "code",
   "execution_count": 32,
   "id": "4948dcf2",
   "metadata": {},
   "outputs": [
    {
     "name": "stdout",
     "output_type": "stream",
     "text": [
      "True\n",
      "False\n"
     ]
    }
   ],
   "source": [
    "#ques5\n",
    "\n",
    "my_dict = {'name': 'John', 'age': 25}\n",
    "print('name' in my_dict)\n",
    "print('city' in my_dict)"
   ]
  },
  {
   "cell_type": "code",
   "execution_count": 33,
   "id": "d8398cfd",
   "metadata": {},
   "outputs": [
    {
     "name": "stdout",
     "output_type": "stream",
     "text": [
      "<class 'dict'>\n"
     ]
    }
   ],
   "source": [
    "#ques6\n",
    "my_dict = {'a': 1, 'b': 2}\n",
    "print(type(my_dict))"
   ]
  },
  {
   "cell_type": "code",
   "execution_count": 34,
   "id": "ee59f743",
   "metadata": {},
   "outputs": [
    {
     "name": "stdout",
     "output_type": "stream",
     "text": [
      "{'a': 0, 'b': 0, 'c': 0}\n"
     ]
    }
   ],
   "source": [
    "keys = ['a', 'b', 'c']\n",
    "default_value = 0\n",
    "my_dict = dict.fromkeys(keys, default_value)\n",
    "print(my_dict)"
   ]
  },
  {
   "cell_type": "code",
   "execution_count": 35,
   "id": "3351f147",
   "metadata": {},
   "outputs": [
    {
     "name": "stdout",
     "output_type": "stream",
     "text": [
      "{1: 1, 3: 9, 5: 25, 7: 49, 9: 81}\n"
     ]
    }
   ],
   "source": [
    "#ques 7\n",
    "\n",
    "numbers = range(10)\n",
    "even_squares = {x: x*x for x in numbers if x % 2 != 0}\n",
    "print(even_squares)"
   ]
  },
  {
   "cell_type": "code",
   "execution_count": 38,
   "id": "4d5786c4",
   "metadata": {},
   "outputs": [],
   "source": [
    "#ques 8\n",
    "\n",
    "#how to access city here?\n",
    "my_dict = {'person': {'name': 'John', 'age': 25,\n",
    "                      'address': {'city': 'New York', 'zip': '10001'}}}"
   ]
  },
  {
   "cell_type": "code",
   "execution_count": 39,
   "id": "89fdb34b",
   "metadata": {},
   "outputs": [
    {
     "data": {
      "text/plain": [
       "'New York'"
      ]
     },
     "execution_count": 39,
     "metadata": {},
     "output_type": "execute_result"
    }
   ],
   "source": [
    "my_dict['person']['address']['city']"
   ]
  },
  {
   "cell_type": "code",
   "execution_count": null,
   "id": "13d38600",
   "metadata": {},
   "outputs": [],
   "source": []
  }
 ],
 "metadata": {
  "kernelspec": {
   "display_name": "Python 3 (ipykernel)",
   "language": "python",
   "name": "python3"
  },
  "language_info": {
   "codemirror_mode": {
    "name": "ipython",
    "version": 3
   },
   "file_extension": ".py",
   "mimetype": "text/x-python",
   "name": "python",
   "nbconvert_exporter": "python",
   "pygments_lexer": "ipython3",
   "version": "3.9.7"
  }
 },
 "nbformat": 4,
 "nbformat_minor": 5
}
