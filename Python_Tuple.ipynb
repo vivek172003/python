{
 "cells": [
  {
   "cell_type": "markdown",
   "id": "1c3811a8",
   "metadata": {},
   "source": [
    "# Tuples - ()"
   ]
  },
  {
   "cell_type": "raw",
   "id": "8a9e4967",
   "metadata": {},
   "source": [
    "-Immutable - This makes them ideal for read-only collections of items that should not be changed.\n",
    "\n",
    "-Ordered\n",
    "\n",
    "-Heterogenous\n",
    "\n",
    "Tuples are used to store data that should not be changed, such as coordinates, RGB values, etc."
   ]
  },
  {
   "cell_type": "markdown",
   "id": "7186a871",
   "metadata": {},
   "source": [
    "#### Creating Tuples"
   ]
  },
  {
   "cell_type": "code",
   "execution_count": 3,
   "id": "2170d47a",
   "metadata": {},
   "outputs": [],
   "source": [
    "tup = (1, \"element2\", 3.14,True) #defined within parenthisis ()"
   ]
  },
  {
   "cell_type": "code",
   "execution_count": 1,
   "id": "90843a05",
   "metadata": {},
   "outputs": [
    {
     "name": "stdout",
     "output_type": "stream",
     "text": [
      "()\n",
      "<class 'tuple'>\n"
     ]
    }
   ],
   "source": [
    "#creating empty tuple\n",
    " \n",
    "empty_tuple = ()\n",
    "print(empty_tuple) \n",
    "print(type(empty_tuple))"
   ]
  },
  {
   "cell_type": "markdown",
   "id": "3e54c766",
   "metadata": {},
   "source": [
    "#### Accessing Elements"
   ]
  },
  {
   "cell_type": "code",
   "execution_count": 4,
   "id": "3401e1ef",
   "metadata": {},
   "outputs": [
    {
     "name": "stdout",
     "output_type": "stream",
     "text": [
      "1\n"
     ]
    }
   ],
   "source": [
    "first_element = tup[0]\n",
    "print(first_element)"
   ]
  },
  {
   "cell_type": "code",
   "execution_count": 5,
   "id": "5b4b5def",
   "metadata": {},
   "outputs": [
    {
     "name": "stdout",
     "output_type": "stream",
     "text": [
      "True\n"
     ]
    }
   ],
   "source": [
    "# Negative indexing (access from the end)\n",
    "last_element = tup[-1]\n",
    "print(last_element) "
   ]
  },
  {
   "cell_type": "markdown",
   "id": "d0b8a51c",
   "metadata": {},
   "source": [
    "#### Slicing Tuples"
   ]
  },
  {
   "cell_type": "code",
   "execution_count": null,
   "id": "2e25437c",
   "metadata": {},
   "outputs": [],
   "source": [
    "sub_tup = tup[2:4]\n",
    "print(sub_tup)"
   ]
  },
  {
   "cell_type": "code",
   "execution_count": 6,
   "id": "17b29610",
   "metadata": {},
   "outputs": [
    {
     "ename": "TypeError",
     "evalue": "'tuple' object does not support item assignment",
     "output_type": "error",
     "traceback": [
      "\u001b[1;31m---------------------------------------------------------------------------\u001b[0m",
      "\u001b[1;31mTypeError\u001b[0m                                 Traceback (most recent call last)",
      "\u001b[1;32mC:\\Users\\LAKSHA~1.RAZ\\AppData\\Local\\Temp/ipykernel_6388/3291107181.py\u001b[0m in \u001b[0;36m<module>\u001b[1;34m\u001b[0m\n\u001b[0;32m      1\u001b[0m \u001b[1;31m#ques1\u001b[0m\u001b[1;33m\u001b[0m\u001b[1;33m\u001b[0m\u001b[0m\n\u001b[0;32m      2\u001b[0m \u001b[1;33m\u001b[0m\u001b[0m\n\u001b[1;32m----> 3\u001b[1;33m \u001b[0mtup\u001b[0m\u001b[1;33m[\u001b[0m\u001b[1;36m0\u001b[0m\u001b[1;33m]\u001b[0m\u001b[1;33m=\u001b[0m\u001b[1;34m'check'\u001b[0m\u001b[1;33m\u001b[0m\u001b[1;33m\u001b[0m\u001b[0m\n\u001b[0m",
      "\u001b[1;31mTypeError\u001b[0m: 'tuple' object does not support item assignment"
     ]
    }
   ],
   "source": [
    "#ques1\n",
    "\n",
    "tup[0]='check'"
   ]
  },
  {
   "cell_type": "markdown",
   "id": "1110f13a",
   "metadata": {},
   "source": [
    "#### Concatenation"
   ]
  },
  {
   "cell_type": "code",
   "execution_count": 7,
   "id": "2063c980",
   "metadata": {},
   "outputs": [
    {
     "name": "stdout",
     "output_type": "stream",
     "text": [
      "('a', 'b', 'A', 'A')\n"
     ]
    }
   ],
   "source": [
    "tuple1 = ('a', 'b')\n",
    "tuple2 = ('A', 'A')\n",
    "result = tuple1 + tuple2\n",
    "print(result)"
   ]
  },
  {
   "cell_type": "markdown",
   "id": "ac52a4fe",
   "metadata": {},
   "source": [
    "#### Tuple Unpacking"
   ]
  },
  {
   "cell_type": "code",
   "execution_count": 8,
   "id": "68496229",
   "metadata": {},
   "outputs": [
    {
     "name": "stdout",
     "output_type": "stream",
     "text": [
      "1\n",
      "2\n",
      "3\n"
     ]
    }
   ],
   "source": [
    "x, y, z = (1, 2, 3)\n",
    "print(x)  \n",
    "print(y)  \n",
    "print(z) \n"
   ]
  },
  {
   "cell_type": "code",
   "execution_count": 10,
   "id": "625f117c",
   "metadata": {},
   "outputs": [
    {
     "name": "stdout",
     "output_type": "stream",
     "text": [
      "10\n",
      "[20, 30, 40, 50]\n"
     ]
    }
   ],
   "source": [
    "my_tuple = (10, 20, 30, 40, 50)\n",
    "a, *b= my_tuple\n",
    "print(a)  \n",
    "print(b) \n",
    "# print(c)  "
   ]
  },
  {
   "cell_type": "markdown",
   "id": "bcc75c29",
   "metadata": {},
   "source": [
    "#### Tuple Packing"
   ]
  },
  {
   "cell_type": "code",
   "execution_count": 11,
   "id": "e7194ba9",
   "metadata": {},
   "outputs": [
    {
     "name": "stdout",
     "output_type": "stream",
     "text": [
      "(1, 2, 3)\n"
     ]
    }
   ],
   "source": [
    "packed_tuple = 1, 2, 3\n",
    "print(packed_tuple)"
   ]
  },
  {
   "cell_type": "markdown",
   "id": "06324c10",
   "metadata": {},
   "source": [
    "#### Nested Tuples"
   ]
  },
  {
   "cell_type": "code",
   "execution_count": 12,
   "id": "beb63544",
   "metadata": {},
   "outputs": [
    {
     "name": "stdout",
     "output_type": "stream",
     "text": [
      "((1, 2), (3, 4))\n",
      "(3, 4)\n"
     ]
    }
   ],
   "source": [
    "# Nested tuples\n",
    "nested_tuple = ((1, 2), (3, 4))\n",
    "print(nested_tuple) \n",
    "\n",
    "# Accessing elements in nested tuples\n",
    "inner_tuple = nested_tuple[1]\n",
    "print(inner_tuple) "
   ]
  },
  {
   "cell_type": "code",
   "execution_count": 13,
   "id": "8c34cedf",
   "metadata": {},
   "outputs": [],
   "source": [
    "# ques2\n",
    "check_tuple = (5)"
   ]
  },
  {
   "cell_type": "code",
   "execution_count": 14,
   "id": "5b0788b4",
   "metadata": {},
   "outputs": [
    {
     "name": "stdout",
     "output_type": "stream",
     "text": [
      "5\n"
     ]
    }
   ],
   "source": [
    "print(check_tuple)"
   ]
  },
  {
   "cell_type": "code",
   "execution_count": 15,
   "id": "6e090ff7",
   "metadata": {},
   "outputs": [],
   "source": [
    "single_element_tup = (10,) #When creating a tuple with a single element\n",
    "                            #a trailing comma is required:"
   ]
  },
  {
   "cell_type": "code",
   "execution_count": 16,
   "id": "c1e967c5",
   "metadata": {},
   "outputs": [
    {
     "name": "stdout",
     "output_type": "stream",
     "text": [
      "(10,)\n"
     ]
    }
   ],
   "source": [
    "print(single_element_tup)"
   ]
  },
  {
   "cell_type": "markdown",
   "id": "e198c739",
   "metadata": {},
   "source": [
    "#### Tuple Methods"
   ]
  },
  {
   "cell_type": "code",
   "execution_count": null,
   "id": "17e7df1f",
   "metadata": {},
   "outputs": [],
   "source": [
    "# Using tuple methods\n",
    "sample_tuple = (1, 2, 2, 1,2,4,3,4,2,4,1,3)\n",
    "\n",
    "# Counting occurrences\n",
    "count_of_2 = sample_tuple.count(2)\n",
    "print(count_of_2)  \n",
    "\n",
    "# Finding index of first occurrence\n",
    "index_of_3 = sample_tuple.index(3)\n",
    "print(index_of_3)  "
   ]
  },
  {
   "cell_type": "markdown",
   "id": "e2cf03a2",
   "metadata": {},
   "source": [
    "#### Iterating over tuples"
   ]
  },
  {
   "cell_type": "code",
   "execution_count": 17,
   "id": "901c1990",
   "metadata": {},
   "outputs": [
    {
     "name": "stdout",
     "output_type": "stream",
     "text": [
      "1\n",
      "2\n",
      "3\n"
     ]
    }
   ],
   "source": [
    "sample_tuple = (1, 2,3)\n",
    "\n",
    "for _ in sample_tuple: #using _ as a variable\n",
    "    print(_)"
   ]
  },
  {
   "cell_type": "code",
   "execution_count": 18,
   "id": "377369a5",
   "metadata": {},
   "outputs": [
    {
     "name": "stdout",
     "output_type": "stream",
     "text": [
      "Tuple Tuple Tuple "
     ]
    }
   ],
   "source": [
    "for _ in sample_tuple:\n",
    "    print(\"Tuple\", end =\" \")"
   ]
  },
  {
   "cell_type": "code",
   "execution_count": 19,
   "id": "6754e875",
   "metadata": {},
   "outputs": [
    {
     "ename": "IndexError",
     "evalue": "tuple index out of range",
     "output_type": "error",
     "traceback": [
      "\u001b[1;31m---------------------------------------------------------------------------\u001b[0m",
      "\u001b[1;31mIndexError\u001b[0m                                Traceback (most recent call last)",
      "\u001b[1;32mC:\\Users\\LAKSHA~1.RAZ\\AppData\\Local\\Temp/ipykernel_6388/2281081012.py\u001b[0m in \u001b[0;36m<module>\u001b[1;34m\u001b[0m\n\u001b[0;32m      2\u001b[0m \u001b[1;33m\u001b[0m\u001b[0m\n\u001b[0;32m      3\u001b[0m \u001b[0mmy_tuple\u001b[0m \u001b[1;33m=\u001b[0m \u001b[1;33m(\u001b[0m\u001b[1;36m5\u001b[0m\u001b[1;33m,\u001b[0m \u001b[1;36m10\u001b[0m\u001b[1;33m,\u001b[0m \u001b[1;36m15\u001b[0m\u001b[1;33m)\u001b[0m\u001b[1;33m\u001b[0m\u001b[1;33m\u001b[0m\u001b[0m\n\u001b[1;32m----> 4\u001b[1;33m \u001b[0mprint\u001b[0m\u001b[1;33m(\u001b[0m\u001b[0mmy_tuple\u001b[0m\u001b[1;33m[\u001b[0m\u001b[1;36m3\u001b[0m\u001b[1;33m]\u001b[0m\u001b[1;33m)\u001b[0m\u001b[1;33m\u001b[0m\u001b[1;33m\u001b[0m\u001b[0m\n\u001b[0m",
      "\u001b[1;31mIndexError\u001b[0m: tuple index out of range"
     ]
    }
   ],
   "source": [
    "# ques3\n",
    "\n",
    "my_tuple = (5, 10, 15)\n",
    "print(my_tuple[3])"
   ]
  },
  {
   "cell_type": "code",
   "execution_count": 20,
   "id": "1ff87aab",
   "metadata": {},
   "outputs": [
    {
     "name": "stdout",
     "output_type": "stream",
     "text": [
      "()\n"
     ]
    }
   ],
   "source": [
    "#ques 4\n",
    "\n",
    "my_tuple = (1, 2, 3)\n",
    "print(my_tuple * 0)"
   ]
  },
  {
   "cell_type": "code",
   "execution_count": 21,
   "id": "e41a8c71",
   "metadata": {},
   "outputs": [
    {
     "name": "stdout",
     "output_type": "stream",
     "text": [
      "True\n"
     ]
    }
   ],
   "source": [
    "#ques 5\n",
    "\n",
    "tuple1 = (1, 2, 3)\n",
    "tuple2 = (1, 2, 3)\n",
    "print(tuple1 == tuple2)"
   ]
  },
  {
   "cell_type": "code",
   "execution_count": 23,
   "id": "cd41a895",
   "metadata": {},
   "outputs": [
    {
     "ename": "TypeError",
     "evalue": "'tuple' object does not support item assignment",
     "output_type": "error",
     "traceback": [
      "\u001b[1;31m---------------------------------------------------------------------------\u001b[0m",
      "\u001b[1;31mTypeError\u001b[0m                                 Traceback (most recent call last)",
      "\u001b[1;32mC:\\Users\\LAKSHA~1.RAZ\\AppData\\Local\\Temp/ipykernel_6388/1883812387.py\u001b[0m in \u001b[0;36m<module>\u001b[1;34m\u001b[0m\n\u001b[0;32m      2\u001b[0m \u001b[1;33m\u001b[0m\u001b[0m\n\u001b[0;32m      3\u001b[0m \u001b[0mt\u001b[0m \u001b[1;33m=\u001b[0m \u001b[1;33m(\u001b[0m\u001b[1;33m[\u001b[0m\u001b[1;36m1\u001b[0m\u001b[1;33m,\u001b[0m \u001b[1;36m2\u001b[0m\u001b[1;33m]\u001b[0m\u001b[1;33m,\u001b[0m \u001b[1;33m[\u001b[0m\u001b[1;36m3\u001b[0m\u001b[1;33m,\u001b[0m \u001b[1;36m4\u001b[0m\u001b[1;33m]\u001b[0m\u001b[1;33m)\u001b[0m\u001b[1;33m\u001b[0m\u001b[1;33m\u001b[0m\u001b[0m\n\u001b[1;32m----> 4\u001b[1;33m \u001b[0mt\u001b[0m\u001b[1;33m[\u001b[0m\u001b[1;36m0\u001b[0m\u001b[1;33m]\u001b[0m \u001b[1;33m=\u001b[0m \u001b[1;36m99\u001b[0m\u001b[1;33m\u001b[0m\u001b[1;33m\u001b[0m\u001b[0m\n\u001b[0m\u001b[0;32m      5\u001b[0m \u001b[0mprint\u001b[0m\u001b[1;33m(\u001b[0m\u001b[0mt\u001b[0m\u001b[1;33m)\u001b[0m\u001b[1;33m\u001b[0m\u001b[1;33m\u001b[0m\u001b[0m\n",
      "\u001b[1;31mTypeError\u001b[0m: 'tuple' object does not support item assignment"
     ]
    }
   ],
   "source": [
    "# ques 6\n",
    " \n",
    "t = ([1, 2], [3, 4])\n",
    "t[0][0] = 99\n",
    "print(t)"
   ]
  },
  {
   "cell_type": "code",
   "execution_count": 24,
   "id": "ac7912ad",
   "metadata": {},
   "outputs": [
    {
     "name": "stdout",
     "output_type": "stream",
     "text": [
      "(1, 2, 3, 4, 5, 4, 5)\n"
     ]
    }
   ],
   "source": [
    "# ques 7\n",
    " \n",
    "t1 = (1, 2, 3)\n",
    "t2 = (4, 5)\n",
    "result = t1 + t2 * 2\n",
    "print(result)"
   ]
  },
  {
   "cell_type": "code",
   "execution_count": 25,
   "id": "19f70f5a",
   "metadata": {},
   "outputs": [
    {
     "name": "stdout",
     "output_type": "stream",
     "text": [
      "(1, 2, 5, 4)\n"
     ]
    }
   ],
   "source": [
    "#modifying tupl using list\n",
    "\n",
    "tup=(1,2,3,4)\n",
    "tup=list(tup)\n",
    "tup[2]=5\n",
    "tup=tuple(tup)\n",
    "print(tup)"
   ]
  },
  {
   "cell_type": "code",
   "execution_count": null,
   "id": "7279d76a",
   "metadata": {},
   "outputs": [],
   "source": []
  }
 ],
 "metadata": {
  "kernelspec": {
   "display_name": "Python 3 (ipykernel)",
   "language": "python",
   "name": "python3"
  },
  "language_info": {
   "codemirror_mode": {
    "name": "ipython",
    "version": 3
   },
   "file_extension": ".py",
   "mimetype": "text/x-python",
   "name": "python",
   "nbconvert_exporter": "python",
   "pygments_lexer": "ipython3",
   "version": "3.9.7"
  }
 },
 "nbformat": 4,
 "nbformat_minor": 5
}
