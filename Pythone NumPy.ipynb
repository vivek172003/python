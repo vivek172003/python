{
 "cells": [
  {
   "cell_type": "markdown",
   "id": "a8da957e",
   "metadata": {},
   "source": [
    "# NumPy - Numerical Python"
   ]
  },
  {
   "cell_type": "markdown",
   "id": "e135f6e4",
   "metadata": {},
   "source": [
    "- A library of python\n",
    "- Mostly used to work with Arrays in Python"
   ]
  },
  {
   "cell_type": "code",
   "execution_count": null,
   "id": "a20cd15e",
   "metadata": {},
   "outputs": [],
   "source": [
    "#importing numpy\n",
    "\n",
    "import numpy as np"
   ]
  },
  {
   "cell_type": "markdown",
   "id": "5e06632f",
   "metadata": {},
   "source": [
    "### Numpy Array (ndarray)"
   ]
  },
  {
   "cell_type": "markdown",
   "id": "2611367e",
   "metadata": {},
   "source": [
    "- NumPy provides a powerful and efficient way to work with arrays, especially for numerical data.\n",
    "    - `Homogeneous`: All elements must be of the same data type, which improves performance.\n",
    "    - `N-dimensional`: Supports multi-dimensional arrays (e.g., matrices).\n",
    "    - `Vectorized Operations`: Allows for efficient mathematical operations on arrays without explicit loops.\n",
    "    \n",
    "Once created, the total size of the array can’t change."
   ]
  },
  {
   "cell_type": "markdown",
   "id": "b5a3e6e4",
   "metadata": {},
   "source": [
    "### Numpy Array over Lists"
   ]
  },
  {
   "cell_type": "markdown",
   "id": "95dea7bd",
   "metadata": {},
   "source": [
    "In Python, we have lists that serve the purpose of arrays, but they are slow to process.\n",
    "   - NumPy array is up to 50x faster than traditional Python lists.\n",
    "   - NumPy arrays are stored at one continuous place in memory unlike lists, so processes can access and manipulate them very efficiently."
   ]
  },
  {
   "cell_type": "markdown",
   "id": "0c9fa650",
   "metadata": {},
   "source": [
    "##### Creating a Numpy Array"
   ]
  },
  {
   "cell_type": "code",
   "execution_count": null,
   "id": "0d8d6093",
   "metadata": {},
   "outputs": [],
   "source": [
    "# From a Python list\n",
    "\n",
    "np_array = np.array([1, 2, 3, 4, 5])\n",
    "print(np_array)\n",
    "type(np_array)"
   ]
  },
  {
   "cell_type": "code",
   "execution_count": null,
   "id": "d51c9c6e",
   "metadata": {},
   "outputs": [],
   "source": [
    "a = np.array([[1,2,3],[4,5,6]])\n",
    "print(a)\n",
    "\n",
    "type(a)"
   ]
  },
  {
   "cell_type": "code",
   "execution_count": null,
   "id": "e0e3a969",
   "metadata": {},
   "outputs": [],
   "source": [
    "# From a Python list\n",
    "np_array = np.array([1, 2, 3, 4, 5])\n",
    "\n",
    "print(np_array)\n",
    "type(np_array)"
   ]
  },
  {
   "cell_type": "code",
   "execution_count": null,
   "id": "c83dca0d",
   "metadata": {},
   "outputs": [],
   "source": [
    "# Array of zeros\n",
    "\n",
    "zeros_array = np.zeros((3, 4))  # 3x4 array\n",
    "\n",
    "print(zeros_array)\n",
    "type(zeros_array)"
   ]
  },
  {
   "cell_type": "code",
   "execution_count": null,
   "id": "d6acb3bc",
   "metadata": {},
   "outputs": [],
   "source": [
    "# Array of ones\n",
    "\n",
    "ones_array = np.ones((2, 3))  # 2x3 array\n",
    "\n",
    "print(ones_array)\n",
    "type(ones_array)"
   ]
  },
  {
   "cell_type": "code",
   "execution_count": null,
   "id": "6dcd5509",
   "metadata": {},
   "outputs": [],
   "source": [
    "# Array of range\n",
    "\n",
    "range_array = np.arange(6)\n",
    "print(range_array)\n",
    "type(ones_array)"
   ]
  },
  {
   "cell_type": "markdown",
   "id": "1dbeeced",
   "metadata": {},
   "source": [
    "### Dimensions in Arrays"
   ]
  },
  {
   "cell_type": "markdown",
   "id": "20cf8d16",
   "metadata": {},
   "source": [
    "##### 0-D arrays"
   ]
  },
  {
   "cell_type": "code",
   "execution_count": null,
   "id": "7086db74",
   "metadata": {},
   "outputs": [],
   "source": [
    "# 0-D arrays, or Scalars, are the elements in an array.\n",
    "# Each value in an array is a 0-D array.\n",
    "\n",
    "arr = np.array(42)\n",
    "\n",
    "print(arr)"
   ]
  },
  {
   "cell_type": "markdown",
   "id": "5848189b",
   "metadata": {},
   "source": [
    "##### 1-D Arrays"
   ]
  },
  {
   "cell_type": "code",
   "execution_count": null,
   "id": "d6fbf6b6",
   "metadata": {},
   "outputs": [],
   "source": [
    "# An array that has 0-D arrays as its elements is called uni-dimensional or 1-D array.\n",
    "\n",
    "arr = np.array([1, 2, 3, 4, 5])\n",
    "\n",
    "print(arr)"
   ]
  },
  {
   "cell_type": "markdown",
   "id": "87fc915d",
   "metadata": {},
   "source": [
    "##### 2-D Arrays"
   ]
  },
  {
   "cell_type": "code",
   "execution_count": null,
   "id": "386958a8",
   "metadata": {},
   "outputs": [],
   "source": [
    "# An array that has 1-D arrays as its elements is called a 2-D array.\n",
    "\n",
    "arr = np.array([[1, 2, 3], [4, 5, 6]])\n",
    "\n",
    "print(arr)"
   ]
  },
  {
   "cell_type": "markdown",
   "id": "a81f9bda",
   "metadata": {},
   "source": [
    "##### 3-D Arrays"
   ]
  },
  {
   "cell_type": "code",
   "execution_count": null,
   "id": "ff8f2345",
   "metadata": {},
   "outputs": [],
   "source": [
    "# An array that has 2-D arrays (matrices) as its elements is called 3-D array.\n",
    "\n",
    "arr = np.array([[[1, 2, 3], [4, 5, 6]], [[1, 2, 3], [4, 5, 6]]])\n",
    "\n",
    "print(arr)"
   ]
  },
  {
   "cell_type": "code",
   "execution_count": null,
   "id": "d5d12a16",
   "metadata": {},
   "outputs": [],
   "source": [
    "#checking number of dimensions of an array\n",
    "\n",
    "arr.ndim"
   ]
  },
  {
   "cell_type": "markdown",
   "id": "26e883b0",
   "metadata": {},
   "source": [
    "##### Higher Dimensional Arrays"
   ]
  },
  {
   "cell_type": "code",
   "execution_count": null,
   "id": "8906aeea",
   "metadata": {},
   "outputs": [],
   "source": [
    "# An array can have any number of dimensions.\n",
    "\n",
    "arr = np.array([1, 2, 3, 4], ndmin=5) #ndimn to specify dimension of an array\n",
    "\n",
    "print(arr)\n",
    "print('number of dimensions :', arr.ndim)"
   ]
  },
  {
   "cell_type": "code",
   "execution_count": null,
   "id": "053804f8",
   "metadata": {},
   "outputs": [],
   "source": [
    "# ques\n",
    "\n",
    "# do after learning how to access an array element \n",
    "\n",
    "# how to access element 3 from above array\n",
    "\n",
    "arr[0,0,0,0,3]"
   ]
  },
  {
   "cell_type": "markdown",
   "id": "c7232b95",
   "metadata": {},
   "source": [
    "##### Accessing Array Elements"
   ]
  },
  {
   "cell_type": "markdown",
   "id": "c8cf1f73",
   "metadata": {},
   "source": [
    "The indexes in NumPy arrays start with 0, meaning that the first element has index 0, and the second has index 1 etc."
   ]
  },
  {
   "cell_type": "code",
   "execution_count": null,
   "id": "87ff7462",
   "metadata": {},
   "outputs": [],
   "source": [
    "arr = np.array([1, 2, 3, 4])\n",
    "\n",
    "print(arr[0])"
   ]
  },
  {
   "cell_type": "code",
   "execution_count": null,
   "id": "ee20b9da",
   "metadata": {},
   "outputs": [],
   "source": [
    "print(arr[1])"
   ]
  },
  {
   "cell_type": "code",
   "execution_count": null,
   "id": "eeb0fb65",
   "metadata": {},
   "outputs": [],
   "source": [
    "print(arr[2] + arr[3]) #adding 2 elements of an array using indexing"
   ]
  },
  {
   "cell_type": "markdown",
   "id": "600dde37",
   "metadata": {},
   "source": [
    "###### Accessing 2-D arrays"
   ]
  },
  {
   "cell_type": "markdown",
   "id": "02be006c",
   "metadata": {},
   "source": [
    "- To access elements from 2-D arrays we can use comma separated integers representing the dimension and the index of the element.\n",
    "- Think of 2-D arrays like a table with rows and columns, where the dimension represents the row and the index represents the column."
   ]
  },
  {
   "cell_type": "code",
   "execution_count": null,
   "id": "a1727c29",
   "metadata": {},
   "outputs": [],
   "source": [
    "arr = np.array([[1,2,3,4,5], [6,7,8,9,10]])\n",
    "\n",
    "print('3rd element on 2st row: ', arr[1, 2])"
   ]
  },
  {
   "cell_type": "code",
   "execution_count": null,
   "id": "0d4e1abf",
   "metadata": {},
   "outputs": [],
   "source": [
    "# ques 1 \n",
    "\n",
    "# Access the element on the 1nd row, 5th column:\n",
    "\n"
   ]
  },
  {
   "cell_type": "markdown",
   "id": "a91cfbbf",
   "metadata": {},
   "source": [
    "##### Access 3-D Arrays"
   ]
  },
  {
   "cell_type": "markdown",
   "id": "45133df7",
   "metadata": {},
   "source": [
    "- To access elements from 3-D arrays we can use comma separated integers representing the dimensions and the index of the element."
   ]
  },
  {
   "cell_type": "code",
   "execution_count": null,
   "id": "d225fa7c",
   "metadata": {},
   "outputs": [],
   "source": [
    "arr = np.array([[[1, 2, 3], [4, 5, 6]], [[7, 8, 9], [10, 11, 12]]])\n",
    "\n",
    "print(arr[0, 1, 2])"
   ]
  },
  {
   "cell_type": "markdown",
   "id": "192a1df2",
   "metadata": {},
   "source": [
    "##### Negative Indexing"
   ]
  },
  {
   "cell_type": "code",
   "execution_count": null,
   "id": "3eb7e74e",
   "metadata": {},
   "outputs": [],
   "source": [
    "arr = np.array([[1,2,3,4,5], [6,7,8,9,10]])\n",
    "\n",
    "print (arr[-1, -1])"
   ]
  },
  {
   "cell_type": "markdown",
   "id": "04894b91",
   "metadata": {},
   "source": [
    "##### Alternate way of accessing elements in array"
   ]
  },
  {
   "cell_type": "code",
   "execution_count": null,
   "id": "7e6010a8",
   "metadata": {},
   "outputs": [],
   "source": [
    "arr = np.array([[1,2,3,4,5], [6,7,8,9,10]])\n",
    "\n",
    "print (arr[-2][-1])"
   ]
  },
  {
   "cell_type": "code",
   "execution_count": null,
   "id": "1a215228",
   "metadata": {},
   "outputs": [],
   "source": [
    "# ques 3\n",
    "\n",
    "arr = np.array([[[1, 2], [3, 4]], [[5, 6], [7, 8]]])\n",
    "\n",
    "print(arr[1, 1, -1])"
   ]
  },
  {
   "cell_type": "markdown",
   "id": "0e689517",
   "metadata": {},
   "source": [
    "##### Numpy Array Slicing "
   ]
  },
  {
   "cell_type": "code",
   "execution_count": null,
   "id": "5286eebc",
   "metadata": {},
   "outputs": [],
   "source": [
    "arr = np.array([1, 2, 3, 4, 5, 6, 7])\n",
    "\n",
    "print(arr[1:5])"
   ]
  },
  {
   "cell_type": "code",
   "execution_count": null,
   "id": "011544d4",
   "metadata": {},
   "outputs": [],
   "source": [
    "# Slice elements from index 4 to the end of the array:\n",
    "\n",
    "print(arr[4:])"
   ]
  },
  {
   "cell_type": "code",
   "execution_count": null,
   "id": "2b884207",
   "metadata": {},
   "outputs": [],
   "source": [
    "# Slice from the index 3 from the end to index 1 from the end:\n",
    "\n",
    "print(arr[-3:-1])"
   ]
  },
  {
   "cell_type": "markdown",
   "id": "df28dec7",
   "metadata": {},
   "source": [
    "### Datatypes in Array"
   ]
  },
  {
   "cell_type": "markdown",
   "id": "563aa5e4",
   "metadata": {},
   "source": [
    "- i - integer\n",
    "- b - boolean\n",
    "- u - unsigned integer\n",
    "- f - float\n",
    "- c - complex float\n",
    "- m - timedelta\n",
    "- M - datetime\n",
    "- O - object\n",
    "- S - string\n",
    "- U - unicode string\n",
    "- V - fixed chunk of memory for other type ( void )"
   ]
  },
  {
   "cell_type": "code",
   "execution_count": null,
   "id": "2b9b88f3",
   "metadata": {},
   "outputs": [],
   "source": [
    "s='hi'\n",
    "s = s.encode('utf-8')\n",
    "print(s)"
   ]
  },
  {
   "cell_type": "code",
   "execution_count": null,
   "id": "34a83870",
   "metadata": {},
   "outputs": [],
   "source": [
    "#checking datatype of an array\n",
    "\n",
    "arr = np.array([1, 2, 3, 4])\n",
    "\n",
    "print(arr.dtype)"
   ]
  },
  {
   "cell_type": "code",
   "execution_count": null,
   "id": "5f6d8dfa",
   "metadata": {},
   "outputs": [],
   "source": [
    "arr = np.array(['apple', 'banana', 'cherry'])\n",
    "\n",
    "print(arr.dtype)"
   ]
  },
  {
   "cell_type": "markdown",
   "id": "fe9a77dd",
   "metadata": {},
   "source": [
    "##### Creating Arrays With a Defined Data Type"
   ]
  },
  {
   "cell_type": "code",
   "execution_count": null,
   "id": "06ca8380",
   "metadata": {},
   "outputs": [],
   "source": [
    "arr = np.array([-1, 2, -3, 4], dtype='u1')\n",
    "\n",
    "print(arr)\n",
    "print(arr.dtype)"
   ]
  },
  {
   "cell_type": "markdown",
   "id": "ceadf81c",
   "metadata": {},
   "source": [
    "For i, u, f, S and U we can define size as well."
   ]
  },
  {
   "cell_type": "code",
   "execution_count": null,
   "id": "75e3ae26",
   "metadata": {},
   "outputs": [],
   "source": [
    "#An array with data type 4 bytes integer\n",
    "\n",
    "arr = np.array([1, 2, 3, 4], dtype='i4')\n",
    "\n",
    "print(arr)\n",
    "print(arr.dtype)"
   ]
  },
  {
   "cell_type": "code",
   "execution_count": null,
   "id": "fdf538ae",
   "metadata": {},
   "outputs": [],
   "source": [
    "#ques 4\n",
    "\n",
    "arr = np.array(['1', '2', '3'], dtype='i')\n",
    "print(arr)\n",
    "print(arr.dtype)"
   ]
  },
  {
   "cell_type": "markdown",
   "id": "dc298540",
   "metadata": {},
   "source": [
    "##### Converting Data Type on Existing Arrays"
   ]
  },
  {
   "cell_type": "markdown",
   "id": "912c191d",
   "metadata": {},
   "source": [
    "- The best way to change the data type of an existing array, is to make a copy of the array with the `astype()` method."
   ]
  },
  {
   "cell_type": "code",
   "execution_count": null,
   "id": "26e3528e",
   "metadata": {},
   "outputs": [],
   "source": [
    "# Change data type from float to integer by using 'i' as parameter value\n",
    "\n",
    "arr = np.array([1.1, 2.1, 3.9])\n",
    "\n",
    "newarr = arr.astype('i')\n",
    "\n",
    "print(newarr)\n",
    "print(newarr.dtype)"
   ]
  },
  {
   "cell_type": "code",
   "execution_count": null,
   "id": "516926fe",
   "metadata": {},
   "outputs": [],
   "source": [
    "# ques 5\n",
    "\n",
    "arr = np.array([1.1, 2.1, 3.1])\n",
    "\n",
    "newarr = arr.astype(int)\n",
    "\n",
    "print(newarr)\n",
    "print(newarr.dtype)"
   ]
  },
  {
   "cell_type": "code",
   "execution_count": null,
   "id": "52583e66",
   "metadata": {},
   "outputs": [],
   "source": [
    "# ques 6\n",
    "\n",
    "arr = np.array([-1, 0, 3])\n",
    "\n",
    "newarr = arr.astype(bool)\n",
    "\n",
    "print(newarr)\n",
    "print(newarr.dtype)"
   ]
  },
  {
   "cell_type": "markdown",
   "id": "097d7991",
   "metadata": {},
   "source": [
    "### Copying and View"
   ]
  },
  {
   "cell_type": "code",
   "execution_count": null,
   "id": "f3bf6037",
   "metadata": {},
   "outputs": [],
   "source": [
    "# Copy\n",
    "\n",
    "arr = np.array([1, 2, 3, 4, 5])\n",
    "x = arr.copy()\n",
    "arr[0] = 42\n",
    "\n",
    "print(arr)\n",
    "print(x)"
   ]
  },
  {
   "cell_type": "code",
   "execution_count": null,
   "id": "9bc23ce0",
   "metadata": {},
   "outputs": [],
   "source": [
    "# View\n",
    "\n",
    "arr = np.array([1, 2, 3, 4, 5])\n",
    "x = arr.view()\n",
    "arr[0] = 42\n",
    "\n",
    "print(arr)\n",
    "print(x)"
   ]
  },
  {
   "cell_type": "code",
   "execution_count": null,
   "id": "3393a9cb",
   "metadata": {},
   "outputs": [],
   "source": [
    "# ques 6\n",
    "\n",
    "arr = np.array([1, 2, 3, 4, 5])\n",
    "x = arr.view()\n",
    "x[0] = 31\n",
    "\n",
    "print(arr)\n",
    "print(x)"
   ]
  },
  {
   "cell_type": "code",
   "execution_count": null,
   "id": "22d6b5c9",
   "metadata": {},
   "outputs": [],
   "source": [
    "# base attribute - checks array is on its own or refers to the original object\n",
    "\n",
    "arr = np.array([1, 2, 3, 4, 5])\n",
    "\n",
    "x = arr.copy()\n",
    "y = arr.view()\n",
    "\n",
    "print(x.base)\n",
    "print(y.base)"
   ]
  },
  {
   "cell_type": "markdown",
   "id": "1cb27041",
   "metadata": {},
   "source": [
    "### Shape of an Array"
   ]
  },
  {
   "cell_type": "markdown",
   "id": "8d825a8e",
   "metadata": {},
   "source": [
    "- The shape of an array is the number of elements in each dimension.\n",
    "- NumPy arrays have an attribute called shape that returns a tuple with each index having the number of corresponding elements."
   ]
  },
  {
   "cell_type": "code",
   "execution_count": null,
   "id": "978ea7cd",
   "metadata": {},
   "outputs": [],
   "source": [
    "arr = np.array([[1, 2, 3, 4], [5, 6, 7, 8]])\n",
    "\n",
    "print(arr.shape)"
   ]
  },
  {
   "cell_type": "code",
   "execution_count": null,
   "id": "87f00e7e",
   "metadata": {},
   "outputs": [],
   "source": [
    "arr = np.array([1, 2, 3, 4], ndmin=5)\n",
    "\n",
    "print(arr)\n",
    "print('shape of array :', arr.shape)"
   ]
  },
  {
   "cell_type": "code",
   "execution_count": null,
   "id": "bda81d9c",
   "metadata": {},
   "outputs": [],
   "source": [
    "# ques 7\n",
    "\n",
    "arr = np.array([[1, 2, 3], [4, 5, 6]])\n",
    "print(arr.shape)"
   ]
  },
  {
   "cell_type": "markdown",
   "id": "f4e5d424",
   "metadata": {},
   "source": [
    "### Reshaping arrays"
   ]
  },
  {
   "cell_type": "markdown",
   "id": "7a1a4456",
   "metadata": {},
   "source": [
    "- By reshaping we can add or remove dimensions or change number of elements in each dimension."
   ]
  },
  {
   "cell_type": "code",
   "execution_count": null,
   "id": "a7dcadac",
   "metadata": {},
   "outputs": [],
   "source": [
    "# Reshape From 1-D to 2-D\n",
    "\n",
    "arr = np.array([1, 2, 3, 4, 5, 6, 7, 8, 9, 10, 11, 12])\n",
    "\n",
    "newarr = arr.reshape(4, 3)\n",
    "\n",
    "print(newarr)"
   ]
  },
  {
   "cell_type": "code",
   "execution_count": null,
   "id": "ccb5751a",
   "metadata": {},
   "outputs": [],
   "source": [
    "# Reshape From 1-D to 3-D\n",
    "\n",
    "arr = np.array([1, 2, 3, 4, 5, 6, 7, 8, 9, 10, 11, 12])\n",
    "\n",
    "newarr = arr.reshape(2, 3, 2)\n",
    "\n",
    "print(newarr)"
   ]
  },
  {
   "cell_type": "code",
   "execution_count": null,
   "id": "196bfdc0",
   "metadata": {},
   "outputs": [],
   "source": [
    "# ques 7\n",
    "\n",
    "arr = np.array([1, 2, 3, 4, 5, 6, 7, 8])\n",
    "\n",
    "newarr = arr.reshape(3, 3)\n",
    "\n",
    "print(newarr)"
   ]
  },
  {
   "cell_type": "code",
   "execution_count": null,
   "id": "d4672a5a",
   "metadata": {},
   "outputs": [],
   "source": [
    "# Check if the returned array is a copy or a view\n",
    "\n",
    "arr = np.array([1, 2, 3, 4, 5, 6, 7, 8])\n",
    "\n",
    "print(arr.reshape(2, 4).base)"
   ]
  },
  {
   "cell_type": "markdown",
   "id": "1b1f24e9",
   "metadata": {},
   "source": [
    "##### Unknown Dimension"
   ]
  },
  {
   "cell_type": "markdown",
   "id": "d711d445",
   "metadata": {},
   "source": [
    "- We do not have to specify an exact number for one of the dimensions in the reshape method.\n",
    "- Pass -1 as the value, and NumPy will calculate this number for you."
   ]
  },
  {
   "cell_type": "code",
   "execution_count": null,
   "id": "20e2c13c",
   "metadata": {},
   "outputs": [],
   "source": [
    "arr = np.array([1, 2, 3, 4, 5, 6, 7, 8])\n",
    "\n",
    "newarr = arr.reshape(2, -1)\n",
    "\n",
    "print(newarr)"
   ]
  },
  {
   "cell_type": "code",
   "execution_count": null,
   "id": "a4a469f5",
   "metadata": {},
   "outputs": [],
   "source": [
    "# ques 8\n",
    "\n",
    "arr = np.array([1, 2, 3, 4, 5, 6, 7, 8])\n",
    "\n",
    "newarr = arr.reshape(2, -1, -1)\n",
    "\n",
    "print(newarr)"
   ]
  },
  {
   "cell_type": "markdown",
   "id": "5b9e25ba",
   "metadata": {},
   "source": [
    "`We can not pass -1 to more than one dimension.`"
   ]
  },
  {
   "cell_type": "code",
   "execution_count": null,
   "id": "15de7309",
   "metadata": {},
   "outputs": [],
   "source": [
    "# ques 9\n",
    "\n",
    "arr = np.array([[1, 2, 3], [4, 5, 6]])\n",
    "\n",
    "newarr = arr.reshape(-1)\n",
    "\n",
    "print(newarr)"
   ]
  },
  {
   "cell_type": "markdown",
   "id": "0bcc1fc7",
   "metadata": {},
   "source": [
    "`The above concept is called flattening of any array`"
   ]
  },
  {
   "cell_type": "markdown",
   "id": "ea5e432a",
   "metadata": {},
   "source": [
    "### Iterating Arrays"
   ]
  },
  {
   "cell_type": "code",
   "execution_count": null,
   "id": "1060eac9",
   "metadata": {},
   "outputs": [],
   "source": [
    "arr = np.array([1, 2, 3])\n",
    "\n",
    "for x in arr:\n",
    "  print(x)"
   ]
  },
  {
   "cell_type": "markdown",
   "id": "d5bd1a24",
   "metadata": {},
   "source": [
    "##### Iterating 2-D Arrays"
   ]
  },
  {
   "cell_type": "code",
   "execution_count": null,
   "id": "52806992",
   "metadata": {},
   "outputs": [],
   "source": [
    "# Iterate on the elements of the following 2-D array:\n",
    "\n",
    "arr = np.array([[1, 2, 3], [4, 5, 6]])\n",
    "\n",
    "for x in arr:\n",
    "  print(x)"
   ]
  },
  {
   "cell_type": "code",
   "execution_count": null,
   "id": "4553126b",
   "metadata": {},
   "outputs": [],
   "source": [
    "# Iterate on each scalar element of the 2-D array:\n",
    "\n",
    "arr = np.array([[1, 2, 3], [4, 5, 6]])\n",
    "\n",
    "for x in arr:\n",
    "  for y in x:\n",
    "    print(y)"
   ]
  },
  {
   "cell_type": "markdown",
   "id": "97875eff",
   "metadata": {},
   "source": [
    "##### Iterating 3-D Arrays"
   ]
  },
  {
   "cell_type": "code",
   "execution_count": null,
   "id": "529af96a",
   "metadata": {},
   "outputs": [],
   "source": [
    "# Iterate on the elements of the following 3-D array:\n",
    "\n",
    "arr = np.array([[[1, 2, 3], [4, 5, 6]], [[7, 8, 9], [10, 11, 12]]])\n",
    "\n",
    "for x in arr:\n",
    "  print(x)"
   ]
  },
  {
   "cell_type": "code",
   "execution_count": null,
   "id": "59544d26",
   "metadata": {},
   "outputs": [],
   "source": [
    "# Iterate down to the scalars:\n",
    "\n",
    "arr = np.array([[[1, 2, 3], [4, 5, 6]], [[7, 8, 9], [10, 11, 12]]])\n",
    "\n",
    "for x in arr:\n",
    "  for y in x:\n",
    "    for z in y:\n",
    "      print(z)"
   ]
  },
  {
   "cell_type": "markdown",
   "id": "41b6909a",
   "metadata": {},
   "source": [
    "##### Iterating Arrays Using nditer()"
   ]
  },
  {
   "cell_type": "code",
   "execution_count": null,
   "id": "db4be948",
   "metadata": {},
   "outputs": [],
   "source": [
    "#Iterating on Each Scalar Element\n",
    "\n",
    "arr = np.array([[[1, 2], [3, 4]], [[5, 6], [7, 8]]])\n",
    "\n",
    "for x in np.nditer(arr):\n",
    "  print(x)"
   ]
  },
  {
   "cell_type": "code",
   "execution_count": null,
   "id": "9102122a",
   "metadata": {},
   "outputs": [],
   "source": [
    "# Iterating Array With Different Data Types\n",
    "\n",
    "import numpy as np\n",
    "\n",
    "arr = np.array([1, 2, 3])\n",
    "\n",
    "for x in np.nditer(arr, flags=['buffered'], op_dtypes=['S']):\n",
    "  print(x)"
   ]
  },
  {
   "cell_type": "code",
   "execution_count": null,
   "id": "a84f6cc4",
   "metadata": {},
   "outputs": [],
   "source": [
    "# Iterating With Different Step Size\n",
    "\n",
    "arr = np.array([[1, 2, 3, 4], [5, 6, 7, 8]])\n",
    "\n",
    "for x in np.nditer(arr[:, ::2]):\n",
    "  print(x)"
   ]
  },
  {
   "cell_type": "code",
   "execution_count": 426,
   "id": "70642b41",
   "metadata": {},
   "outputs": [
    {
     "name": "stdout",
     "output_type": "stream",
     "text": [
      "(0,) 1\n",
      "(1,) 2\n",
      "(2,) 3\n"
     ]
    }
   ],
   "source": [
    "# Enumerated Iteration Using ndenumerate()\n",
    "\n",
    "arr = np.array([1, 2, 3])\n",
    "\n",
    "for idx, x in np.ndenumerate(arr):\n",
    "  print(idx, x)"
   ]
  },
  {
   "cell_type": "code",
   "execution_count": 427,
   "id": "5bb233b2",
   "metadata": {},
   "outputs": [
    {
     "name": "stdout",
     "output_type": "stream",
     "text": [
      "(0, 0) 1\n",
      "(0, 1) 2\n",
      "(0, 2) 3\n",
      "(0, 3) 4\n",
      "(1, 0) 5\n",
      "(1, 1) 6\n",
      "(1, 2) 7\n",
      "(1, 3) 8\n"
     ]
    }
   ],
   "source": [
    "# Enumerate on following 2D array's elements:\n",
    "\n",
    "arr = np.array([[1, 2, 3, 4], [5, 6, 7, 8]])\n",
    "\n",
    "for idx, x in np.ndenumerate(arr):\n",
    "  print(idx, x)"
   ]
  },
  {
   "cell_type": "markdown",
   "id": "dab1c9a4",
   "metadata": {},
   "source": [
    "### Joining NumPy Arrays"
   ]
  },
  {
   "cell_type": "markdown",
   "id": "2fe9652b",
   "metadata": {},
   "source": [
    "- Joining means putting contents of two or more arrays in a single array\n",
    "- NumPy we join arrays by axes\n",
    "- We pass a sequence of arrays that we want to join to the concatenate() function, along with the axis. If axis is not explicitly passed, it is taken as 0."
   ]
  },
  {
   "cell_type": "markdown",
   "id": "9544d40b",
   "metadata": {},
   "source": [
    "##### Joining Arrays Using Concatenate"
   ]
  },
  {
   "cell_type": "code",
   "execution_count": 428,
   "id": "54678563",
   "metadata": {},
   "outputs": [
    {
     "name": "stdout",
     "output_type": "stream",
     "text": [
      "[1 2 3 4 5 6]\n"
     ]
    }
   ],
   "source": [
    "arr1 = np.array([1, 2, 3])\n",
    "\n",
    "arr2 = np.array([4, 5, 6])\n",
    "\n",
    "arr = np.concatenate((arr1, arr2), axis=0)\n",
    "\n",
    "print(arr)"
   ]
  },
  {
   "cell_type": "code",
   "execution_count": 429,
   "id": "edce8b67",
   "metadata": {},
   "outputs": [
    {
     "name": "stdout",
     "output_type": "stream",
     "text": [
      "[[1 2 5 6]\n",
      " [3 4 7 8]]\n"
     ]
    }
   ],
   "source": [
    "arr1 = np.array([[1, 2], [3, 4]])\n",
    "\n",
    "arr2 = np.array([[5, 6], [7, 8]])\n",
    "\n",
    "arr = np.concatenate((arr1, arr2), axis=1)\n",
    "\n",
    "print(arr)"
   ]
  },
  {
   "cell_type": "markdown",
   "id": "f5c5f50a",
   "metadata": {},
   "source": [
    "##### Joining Arrays Using Stack Functions"
   ]
  },
  {
   "cell_type": "markdown",
   "id": "6b2f34c5",
   "metadata": {},
   "source": [
    "- Stacking is same as concatenation, the only difference is that stacking is done along a new axis."
   ]
  },
  {
   "cell_type": "code",
   "execution_count": 430,
   "id": "e8cb8226",
   "metadata": {},
   "outputs": [
    {
     "name": "stdout",
     "output_type": "stream",
     "text": [
      "[[1 2 3]\n",
      " [4 5 6]]\n"
     ]
    }
   ],
   "source": [
    "arr1 = np.array([1, 2, 3])\n",
    "\n",
    "arr2 = np.array([4, 5, 6])\n",
    "\n",
    "arr = np.stack((arr1, arr2))\n",
    "\n",
    "print(arr)"
   ]
  },
  {
   "cell_type": "code",
   "execution_count": 431,
   "id": "bd477692",
   "metadata": {},
   "outputs": [
    {
     "name": "stdout",
     "output_type": "stream",
     "text": [
      "[1 2 3 4 5 6]\n"
     ]
    }
   ],
   "source": [
    "# hstack() to stack along rows.\n",
    "\n",
    "arr1 = np.array([1, 2, 3])\n",
    "\n",
    "arr2 = np.array([4, 5, 6])\n",
    "\n",
    "arr = np.hstack((arr1, arr2))\n",
    "\n",
    "print(arr)"
   ]
  },
  {
   "cell_type": "code",
   "execution_count": 432,
   "id": "5508a9e5",
   "metadata": {},
   "outputs": [
    {
     "name": "stdout",
     "output_type": "stream",
     "text": [
      "[[1 2 3]\n",
      " [4 5 6]]\n"
     ]
    }
   ],
   "source": [
    "# vstack()  to stack along columns.\n",
    "\n",
    "arr1 = np.array([1, 2, 3])\n",
    "\n",
    "arr2 = np.array([4, 5, 6])\n",
    "\n",
    "arr = np.vstack((arr1, arr2))\n",
    "\n",
    "print(arr)"
   ]
  },
  {
   "cell_type": "code",
   "execution_count": 433,
   "id": "6aa4726b",
   "metadata": {},
   "outputs": [
    {
     "name": "stdout",
     "output_type": "stream",
     "text": [
      "[[[1 4]\n",
      "  [2 5]\n",
      "  [3 6]]]\n"
     ]
    }
   ],
   "source": [
    "# dstack() to stack along height, which is the same as depth.\n",
    "\n",
    "arr1 = np.array([1, 2, 3])\n",
    "\n",
    "arr2 = np.array([4, 5, 6])\n",
    "\n",
    "arr = np.dstack((arr1, arr2))\n",
    "\n",
    "print(arr)"
   ]
  },
  {
   "cell_type": "markdown",
   "id": "a4acd5cb",
   "metadata": {},
   "source": [
    "### Splitting NumPy Arrays"
   ]
  },
  {
   "cell_type": "markdown",
   "id": "71bfe2ae",
   "metadata": {},
   "source": [
    "- Splitting is reverse operation of Joining.\n",
    "- Joining merges multiple arrays into one and Splitting breaks one array into multiple.\n",
    "- We use array_split() for splitting arrays, we pass it the array we want to split and the number of splits."
   ]
  },
  {
   "cell_type": "code",
   "execution_count": 434,
   "id": "b91aa209",
   "metadata": {},
   "outputs": [
    {
     "name": "stdout",
     "output_type": "stream",
     "text": [
      "[array([1, 2]), array([3, 4]), array([5, 6])]\n"
     ]
    }
   ],
   "source": [
    "arr = np.array([1, 2, 3, 4, 5, 6])\n",
    "\n",
    "newarr = np.array_split(arr, 3)\n",
    "\n",
    "print(newarr)"
   ]
  },
  {
   "cell_type": "code",
   "execution_count": 435,
   "id": "ff2e156d",
   "metadata": {},
   "outputs": [
    {
     "name": "stdout",
     "output_type": "stream",
     "text": [
      "[array([1, 2]), array([3, 4]), array([5]), array([6])]\n"
     ]
    }
   ],
   "source": [
    "arr = np.array([1, 2, 3, 4, 5, 6])\n",
    "\n",
    "newarr = np.array_split(arr, 4)\n",
    "\n",
    "print(newarr)"
   ]
  },
  {
   "cell_type": "code",
   "execution_count": 436,
   "id": "e0f69a54",
   "metadata": {},
   "outputs": [
    {
     "ename": "ValueError",
     "evalue": "array split does not result in an equal division",
     "output_type": "error",
     "traceback": [
      "\u001b[1;31m---------------------------------------------------------------------------\u001b[0m",
      "\u001b[1;31mValueError\u001b[0m                                Traceback (most recent call last)",
      "\u001b[1;32mC:\\Users\\LAKSHA~1.RAZ\\AppData\\Local\\Temp/ipykernel_2460/934031318.py\u001b[0m in \u001b[0;36m<module>\u001b[1;34m\u001b[0m\n\u001b[0;32m      3\u001b[0m \u001b[0mxarr\u001b[0m \u001b[1;33m=\u001b[0m \u001b[0mnp\u001b[0m\u001b[1;33m.\u001b[0m\u001b[0marray\u001b[0m\u001b[1;33m(\u001b[0m\u001b[1;33m[\u001b[0m\u001b[1;36m1\u001b[0m\u001b[1;33m,\u001b[0m \u001b[1;36m2\u001b[0m\u001b[1;33m,\u001b[0m \u001b[1;36m3\u001b[0m\u001b[1;33m,\u001b[0m \u001b[1;36m4\u001b[0m\u001b[1;33m,\u001b[0m \u001b[1;36m5\u001b[0m\u001b[1;33m,\u001b[0m \u001b[1;36m6\u001b[0m\u001b[1;33m,\u001b[0m \u001b[1;36m7\u001b[0m\u001b[1;33m]\u001b[0m\u001b[1;33m)\u001b[0m\u001b[1;33m\u001b[0m\u001b[1;33m\u001b[0m\u001b[0m\n\u001b[0;32m      4\u001b[0m \u001b[1;33m\u001b[0m\u001b[0m\n\u001b[1;32m----> 5\u001b[1;33m \u001b[0mnewarr\u001b[0m \u001b[1;33m=\u001b[0m \u001b[0mnp\u001b[0m\u001b[1;33m.\u001b[0m\u001b[0msplit\u001b[0m\u001b[1;33m(\u001b[0m\u001b[0mxarr\u001b[0m\u001b[1;33m,\u001b[0m \u001b[1;36m4\u001b[0m\u001b[1;33m)\u001b[0m\u001b[1;33m\u001b[0m\u001b[1;33m\u001b[0m\u001b[0m\n\u001b[0m\u001b[0;32m      6\u001b[0m \u001b[1;33m\u001b[0m\u001b[0m\n\u001b[0;32m      7\u001b[0m \u001b[0mprint\u001b[0m\u001b[1;33m(\u001b[0m\u001b[0mnewarr\u001b[0m\u001b[1;33m)\u001b[0m\u001b[1;33m\u001b[0m\u001b[1;33m\u001b[0m\u001b[0m\n",
      "\u001b[1;32m<__array_function__ internals>\u001b[0m in \u001b[0;36msplit\u001b[1;34m(*args, **kwargs)\u001b[0m\n",
      "\u001b[1;32mC:\\anaconda3\\lib\\site-packages\\numpy\\lib\\shape_base.py\u001b[0m in \u001b[0;36msplit\u001b[1;34m(ary, indices_or_sections, axis)\u001b[0m\n\u001b[0;32m    870\u001b[0m         \u001b[0mN\u001b[0m \u001b[1;33m=\u001b[0m \u001b[0mary\u001b[0m\u001b[1;33m.\u001b[0m\u001b[0mshape\u001b[0m\u001b[1;33m[\u001b[0m\u001b[0maxis\u001b[0m\u001b[1;33m]\u001b[0m\u001b[1;33m\u001b[0m\u001b[1;33m\u001b[0m\u001b[0m\n\u001b[0;32m    871\u001b[0m         \u001b[1;32mif\u001b[0m \u001b[0mN\u001b[0m \u001b[1;33m%\u001b[0m \u001b[0msections\u001b[0m\u001b[1;33m:\u001b[0m\u001b[1;33m\u001b[0m\u001b[1;33m\u001b[0m\u001b[0m\n\u001b[1;32m--> 872\u001b[1;33m             raise ValueError(\n\u001b[0m\u001b[0;32m    873\u001b[0m                 'array split does not result in an equal division') from None\n\u001b[0;32m    874\u001b[0m     \u001b[1;32mreturn\u001b[0m \u001b[0marray_split\u001b[0m\u001b[1;33m(\u001b[0m\u001b[0mary\u001b[0m\u001b[1;33m,\u001b[0m \u001b[0mindices_or_sections\u001b[0m\u001b[1;33m,\u001b[0m \u001b[0maxis\u001b[0m\u001b[1;33m)\u001b[0m\u001b[1;33m\u001b[0m\u001b[1;33m\u001b[0m\u001b[0m\n",
      "\u001b[1;31mValueError\u001b[0m: array split does not result in an equal division"
     ]
    }
   ],
   "source": [
    "#using split function\n",
    "\n",
    "xarr = np.array([1, 2, 3, 4, 5, 6, 7])\n",
    "\n",
    "newarr = np.split(xarr, 4)\n",
    "\n",
    "print(newarr)"
   ]
  },
  {
   "cell_type": "code",
   "execution_count": 437,
   "id": "67223884",
   "metadata": {},
   "outputs": [
    {
     "name": "stdout",
     "output_type": "stream",
     "text": [
      "[1 2]\n",
      "[3 4]\n",
      "[5 6]\n"
     ]
    }
   ],
   "source": [
    "# accessing splited arrays\n",
    "\n",
    "arr = np.array([1, 2, 3, 4, 5, 6])\n",
    "\n",
    "newarr = np.array_split(arr, 3)\n",
    "\n",
    "print(newarr[0])\n",
    "print(newarr[1])\n",
    "print(newarr[2])"
   ]
  },
  {
   "cell_type": "code",
   "execution_count": 438,
   "id": "f6660d3a",
   "metadata": {},
   "outputs": [
    {
     "name": "stdout",
     "output_type": "stream",
     "text": [
      "[array([[1, 2],\n",
      "       [3, 4]]), array([[5, 6],\n",
      "       [7, 8]]), array([[ 9, 10],\n",
      "       [11, 12]])]\n"
     ]
    }
   ],
   "source": [
    "arr = np.array([[1, 2], [3, 4], [5, 6], [7, 8], [9, 10], [11, 12]])\n",
    "\n",
    "newarr = np.array_split(arr, 3)\n",
    "\n",
    "print(newarr)"
   ]
  },
  {
   "cell_type": "code",
   "execution_count": 439,
   "id": "fbf67836",
   "metadata": {},
   "outputs": [
    {
     "name": "stdout",
     "output_type": "stream",
     "text": [
      "[array([[ 1],\n",
      "       [ 4],\n",
      "       [ 7],\n",
      "       [10],\n",
      "       [13],\n",
      "       [16]]), array([[ 2],\n",
      "       [ 5],\n",
      "       [ 8],\n",
      "       [11],\n",
      "       [14],\n",
      "       [17]]), array([[ 3],\n",
      "       [ 6],\n",
      "       [ 9],\n",
      "       [12],\n",
      "       [15],\n",
      "       [18]])]\n"
     ]
    }
   ],
   "source": [
    "# An alternate solution is using hsplit() opposite of hstack()\n",
    "\n",
    "arr = np.array([[1, 2, 3], [4, 5, 6], [7, 8, 9], [10, 11, 12], [13, 14, 15], [16, 17, 18]])\n",
    "\n",
    "newarr = np.hsplit(arr, 3)\n",
    "\n",
    "print(newarr)"
   ]
  },
  {
   "cell_type": "markdown",
   "id": "6e279b27",
   "metadata": {},
   "source": [
    "### Searching Arrays"
   ]
  },
  {
   "cell_type": "markdown",
   "id": "f0e71fad",
   "metadata": {},
   "source": [
    "- You can search an array for a certain value, and return the indexes that get a match.\n",
    "- To search an array, use the where() method."
   ]
  },
  {
   "cell_type": "code",
   "execution_count": 440,
   "id": "5c4ea025",
   "metadata": {},
   "outputs": [
    {
     "name": "stdout",
     "output_type": "stream",
     "text": [
      "(array([3, 5, 6], dtype=int64),)\n"
     ]
    }
   ],
   "source": [
    "arr = np.array([1, 2, 3, 4, 5, 4, 4])\n",
    "\n",
    "x = np.where(arr == 4)\n",
    "\n",
    "print(x)"
   ]
  },
  {
   "cell_type": "code",
   "execution_count": null,
   "id": "b580f844",
   "metadata": {},
   "outputs": [],
   "source": [
    "np.where(arr == 4)"
   ]
  },
  {
   "cell_type": "code",
   "execution_count": 441,
   "id": "5049990a",
   "metadata": {},
   "outputs": [
    {
     "name": "stdout",
     "output_type": "stream",
     "text": [
      "(array([1, 3, 5, 7], dtype=int64),)\n"
     ]
    }
   ],
   "source": [
    "arr = np.array([1, 2, 3, 4, 5, 6, 7, 8])\n",
    "\n",
    "x = np.where(arr%2 == 0)\n",
    "\n",
    "print(x)"
   ]
  },
  {
   "cell_type": "markdown",
   "id": "1d0c7542",
   "metadata": {},
   "source": [
    "##### Search Sorted"
   ]
  },
  {
   "cell_type": "markdown",
   "id": "ca64ad96",
   "metadata": {},
   "source": [
    "There is a method called searchsorted() which performs a binary search in the array, and returns the index where the specified value would be inserted to maintain the search order."
   ]
  },
  {
   "cell_type": "code",
   "execution_count": 442,
   "id": "6b30d21b",
   "metadata": {},
   "outputs": [
    {
     "name": "stdout",
     "output_type": "stream",
     "text": [
      "2\n"
     ]
    }
   ],
   "source": [
    "arr = np.array([6, 7, 9, 10])\n",
    "\n",
    "x = np.searchsorted(arr, 8)\n",
    "\n",
    "print(x)"
   ]
  },
  {
   "cell_type": "code",
   "execution_count": 443,
   "id": "86654ee4",
   "metadata": {},
   "outputs": [
    {
     "name": "stdout",
     "output_type": "stream",
     "text": [
      "1\n"
     ]
    }
   ],
   "source": [
    "# ques\n",
    "\n",
    "arr = np.array([6, 7, 8, 9])\n",
    "\n",
    "x = np.searchsorted(arr, 7)\n",
    "\n",
    "print(x)"
   ]
  },
  {
   "cell_type": "markdown",
   "id": "dd9663c2",
   "metadata": {},
   "source": [
    "##### Search From the Right Side\n",
    "By default the left most index is returned, but we can give side='right' to return the right most index instead."
   ]
  },
  {
   "cell_type": "code",
   "execution_count": 444,
   "id": "0a80f068",
   "metadata": {},
   "outputs": [
    {
     "name": "stdout",
     "output_type": "stream",
     "text": [
      "2\n"
     ]
    }
   ],
   "source": [
    "arr = np.array([6, 7, 8, 9])\n",
    "\n",
    "x = np.searchsorted(arr, 7, side='right')\n",
    "\n",
    "print(x)"
   ]
  },
  {
   "cell_type": "markdown",
   "id": "670d6e79",
   "metadata": {},
   "source": [
    "### Sorting Arrays"
   ]
  },
  {
   "cell_type": "markdown",
   "id": "70f5b546",
   "metadata": {},
   "source": [
    "- The NumPy ndarray object has a function called sort(), that will sort a specified array.\n",
    "- This method returns a copy of the array, leaving the original array unchanged."
   ]
  },
  {
   "cell_type": "code",
   "execution_count": 445,
   "id": "286d9727",
   "metadata": {},
   "outputs": [
    {
     "name": "stdout",
     "output_type": "stream",
     "text": [
      "[0 1 2 3]\n"
     ]
    }
   ],
   "source": [
    "arr = np.array([3, 2, 0, 1])\n",
    "\n",
    "print(np.sort(arr))"
   ]
  },
  {
   "cell_type": "code",
   "execution_count": 446,
   "id": "53b6f634",
   "metadata": {},
   "outputs": [
    {
     "name": "stdout",
     "output_type": "stream",
     "text": [
      "['apple' 'banana' 'cherry']\n"
     ]
    }
   ],
   "source": [
    "arr = np.array(['banana', 'cherry', 'apple'])\n",
    "\n",
    "print(np.sort(arr))"
   ]
  },
  {
   "cell_type": "code",
   "execution_count": 447,
   "id": "90e8e6fa",
   "metadata": {},
   "outputs": [
    {
     "name": "stdout",
     "output_type": "stream",
     "text": [
      "[False  True  True]\n"
     ]
    }
   ],
   "source": [
    "\n",
    "arr = np.array([True, False, True])\n",
    "\n",
    "print(np.sort(arr))"
   ]
  },
  {
   "cell_type": "markdown",
   "id": "471622ec",
   "metadata": {},
   "source": [
    "##### Sorting a 2-D Array"
   ]
  },
  {
   "cell_type": "code",
   "execution_count": 448,
   "id": "91ea2a53",
   "metadata": {},
   "outputs": [
    {
     "name": "stdout",
     "output_type": "stream",
     "text": [
      "[[2 3 4]\n",
      " [0 1 5]]\n"
     ]
    }
   ],
   "source": [
    "arr = np.array([[3, 2, 4], [5, 0, 1]])\n",
    "\n",
    "print(np.sort(arr))"
   ]
  },
  {
   "cell_type": "markdown",
   "id": "3b5f7916",
   "metadata": {},
   "source": [
    "### Filtering Arrays"
   ]
  },
  {
   "cell_type": "code",
   "execution_count": 449,
   "id": "dc3422a6",
   "metadata": {},
   "outputs": [
    {
     "name": "stdout",
     "output_type": "stream",
     "text": [
      "[41 43]\n"
     ]
    }
   ],
   "source": [
    "#Using boolean index list\n",
    "\n",
    "arr = np.array([41, 42, 43, 44])\n",
    "\n",
    "x = [True, False, True, False]\n",
    "\n",
    "newarr = arr[x]\n",
    "\n",
    "print(newarr)"
   ]
  },
  {
   "cell_type": "code",
   "execution_count": null,
   "id": "ab505b26",
   "metadata": {},
   "outputs": [],
   "source": [
    "# Creating the Filter Array\n",
    "\n",
    "arr = np.array([41, 42, 43, 44])\n",
    "\n",
    "# Create an empty list\n",
    "filter_arr = []\n",
    "\n",
    "# go through each element in arr\n",
    "for element in arr:\n",
    "  # if the element is higher than 42, set the value to True, otherwise False:\n",
    "  if element > 42:\n",
    "    filter_arr.append(True)\n",
    "  else:\n",
    "    filter_arr.append(False)\n",
    "\n",
    "newarr = arr[filter_arr]\n",
    "\n",
    "print(filter_arr)\n",
    "print(newarr)"
   ]
  },
  {
   "cell_type": "code",
   "execution_count": null,
   "id": "0a44cc60",
   "metadata": {},
   "outputs": [],
   "source": [
    "# Create a filter array that will return only even elements from the original array\n",
    "\n",
    "arr = np.array([1, 2, 3, 4, 5, 6, 7])\n",
    "\n",
    "# Create an empty list\n",
    "filter_arr = []\n",
    "\n",
    "# go through each element in arr\n",
    "for element in arr:\n",
    "  # if the element is completely divisble by 2, set the value to True, otherwise False\n",
    "  if element % 2 == 0:\n",
    "    filter_arr.append(True)\n",
    "  else:\n",
    "    filter_arr.append(False)\n",
    "\n",
    "newarr = arr[filter_arr]\n",
    "\n",
    "print(filter_arr)\n",
    "print(newarr)"
   ]
  },
  {
   "cell_type": "markdown",
   "id": "eaa53074",
   "metadata": {},
   "source": [
    "##### Creating Filter Directly From Array"
   ]
  },
  {
   "cell_type": "code",
   "execution_count": 450,
   "id": "4f76cf77",
   "metadata": {},
   "outputs": [
    {
     "name": "stdout",
     "output_type": "stream",
     "text": [
      "[False False  True  True]\n",
      "[43 44]\n"
     ]
    }
   ],
   "source": [
    "arr = np.array([41, 42, 43, 44])\n",
    "\n",
    "filter_arr = arr > 42\n",
    "\n",
    "newarr = arr[filter_arr]\n",
    "\n",
    "print(filter_arr)\n",
    "print(newarr)"
   ]
  },
  {
   "cell_type": "code",
   "execution_count": 451,
   "id": "c5e7deb3",
   "metadata": {},
   "outputs": [
    {
     "name": "stdout",
     "output_type": "stream",
     "text": [
      "[False  True False  True False  True False]\n",
      "[2 4 6]\n"
     ]
    }
   ],
   "source": [
    "arr = np.array([1, 2, 3, 4, 5, 6, 7])\n",
    "\n",
    "filter_arr = arr % 2 == 0\n",
    "\n",
    "newarr = arr[filter_arr]\n",
    "\n",
    "print(filter_arr)\n",
    "print(newarr)"
   ]
  },
  {
   "cell_type": "markdown",
   "id": "fcb112f2",
   "metadata": {},
   "source": [
    "### Random Numbers in NumPy"
   ]
  },
  {
   "cell_type": "code",
   "execution_count": 492,
   "id": "5dd25a62",
   "metadata": {},
   "outputs": [
    {
     "name": "stdout",
     "output_type": "stream",
     "text": [
      "5\n"
     ]
    }
   ],
   "source": [
    "# Generate a random integer from 0 to 100:\n",
    "\n",
    "x = np.random.randint(10)\n",
    "\n",
    "print(x)"
   ]
  },
  {
   "cell_type": "code",
   "execution_count": 480,
   "id": "b9596a39",
   "metadata": {},
   "outputs": [
    {
     "name": "stdout",
     "output_type": "stream",
     "text": [
      "0.6898005584064433\n"
     ]
    }
   ],
   "source": [
    "# Generate a random float from 0 to 1:\n",
    "\n",
    "x = np.random.rand()\n",
    "\n",
    "print(x)"
   ]
  },
  {
   "cell_type": "markdown",
   "id": "acfbdb86",
   "metadata": {},
   "source": [
    "##### Generate Random Array\n",
    "\n",
    "The randint() method takes a size parameter where you can specify the shape of an array."
   ]
  },
  {
   "cell_type": "code",
   "execution_count": 505,
   "id": "ce3ea7ce",
   "metadata": {},
   "outputs": [
    {
     "name": "stdout",
     "output_type": "stream",
     "text": [
      "[23 94 25 25 52]\n"
     ]
    }
   ],
   "source": [
    "x = np.random.randint(100, size=(5))\n",
    "\n",
    "print(x)"
   ]
  },
  {
   "cell_type": "code",
   "execution_count": 506,
   "id": "1d3a85a4",
   "metadata": {},
   "outputs": [
    {
     "name": "stdout",
     "output_type": "stream",
     "text": [
      "[[84 85  9 10 48]\n",
      " [74 24 58 43 27]\n",
      " [36 34  7 15 71]]\n"
     ]
    }
   ],
   "source": [
    "# Generating 2-D random arrays\n",
    "\n",
    "x = np.random.randint(100, size=(3, 5))\n",
    "\n",
    "print(x)\n"
   ]
  },
  {
   "cell_type": "code",
   "execution_count": 507,
   "id": "861a8f05",
   "metadata": {},
   "outputs": [
    {
     "name": "stdout",
     "output_type": "stream",
     "text": [
      "[[0.81387052 0.06299836 0.04177378 0.33309998 0.10299085]\n",
      " [0.35489152 0.61131406 0.79022588 0.94596629 0.07644873]\n",
      " [0.95043253 0.11546397 0.80435382 0.72335033 0.70633874]]\n"
     ]
    }
   ],
   "source": [
    "# ques 8\n",
    "\n",
    "x = np.random.rand(3, 5)\n",
    "\n",
    "print(x)"
   ]
  },
  {
   "cell_type": "markdown",
   "id": "c5c65d27",
   "metadata": {},
   "source": [
    "##### Generate Random Number From Array\n",
    "\n",
    "- choice() method allows you to generate a random value based on an array of values.\n",
    "- It takes an array as a parameter and randomly returns one of the values."
   ]
  },
  {
   "cell_type": "code",
   "execution_count": 530,
   "id": "3cb5e23d",
   "metadata": {},
   "outputs": [
    {
     "name": "stdout",
     "output_type": "stream",
     "text": [
      "7\n"
     ]
    }
   ],
   "source": [
    "x = np.random.choice([3, 5, 7, 9])\n",
    "\n",
    "print(x)"
   ]
  },
  {
   "cell_type": "markdown",
   "id": "2be29da9",
   "metadata": {},
   "source": [
    "- It also allows you to return an array of values.\n",
    "- Add a size parameter to specify the shape of the array."
   ]
  },
  {
   "cell_type": "code",
   "execution_count": null,
   "id": "0fb698b2",
   "metadata": {},
   "outputs": [],
   "source": [
    "# creating a 2-D array using choice\n",
    "\n",
    "x = np.random.choice([3, 5, 7, 9], size=(3, 5))\n",
    "\n",
    "print(x)"
   ]
  }
 ],
 "metadata": {
  "kernelspec": {
   "display_name": "Python 3 (ipykernel)",
   "language": "python",
   "name": "python3"
  },
  "language_info": {
   "codemirror_mode": {
    "name": "ipython",
    "version": 3
   },
   "file_extension": ".py",
   "mimetype": "text/x-python",
   "name": "python",
   "nbconvert_exporter": "python",
   "pygments_lexer": "ipython3",
   "version": "3.9.7"
  }
 },
 "nbformat": 4,
 "nbformat_minor": 5
}
